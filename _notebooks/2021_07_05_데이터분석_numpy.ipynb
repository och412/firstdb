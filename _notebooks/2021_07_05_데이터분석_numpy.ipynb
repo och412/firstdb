{
  "nbformat": 4,
  "nbformat_minor": 0,
  "metadata": {
    "colab": {
      "name": "2021_07_05_데이터분석_numpy.ipynb",
      "provenance": []
    },
    "kernelspec": {
      "name": "python3",
      "display_name": "Python 3"
    },
    "language_info": {
      "name": "python"
    }
  },
  "cells": [
    {
      "cell_type": "markdown",
      "metadata": {
        "id": "erOAuqdfSxj_"
      },
      "source": [
        "# \"데이터 분석 numpy 기초 문법 노트북\"\n",
        "\n",
        "> \"2021년 여름방학 데이터분석을 위한 numpy 기초문법\"\n",
        "\n",
        "- toc:true\n",
        "- branch: master\n",
        "- badges: true\n",
        "- comments: true\n",
        "- author: OH CHUNGHYEON\n",
        "- categories: [python, 데이터분석, numpy]"
      ]
    },
    {
      "cell_type": "code",
      "metadata": {
        "colab": {
          "base_uri": "https://localhost:8080/"
        },
        "id": "Qo6q0PjUSsPN",
        "outputId": "f76f5ece-9cd0-4c10-83e8-3887471248c7"
      },
      "source": [
        "리스트 = [[1,2,3], [4, 5, 6], [7, 8, 9]]\n",
        "리스트[0][0]\n",
        "리스트[0]\n",
        "리스트[2][0]\n",
        "\n",
        "리스트*2"
      ],
      "execution_count": 4,
      "outputs": [
        {
          "output_type": "execute_result",
          "data": {
            "text/plain": [
              "[[1, 2, 3], [4, 5, 6], [7, 8, 9], [1, 2, 3], [4, 5, 6], [7, 8, 9]]"
            ]
          },
          "metadata": {
            "tags": []
          },
          "execution_count": 4
        }
      ]
    },
    {
      "cell_type": "code",
      "metadata": {
        "colab": {
          "base_uri": "https://localhost:8080/"
        },
        "id": "-zp_SL6FVhjM",
        "outputId": "141c2b80-45c2-4c01-c8de-9e4d86a55248"
      },
      "source": [
        "import numpy as np\n",
        "\n",
        "리스트 = [[1,2,3], [4, 5, 6], [7, 8, 9]]\n",
        "리스트 = np.array(리스트)\n",
        "\n",
        "리스트 * 2\n",
        "리스트 + 100\n"
      ],
      "execution_count": 7,
      "outputs": [
        {
          "output_type": "execute_result",
          "data": {
            "text/plain": [
              "array([[101, 102, 103],\n",
              "       [104, 105, 106],\n",
              "       [107, 108, 109]])"
            ]
          },
          "metadata": {
            "tags": []
          },
          "execution_count": 7
        }
      ]
    },
    {
      "cell_type": "code",
      "metadata": {
        "colab": {
          "base_uri": "https://localhost:8080/"
        },
        "id": "C67ormlkVt-l",
        "outputId": "9b76c2a4-3b5c-4c78-c5cc-900f251ab67c"
      },
      "source": [
        "a = np.arange(15).reshape(3, 5) #arange에서 0~14까지 나열하고, 3열5줄로 재형성하는 코드임.\n",
        "\n",
        "a"
      ],
      "execution_count": 10,
      "outputs": [
        {
          "output_type": "execute_result",
          "data": {
            "text/plain": [
              "array([[ 0,  1,  2,  3,  4],\n",
              "       [ 5,  6,  7,  8,  9],\n",
              "       [10, 11, 12, 13, 14]])"
            ]
          },
          "metadata": {
            "tags": []
          },
          "execution_count": 10
        }
      ]
    },
    {
      "cell_type": "code",
      "metadata": {
        "colab": {
          "base_uri": "https://localhost:8080/"
        },
        "id": "895kTZ7VWQO1",
        "outputId": "af9043ea-2f74-4ec3-b044-2302b1168e9a"
      },
      "source": [
        "a = np.arange(20).reshape(2, 2, 5) #arange에서 0~14까지 나열하고, 3열5줄로 재형성하는 코드임.\n",
        "\n",
        "a\n",
        "\n",
        "a[0]\n",
        "a[0][0]\n",
        "a[0][0][3]\n",
        "\n",
        "a"
      ],
      "execution_count": 20,
      "outputs": [
        {
          "output_type": "execute_result",
          "data": {
            "text/plain": [
              "array([[[ 0,  1,  2,  3,  4],\n",
              "        [ 5,  6,  7,  8,  9]],\n",
              "\n",
              "       [[10, 11, 12, 13, 14],\n",
              "        [15, 16, 17, 18, 19]]])"
            ]
          },
          "metadata": {
            "tags": []
          },
          "execution_count": 20
        }
      ]
    },
    {
      "cell_type": "code",
      "metadata": {
        "colab": {
          "base_uri": "https://localhost:8080/"
        },
        "id": "nQktwm55WtDl",
        "outputId": "177f91fa-3997-4249-d251-dfcf826a9e99"
      },
      "source": [
        "a = np.arange(15).reshape(3, 5)\n",
        "\n",
        "a\n",
        "a.shape       # 행렬 개수\n",
        "a.ndim        # 차원의 개수\n",
        "a.dtype.name  # 데이터 넓이?? 크기?? 2진수ㄷㄷ\n",
        "a.itemsize    # 거의 볼 일 없음...\n",
        "a.size        # flat한 데이터 사이즈 \n",
        "type(a)       # a의 타입\n"
      ],
      "execution_count": 27,
      "outputs": [
        {
          "output_type": "execute_result",
          "data": {
            "text/plain": [
              "numpy.ndarray"
            ]
          },
          "metadata": {
            "tags": []
          },
          "execution_count": 27
        }
      ]
    },
    {
      "cell_type": "code",
      "metadata": {
        "colab": {
          "base_uri": "https://localhost:8080/"
        },
        "id": "6Wl6IC5WYmAc",
        "outputId": "e281375a-a00d-4388-ee7a-90de85d21491"
      },
      "source": [
        "np.zeros((3, 4))"
      ],
      "execution_count": 29,
      "outputs": [
        {
          "output_type": "execute_result",
          "data": {
            "text/plain": [
              "array([[0., 0., 0., 0.],\n",
              "       [0., 0., 0., 0.],\n",
              "       [0., 0., 0., 0.]])"
            ]
          },
          "metadata": {
            "tags": []
          },
          "execution_count": 29
        }
      ]
    },
    {
      "cell_type": "code",
      "metadata": {
        "colab": {
          "base_uri": "https://localhost:8080/"
        },
        "id": "ATisAP6DYrDN",
        "outputId": "3ac8af55-3502-460e-d0b3-963a40f85312"
      },
      "source": [
        "np.ones((2, 3), dtype=np.int16)\n"
      ],
      "execution_count": 32,
      "outputs": [
        {
          "output_type": "execute_result",
          "data": {
            "text/plain": [
              "array([[1, 1, 1],\n",
              "       [1, 1, 1]], dtype=int16)"
            ]
          },
          "metadata": {
            "tags": []
          },
          "execution_count": 32
        }
      ]
    },
    {
      "cell_type": "code",
      "metadata": {
        "colab": {
          "base_uri": "https://localhost:8080/"
        },
        "id": "uxzV9JMnYzEN",
        "outputId": "cb779136-516f-4ef1-a122-6bed678ebc74"
      },
      "source": [
        "np.empty((2, 3))  # 0에 충분히 가까운 자연수 값을 부름"
      ],
      "execution_count": 34,
      "outputs": [
        {
          "output_type": "execute_result",
          "data": {
            "text/plain": [
              "array([[4.68832883e-310, 0.00000000e+000, 0.00000000e+000],\n",
              "       [0.00000000e+000, 0.00000000e+000, 0.00000000e+000]])"
            ]
          },
          "metadata": {
            "tags": []
          },
          "execution_count": 34
        }
      ]
    },
    {
      "cell_type": "code",
      "metadata": {
        "colab": {
          "base_uri": "https://localhost:8080/"
        },
        "id": "EgOqLaXGY_ud",
        "outputId": "2b424c7c-5017-4a19-af09-6a791f4dab36"
      },
      "source": [
        "np.arange(0, 2, 0.3)  # 0부터 2까지 0.3 간격으로 나열"
      ],
      "execution_count": 36,
      "outputs": [
        {
          "output_type": "execute_result",
          "data": {
            "text/plain": [
              "array([0. , 0.3, 0.6, 0.9, 1.2, 1.5, 1.8])"
            ]
          },
          "metadata": {
            "tags": []
          },
          "execution_count": 36
        }
      ]
    },
    {
      "cell_type": "code",
      "metadata": {
        "colab": {
          "base_uri": "https://localhost:8080/"
        },
        "id": "dlBZBjEOZBaV",
        "outputId": "7da85cbb-1d65-4735-b71b-1d6f588de55d"
      },
      "source": [
        "np.linspace(0, 2, 9)  # 0부터2까지 9개 숫자를 같은 간격으로 나열"
      ],
      "execution_count": 38,
      "outputs": [
        {
          "output_type": "execute_result",
          "data": {
            "text/plain": [
              "array([0.  , 0.25, 0.5 , 0.75, 1.  , 1.25, 1.5 , 1.75, 2.  ])"
            ]
          },
          "metadata": {
            "tags": []
          },
          "execution_count": 38
        }
      ]
    },
    {
      "cell_type": "code",
      "metadata": {
        "id": "G_ApiZZ9ZHBt"
      },
      "source": [
        "rg = np.random.default_rng(1)\n"
      ],
      "execution_count": 39,
      "outputs": []
    },
    {
      "cell_type": "code",
      "metadata": {
        "colab": {
          "base_uri": "https://localhost:8080/"
        },
        "id": "Tzm_bpSnds4O",
        "outputId": "a6a78eaf-99f5-4ca3-a49a-2bf4dd23abff"
      },
      "source": [
        "a = rg.random((2, 3))\n",
        "\n",
        "a\n",
        "\n",
        "a.sum()\n",
        "a.min()\n",
        "a.max()\n"
      ],
      "execution_count": 40,
      "outputs": [
        {
          "output_type": "execute_result",
          "data": {
            "text/plain": [
              "0.9504636963259353"
            ]
          },
          "metadata": {
            "tags": []
          },
          "execution_count": 40
        }
      ]
    },
    {
      "cell_type": "code",
      "metadata": {
        "colab": {
          "base_uri": "https://localhost:8080/"
        },
        "id": "sdYagY2Jd5WU",
        "outputId": "e723292c-f610-4c2a-d641-7c916df94002"
      },
      "source": [
        "리스트 = [[1,2,3], [4, 5, 6], [7, 8, 9]]\n",
        "\n",
        "a = np.array(리스트)\n",
        "\n",
        "a.sum()\n",
        "a.min()\n",
        "a.max()\n"
      ],
      "execution_count": 42,
      "outputs": [
        {
          "output_type": "execute_result",
          "data": {
            "text/plain": [
              "9"
            ]
          },
          "metadata": {
            "tags": []
          },
          "execution_count": 42
        }
      ]
    },
    {
      "cell_type": "code",
      "metadata": {
        "colab": {
          "base_uri": "https://localhost:8080/"
        },
        "id": "QxeqOUb3eD08",
        "outputId": "db7e54e4-6358-47d4-8c30-b339142464b6"
      },
      "source": [
        "리스트 = [[10,2,3], [4, 5, 6], [7, 8, 9]]\n",
        "\n",
        "a = np.array(리스트)\n",
        "\n",
        "a.sum()               # sum(리스트)는 애러납니다\n",
        "a.min(), min(리스트)\n",
        "a.max(), max(리스트)  # max(리스트)는 각각의 행에서 맨앞의 수를 비교해서 제일 큰 행을 출력함   "
      ],
      "execution_count": 47,
      "outputs": [
        {
          "output_type": "execute_result",
          "data": {
            "text/plain": [
              "(10, [10, 2, 3])"
            ]
          },
          "metadata": {
            "tags": []
          },
          "execution_count": 47
        }
      ]
    },
    {
      "cell_type": "code",
      "metadata": {
        "colab": {
          "base_uri": "https://localhost:8080/"
        },
        "id": "l77A0vp3e_NU",
        "outputId": "c16aba40-c765-48ca-ffb9-2d0c101116c0"
      },
      "source": [
        "b = np.arange(12).reshape(3, 4)\n",
        "\n",
        "b\n"
      ],
      "execution_count": 49,
      "outputs": [
        {
          "output_type": "execute_result",
          "data": {
            "text/plain": [
              "array([[ 0,  1,  2,  3],\n",
              "       [ 4,  5,  6,  7],\n",
              "       [ 8,  9, 10, 11]])"
            ]
          },
          "metadata": {
            "tags": []
          },
          "execution_count": 49
        }
      ]
    },
    {
      "cell_type": "code",
      "metadata": {
        "colab": {
          "base_uri": "https://localhost:8080/"
        },
        "id": "IypfazZ_fIfk",
        "outputId": "ba82dfaf-f49d-4a28-aefb-e66e51a42cb7"
      },
      "source": [
        "#행렬에서의 더하기 기능이 다양하게 이루어짐\n",
        "\n",
        "b.sum(axis=0)   # 열(col)기준으로 행(row)끼리 더한 것\n",
        "b.sum(axis=1) # 행(row)기준으로 열(col)끼리 더한 것\n",
        "# b.sum()       # flat하게(모든 요소를) 모두 더한 것\n",
        "\n",
        "\n"
      ],
      "execution_count": 52,
      "outputs": [
        {
          "output_type": "execute_result",
          "data": {
            "text/plain": [
              "array([ 6, 22, 38])"
            ]
          },
          "metadata": {
            "tags": []
          },
          "execution_count": 52
        }
      ]
    },
    {
      "cell_type": "code",
      "metadata": {
        "colab": {
          "base_uri": "https://localhost:8080/"
        },
        "id": "9lIVQD1NgczU",
        "outputId": "a4cb9c4a-abdf-417b-dd40-7615672fd825"
      },
      "source": [
        "b.ravel()\n"
      ],
      "execution_count": 56,
      "outputs": [
        {
          "output_type": "execute_result",
          "data": {
            "text/plain": [
              "array([ 0,  1,  2,  3,  4,  5,  6,  7,  8,  9, 10, 11])"
            ]
          },
          "metadata": {
            "tags": []
          },
          "execution_count": 56
        }
      ]
    },
    {
      "cell_type": "code",
      "metadata": {
        "colab": {
          "base_uri": "https://localhost:8080/"
        },
        "id": "xmuIUQg8gugE",
        "outputId": "72dea2ce-8b0d-46cd-c4d5-0a5898a7d89e"
      },
      "source": [
        "b.transpose()   #잘 안씀\n",
        "b.T             #잘 씀!!! 행과 열을 바꿔줌. (3,4) -> (4,3)이면서...숫자도 세로로..."
      ],
      "execution_count": 58,
      "outputs": [
        {
          "output_type": "execute_result",
          "data": {
            "text/plain": [
              "array([[ 0,  4,  8],\n",
              "       [ 1,  5,  9],\n",
              "       [ 2,  6, 10],\n",
              "       [ 3,  7, 11]])"
            ]
          },
          "metadata": {
            "tags": []
          },
          "execution_count": 58
        }
      ]
    },
    {
      "cell_type": "code",
      "metadata": {
        "colab": {
          "base_uri": "https://localhost:8080/"
        },
        "id": "6OoNF861hLRj",
        "outputId": "ed89ac1b-3741-4a77-fd89-c616b99c68cb"
      },
      "source": [
        "a = np.array([[1, 2], [3, 4]])\n",
        "b = np.floor([[5, 6], [7, 8]])\n",
        "np.vstack((a, b))\n",
        "np.hstack((a, b))"
      ],
      "execution_count": 67,
      "outputs": [
        {
          "output_type": "execute_result",
          "data": {
            "text/plain": [
              "array([[1., 2., 5., 6.],\n",
              "       [3., 4., 7., 8.]])"
            ]
          },
          "metadata": {
            "tags": []
          },
          "execution_count": 67
        }
      ]
    },
    {
      "cell_type": "code",
      "metadata": {
        "colab": {
          "base_uri": "https://localhost:8080/"
        },
        "id": "sN_GrbJ7hxEt",
        "outputId": "d2518768-e8ef-4f9a-a930-a235ca6f7acb"
      },
      "source": [
        "#매우 많이 사용되는 것임\n",
        "a = np.arange(12).reshape(3, 4)\n",
        "b = a > 4\n",
        "b"
      ],
      "execution_count": 65,
      "outputs": [
        {
          "output_type": "execute_result",
          "data": {
            "text/plain": [
              "array([[False, False, False, False],\n",
              "       [False,  True,  True,  True],\n",
              "       [ True,  True,  True,  True]])"
            ]
          },
          "metadata": {
            "tags": []
          },
          "execution_count": 65
        }
      ]
    },
    {
      "cell_type": "code",
      "metadata": {
        "colab": {
          "base_uri": "https://localhost:8080/"
        },
        "id": "77DaIoCMiPZh",
        "outputId": "1955b8ad-659a-4b68-9911-152f76774224"
      },
      "source": [
        "b.sum()"
      ],
      "execution_count": 64,
      "outputs": [
        {
          "output_type": "execute_result",
          "data": {
            "text/plain": [
              "7"
            ]
          },
          "metadata": {
            "tags": []
          },
          "execution_count": 64
        }
      ]
    },
    {
      "cell_type": "code",
      "metadata": {
        "id": "TpeLB5xqiQ-b"
      },
      "source": [
        ""
      ],
      "execution_count": null,
      "outputs": []
    }
  ]
}