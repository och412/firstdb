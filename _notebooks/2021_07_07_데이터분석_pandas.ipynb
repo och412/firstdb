{
  "nbformat": 4,
  "nbformat_minor": 0,
  "metadata": {
    "colab": {
      "name": "2021_07_07_데이터분석_pandas.ipynb",
      "provenance": []
    },
    "kernelspec": {
      "name": "python3",
      "display_name": "Python 3"
    },
    "language_info": {
      "name": "python"
    }
  },
  "cells": [
    {
      "cell_type": "markdown",
      "metadata": {
        "id": "D3k3QO3Cnpup"
      },
      "source": [
        "# \"데이터 분석 pandas 기초 문법 노트북\"\n",
        "\n",
        "> \"2021년 여름방학 데이터분석을 위한 pandas 기초문법\"\n",
        "\n",
        "- toc:true\n",
        "- branch: master\n",
        "- badges: true\n",
        "- comments: true\n",
        "- author: OH CHUNGHYEON\n",
        "- categories: [python, 데이터분석, pandas]"
      ]
    },
    {
      "cell_type": "code",
      "metadata": {
        "id": "BtLrUNChnR-y"
      },
      "source": [
        "import pandas as pd\n",
        "\n",
        "data = pd.read_html('https://ko.wikipedia.org/wiki/%EB%8C%80%ED%95%9C%EB%AF%BC%EA%B5%AD%EC%9D%98_%EC%9D%B8%EA%B5%AC')"
      ],
      "execution_count": null,
      "outputs": []
    },
    {
      "cell_type": "code",
      "metadata": {
        "id": "DBHqSSJUqqjy",
        "colab": {
          "base_uri": "https://localhost:8080/",
          "height": 414
        },
        "outputId": "2340f0da-ea1e-42e2-9879-dc5d3897e189"
      },
      "source": [
        "data[1]"
      ],
      "execution_count": null,
      "outputs": [
        {
          "output_type": "execute_result",
          "data": {
            "text/html": [
              "<div>\n",
              "<style scoped>\n",
              "    .dataframe tbody tr th:only-of-type {\n",
              "        vertical-align: middle;\n",
              "    }\n",
              "\n",
              "    .dataframe tbody tr th {\n",
              "        vertical-align: top;\n",
              "    }\n",
              "\n",
              "    .dataframe thead th {\n",
              "        text-align: right;\n",
              "    }\n",
              "</style>\n",
              "<table border=\"1\" class=\"dataframe\">\n",
              "  <thead>\n",
              "    <tr style=\"text-align: right;\">\n",
              "      <th></th>\n",
              "      <th>연도 (년)</th>\n",
              "      <th>추계인구(명)</th>\n",
              "      <th>출생자수(명)</th>\n",
              "      <th>사망자수(명)</th>\n",
              "      <th>자연증가수(명)</th>\n",
              "      <th>조출생률(%)</th>\n",
              "      <th>조사망률(%)</th>\n",
              "      <th>자연증가율(%)</th>\n",
              "      <th>합계출산율(%)</th>\n",
              "    </tr>\n",
              "  </thead>\n",
              "  <tbody>\n",
              "    <tr>\n",
              "      <th>0</th>\n",
              "      <td>1925</td>\n",
              "      <td>12997611</td>\n",
              "      <td>558897</td>\n",
              "      <td>359042</td>\n",
              "      <td>199855</td>\n",
              "      <td>43.0</td>\n",
              "      <td>27.6</td>\n",
              "      <td>15.4</td>\n",
              "      <td>6.59</td>\n",
              "    </tr>\n",
              "    <tr>\n",
              "      <th>1</th>\n",
              "      <td>1926</td>\n",
              "      <td>13052741</td>\n",
              "      <td>511667</td>\n",
              "      <td>337948</td>\n",
              "      <td>173719</td>\n",
              "      <td>39.2</td>\n",
              "      <td>25.9</td>\n",
              "      <td>13.3</td>\n",
              "      <td>NaN</td>\n",
              "    </tr>\n",
              "    <tr>\n",
              "      <th>2</th>\n",
              "      <td>1927</td>\n",
              "      <td>13037169</td>\n",
              "      <td>534524</td>\n",
              "      <td>353818</td>\n",
              "      <td>180706</td>\n",
              "      <td>41.0</td>\n",
              "      <td>27.1</td>\n",
              "      <td>13.9</td>\n",
              "      <td>NaN</td>\n",
              "    </tr>\n",
              "    <tr>\n",
              "      <th>3</th>\n",
              "      <td>1928</td>\n",
              "      <td>13105131</td>\n",
              "      <td>566142</td>\n",
              "      <td>357701</td>\n",
              "      <td>208441</td>\n",
              "      <td>43.2</td>\n",
              "      <td>27.3</td>\n",
              "      <td>15.9</td>\n",
              "      <td>NaN</td>\n",
              "    </tr>\n",
              "    <tr>\n",
              "      <th>4</th>\n",
              "      <td>1929</td>\n",
              "      <td>13124279</td>\n",
              "      <td>566969</td>\n",
              "      <td>414366</td>\n",
              "      <td>152603</td>\n",
              "      <td>43.2</td>\n",
              "      <td>31.6</td>\n",
              "      <td>11.6</td>\n",
              "      <td>NaN</td>\n",
              "    </tr>\n",
              "    <tr>\n",
              "      <th>...</th>\n",
              "      <td>...</td>\n",
              "      <td>...</td>\n",
              "      <td>...</td>\n",
              "      <td>...</td>\n",
              "      <td>...</td>\n",
              "      <td>...</td>\n",
              "      <td>...</td>\n",
              "      <td>...</td>\n",
              "      <td>...</td>\n",
              "    </tr>\n",
              "    <tr>\n",
              "      <th>91</th>\n",
              "      <td>2016</td>\n",
              "      <td>51245707</td>\n",
              "      <td>406243</td>\n",
              "      <td>280827</td>\n",
              "      <td>125416</td>\n",
              "      <td>7.9</td>\n",
              "      <td>5.5</td>\n",
              "      <td>2.4</td>\n",
              "      <td>1.17</td>\n",
              "    </tr>\n",
              "    <tr>\n",
              "      <th>92</th>\n",
              "      <td>2017</td>\n",
              "      <td>51446201</td>\n",
              "      <td>357771</td>\n",
              "      <td>285534</td>\n",
              "      <td>72237</td>\n",
              "      <td>7.0</td>\n",
              "      <td>5.5</td>\n",
              "      <td>1.5</td>\n",
              "      <td>1.05</td>\n",
              "    </tr>\n",
              "    <tr>\n",
              "      <th>93</th>\n",
              "      <td>2018</td>\n",
              "      <td>51635256</td>\n",
              "      <td>326822</td>\n",
              "      <td>298820</td>\n",
              "      <td>28002</td>\n",
              "      <td>6.4</td>\n",
              "      <td>5.8</td>\n",
              "      <td>0.6</td>\n",
              "      <td>0.98</td>\n",
              "    </tr>\n",
              "    <tr>\n",
              "      <th>94</th>\n",
              "      <td>2019</td>\n",
              "      <td>51709098</td>\n",
              "      <td>303054</td>\n",
              "      <td>295132</td>\n",
              "      <td>7922</td>\n",
              "      <td>5.9</td>\n",
              "      <td>5.7</td>\n",
              "      <td>0.2</td>\n",
              "      <td>0.92</td>\n",
              "    </tr>\n",
              "    <tr>\n",
              "      <th>95</th>\n",
              "      <td>2020</td>\n",
              "      <td>51829023</td>\n",
              "      <td>272400</td>\n",
              "      <td>305100</td>\n",
              "      <td>-32000</td>\n",
              "      <td>5.3</td>\n",
              "      <td>5.9</td>\n",
              "      <td>-0.6</td>\n",
              "      <td>0.84</td>\n",
              "    </tr>\n",
              "  </tbody>\n",
              "</table>\n",
              "<p>96 rows × 9 columns</p>\n",
              "</div>"
            ],
            "text/plain": [
              "    연도 (년)   추계인구(명)  출생자수(명)  사망자수(명)  ...  조출생률(%)  조사망률(%)  자연증가율(%)  합계출산율(%)\n",
              "0     1925  12997611   558897   359042  ...     43.0     27.6      15.4      6.59\n",
              "1     1926  13052741   511667   337948  ...     39.2     25.9      13.3       NaN\n",
              "2     1927  13037169   534524   353818  ...     41.0     27.1      13.9       NaN\n",
              "3     1928  13105131   566142   357701  ...     43.2     27.3      15.9       NaN\n",
              "4     1929  13124279   566969   414366  ...     43.2     31.6      11.6       NaN\n",
              "..     ...       ...      ...      ...  ...      ...      ...       ...       ...\n",
              "91    2016  51245707   406243   280827  ...      7.9      5.5       2.4      1.17\n",
              "92    2017  51446201   357771   285534  ...      7.0      5.5       1.5      1.05\n",
              "93    2018  51635256   326822   298820  ...      6.4      5.8       0.6      0.98\n",
              "94    2019  51709098   303054   295132  ...      5.9      5.7       0.2      0.92\n",
              "95    2020  51829023   272400   305100  ...      5.3      5.9      -0.6      0.84\n",
              "\n",
              "[96 rows x 9 columns]"
            ]
          },
          "metadata": {
            "tags": []
          },
          "execution_count": 22
        }
      ]
    },
    {
      "cell_type": "code",
      "metadata": {
        "colab": {
          "base_uri": "https://localhost:8080/",
          "height": 414
        },
        "id": "baCD4mUEpKGy",
        "outputId": "8816fc6f-21b2-4919-e041-57ccdf60c6f3"
      },
      "source": [
        "인구수 = data[1]\n",
        "사망자수 = 인구수[['사망자수(명)']]\n",
        "\n",
        "사망자수"
      ],
      "execution_count": null,
      "outputs": [
        {
          "output_type": "execute_result",
          "data": {
            "text/html": [
              "<div>\n",
              "<style scoped>\n",
              "    .dataframe tbody tr th:only-of-type {\n",
              "        vertical-align: middle;\n",
              "    }\n",
              "\n",
              "    .dataframe tbody tr th {\n",
              "        vertical-align: top;\n",
              "    }\n",
              "\n",
              "    .dataframe thead th {\n",
              "        text-align: right;\n",
              "    }\n",
              "</style>\n",
              "<table border=\"1\" class=\"dataframe\">\n",
              "  <thead>\n",
              "    <tr style=\"text-align: right;\">\n",
              "      <th></th>\n",
              "      <th>사망자수(명)</th>\n",
              "    </tr>\n",
              "  </thead>\n",
              "  <tbody>\n",
              "    <tr>\n",
              "      <th>0</th>\n",
              "      <td>359042</td>\n",
              "    </tr>\n",
              "    <tr>\n",
              "      <th>1</th>\n",
              "      <td>337948</td>\n",
              "    </tr>\n",
              "    <tr>\n",
              "      <th>2</th>\n",
              "      <td>353818</td>\n",
              "    </tr>\n",
              "    <tr>\n",
              "      <th>3</th>\n",
              "      <td>357701</td>\n",
              "    </tr>\n",
              "    <tr>\n",
              "      <th>4</th>\n",
              "      <td>414366</td>\n",
              "    </tr>\n",
              "    <tr>\n",
              "      <th>...</th>\n",
              "      <td>...</td>\n",
              "    </tr>\n",
              "    <tr>\n",
              "      <th>91</th>\n",
              "      <td>280827</td>\n",
              "    </tr>\n",
              "    <tr>\n",
              "      <th>92</th>\n",
              "      <td>285534</td>\n",
              "    </tr>\n",
              "    <tr>\n",
              "      <th>93</th>\n",
              "      <td>298820</td>\n",
              "    </tr>\n",
              "    <tr>\n",
              "      <th>94</th>\n",
              "      <td>295132</td>\n",
              "    </tr>\n",
              "    <tr>\n",
              "      <th>95</th>\n",
              "      <td>305100</td>\n",
              "    </tr>\n",
              "  </tbody>\n",
              "</table>\n",
              "<p>96 rows × 1 columns</p>\n",
              "</div>"
            ],
            "text/plain": [
              "    사망자수(명)\n",
              "0    359042\n",
              "1    337948\n",
              "2    353818\n",
              "3    357701\n",
              "4    414366\n",
              "..      ...\n",
              "91   280827\n",
              "92   285534\n",
              "93   298820\n",
              "94   295132\n",
              "95   305100\n",
              "\n",
              "[96 rows x 1 columns]"
            ]
          },
          "metadata": {
            "tags": []
          },
          "execution_count": 20
        }
      ]
    },
    {
      "cell_type": "code",
      "metadata": {
        "colab": {
          "base_uri": "https://localhost:8080/",
          "height": 34
        },
        "id": "3vbUwa7gpfNK",
        "outputId": "ab35a0a3-9b3a-4a78-d1da-8974dd0c7c2c"
      },
      "source": [
        "format(사망자수.sum()[0], ',')"
      ],
      "execution_count": null,
      "outputs": [
        {
          "output_type": "execute_result",
          "data": {
            "application/vnd.google.colaboratory.intrinsic+json": {
              "type": "string"
            },
            "text/plain": [
              "'28,518,711'"
            ]
          },
          "metadata": {
            "tags": []
          },
          "execution_count": 21
        }
      ]
    },
    {
      "cell_type": "markdown",
      "metadata": {
        "id": "JsA0Bjm0RQNt"
      },
      "source": [
        "## pandas 공식홈페이지 tutorials"
      ]
    },
    {
      "cell_type": "markdown",
      "metadata": {
        "id": "62h07RnbVhSS"
      },
      "source": [
        "###pandas data table representation"
      ]
    },
    {
      "cell_type": "markdown",
      "metadata": {
        "id": "bDL4EcDeVoF6"
      },
      "source": [
        "![image.png](data:image/png;base64,iVBORw0KGgoAAAANSUhEUgAAAh0AAAGKCAYAAACo6/OBAAAgAElEQVR4Ae3df8xtWXnQ8aU1/ih0BKWJQ0lUnOGdiWUkFolWQFIyaemko5igxRIExfSPKkTTesfEAtWLMm0A/5lBpw0abVrSmwzQa/C30kAqyGDkFaQzc0VT5sflMkP6zp28c99h6DZr3OtkzXn3Oef9sZ47e835nORkr7PWPvs8+7v3+zzfd519zknJDQEEEEAAAQQQQAABBBBAAAEEEEAAAQQQQAABBBBAAAEEEEAAAQQQQAABBBBAAAEEEEAAAQQQQAABBBBAAAEEEEAAAQQQQAABBBBAAAEEEEAAAQQQQAABBBBAAAEEEEAAAQQQQAABBBBAAAEEEEAAAQQQQAABBBBAAAEEEEAAAQQQQAABBBBAAAEEEEAAAQQQQAABBBBAAAEEEEAAAQQQQAABBBBAAAEEEEAAAQQQQAABBBBAAAEEEEAAAQQQQAABBBBAAAEEEEAAAQQQQAABBBBAAAEE1hH4PSmlv5ZS+mxKaZi4fyql9DdTSn9w3Uaew2O/I6X051JKv5JSenSCzxSz3PdTKaXveA5zsWsIIIAAAggcm8BfP2Ih/R8ppT+bUspF+GrffiSl9JsppR++2i+cUnplSun/HpFREZDHUkp/h3Q8C0fLSyKAAAIIzJbAd6aUfn4sqH8vpZRnPepbFozvSSm9P6WUC2kuvvm//qt9++kxxh+72i+cUvrb42vnGJb5PAvheEkEEEAAAQT6JJDfMvm3KaWHUkrft2YXfldK6cxYfP91SukPrVk3YujZlI5n87UjWNomAggggAACzwqBIh35rZOdDRE8L6V01ygef+Mqv83ybBb+Z/O1NxwSwwgggAACCPRD4DjSkffqVeOsyH9IKV17FXfz2Sz8z+ZrX0XEXgoBBBBAAIFYAseVju9KKf3L8fqO18eG9oytP5uF/9l87WdA8AABBBBAAIGeCRxXOvK+lgsr83LVLV9weXNK6V9Un/zIF6Hmx/lC1N+56olV/yuq55ZPhdTLvL28zlFup4mntXT87pTS+8aPKF+fUspvW+VPEP2bUeY+mlK65ig7NV7YehLOJYa7U0p/LKX03pF1Zno2pfQHUkr5Op6/mFL6j+Nbar+RUnpnSun3rYktH9c/k1L6herY5ed9IKV041V+S25NmIYQQAABBJ4NAieRjlzkcvG/I6X0eyeC/u5xNqQWhOX2PxmL7cTTF12tpOO08bSWjly0/+nI8I0TrI4qHafZr3Lc70spnR9jqY9RvnYny0fdV9rvWiEPWZ6yTJX1lpf5009/yyeAFue3BgIIILB1BErxOcqFpAXOTSmlXKzyp1heWDrHZS48WUZywcnFLF8Dkv+rzre8zI//3Th+nItRT1r4W8Rz0tced/vQopaO/Kmh/IVj704pvfSIM0B5g6fdr3Lc83HKsxt/aZzZ+N6lL4nLb6XlTyrlmaL8keq8/rmU0u9f2qs6nv+WUrqlksp8juQvn8uvk5+fPwWVZ1HcEEAAAQS2jEApPseRjvwpl7x+vpg0/7dd3/J0fClMeYp+6lYuRs1vJ7xoaoWJvpMW/hbxnPS1J3bj6a5aOnIh/oEVMwernp/7T7tf5bjnY1XLX/5elvylZrn/MymlP1IFcUNKaTeldE9K6bqqPzd/dHxrKH+rbX4bZeqW31bL+5tFK++zGwIIIIDAlhEoxec40vHilNJ/GcWj/phtnsn44FiwclFcdSuvmWdL8qzJUW4nKfyt4jnJa6/bp1o63nIC4WixX+UYZInIMlHf8hewZenI13nU3z5bnrN8ruRPMWUB3SQTeVtZcPK2/3k1E1K/tjYCCCCAwHOYwKpCsm6XVz0nF8PbqwskV22jLrr5a9WPcjtJ4W8VT3ntXCyPcs8zBMszAfU+nmT/6+e32K9VxzC/TpGOvN/1bdVzbj2GSNSCkme83BBAAAEEtojAqkKyDsGqmY51zylj+b/dPLtRflwuUjrKa65bHiWeuUnHuv0pY5v2a91xP4505NfJMyJZxn68vPiaZV7/74/rr/v005pNGEIAAQQQ6JXAuuKzap/WXdOx/JxcZPKFhFku/m718csyY3C1peMk8RTpaPW7L6ed6VhmnB8fd7/WHffjSEf92z1HPZZl+6s+/TS1f/oQQAABBJ4DBNYVn1W7Vy4ozL/Zkp+/fMvf1fAnU0ofWfFT8PnTDfm6gCweRy1Upyn8p43nNK+9zCY/biUdp9mvdce9SEHe7/o29ZzSVyTyOMv8Q4NZWtwQQAABBLaEQCkayxcHrtv9147CMFU08kcn/+H4SYZSgP5rSulnU0r5Oyn+8HgBYfmeimjpaBHPHKXjtPu17rhfLelYJa3rzj1jCCCAAAIdE1hXfFbt1ltH6fhHKaXvqFbK7Z8ax/K3UL59xTdrnuQ//ZMU/lbxnOS1KyyHmifZ/3ojLfZr3XE/iXRMfQqmjlkbAQQQQACBp98eyf9xHnWmo/645vKFg388pfS/xotEV31XQ0Z+kqJ7ksLfKp6TvPa6U+sk+19vr8V+tZKO8ls8eVYrz4C5IYAAAgggsJLAuuIz9aQ/OkpF/k6G71taIUtILj750wn5wsZVt5MU3ZMU/lbxnOS1V+177j/J/tfba7Ff6477cWY68qxLnvHKx/2on0b50yml/NZc/t0ZNwQQQACBLSKwrvhMYcg/TJYLTP6hsOWvQD9qcT5J0T3qtuuYj/qcTfEcdTv1a69rb3q9dc/NY0eNZ93rrDvux5GOHE/5no6pc2J5X/I58yvjOZRfxw0BBBBAYIsIrCs+yxjyV2LnL77K0pHlY/lWfpsjf432upmOMluStxN5IWmreI5a5Jd5rHq8TgZWPafub7Ff6477caWjfOFX/kG3P18HutTO58RfGS8yPurbeUub8BABBBBAoGcC+T/P/MNtU2+X1PuV37u/cxSO/5xS+p56cGy/fiwoq8bzavnHw/KPiGXhOIl05ItYj3prFc/cpKPFfrWUjnw8jvLbK/kn78tHpevfeznq8bQeAggggEDnBPJP05dfhc3/QedfE61v+ddA/1T18+f5B7vyD3dN3eqp8zzVnr95NH+XRP4PNxe5/GmW/KmWIhx5+VeP+Muq5RMzH18hPJHxzE06WnBuLR31r8xmsfiR6rdVcrz1sc/nW17fDQEEEEBgCwmU/1JrGZhqZ2HI37Wx7q2T/G2l5S2YqW3kvn82/uBXGd80LZ8PSb7osHx1enlejmf5Ytblw9cinrlJR97H0+5Xa+nIMWWReN+SVJZjlZf5OOfvcCEcy2epxwgggMAWEcizGfkTEcuzEKVg5C/3ui2llN+7P8ot/9x9Xv+/VwUot395lJY8m/K94wWFuRAdRTry676iek6O7SjSkZ932niylOX4j/qLuJsY5Y8d5+K86YfhNm3nNPuVj8E/Til9dORTv1a+zib/AnDe7/p2zfjW2C9OXERc1sszW/ltlF8Yf8a+HKcPjD95v05YyzYsEUAAAQQQQAABBBBAAAEEEEAAAQQQQAABBBBAAAEEEEAAAQQQQAABBBBAAAEEEEAAAQQQQAABBBBAAAEEEEAAAQQQQAABBBBAAAEEEEAAAQQQQAABBBBAAAEEEEAAAQQQQAABBBBAAAEEEEAAAQQQQAABBBBAAAEEEEAAAQQQQAABBBBAAAEEEEAAAQQQQAABBBBAAAEEEEAAAQQQQAABBBBAAAEEEEAAAQQQQAABBBBAAAEEEEAAAQQQQAABBBBAAAEEEEAAAQQQQAABBBBAAAEEEEAAAQQQQAABBBBAAAEEEEAAAQQQQAABBBBAAAEEEEAAAQQQQAABBBBAAAEEEEAAAQQQQAABBBBAAAEEEEAAAQQQQAABBBBAAAEEEEAAAQQQQAABBBBAAAEEEEAAAQQQQAABBBBAAAEEEEAAAQQQQAABBBBAAAEEEEAAAQQQQAABBBBAYOYEdlJKP+wexuC7Zn78hYcAAggggMBVI/D+lNJvpJQ+6d6cwWMppZdftSPphRBAAAEEEJg5gSwdt808xl7D2yUdvR46cSOAAAIIRBAgHRFU//82SUccW1tGAAEEEOiQAOmIO2ikI46tLSOAQCYwDMP1wzC8zr05gx/EtDnT1910002/9JrXvOYj2LZne80113z19ttvfzu2zdl+v2qDAAIjgWEY7hjcIghcjtjotm/zzJkzw9mzZw+2nUPE/u/s7FzZ3d2N2PS2b/NhBQcBBJak47G9veEbly65N2AwZtjH8vLgyhVMGzDN52ZmWUuH87XN32v+28+3Ih17ckGzv9kxF1xUcBBAYEk6Pv/Zzw4fO3fOvQGDMdE8PdPxwNe+hmkDpvncfPBrX3uGdDhf2/y9fv5zn3uGdHzu13/dOdvonB1zgZkOFReBQqC8vUI62iTwXAhJRzuWtViQjhiupCOGa5ULSEcpOJYIkI72CYd0tGeaEzjpiOFKOmK4kg71FYEJAqSjfcIhHe2Zko4Yppkr6YhjO+YCMx0TtUfXlhIgHe0TDuloz5R0xDAlHXFcM1vSsaWF1W6vJkA62icd0tGeKemIYUo64riSjtV1x8gWEyAd7ZMO6WjPlHTEMCUdcVxJxxYXVru+mgDpaJ90SEd7pqQjhinpiONKOlbXHSNbTIB0tE86pKM9U9IRw5R0xHElHVtcWO36agKko33SIR3tmZKOGKakI44r6Vhdd4xsMQHS0T7pkI72TElHDFPSEceVdGxxYbXrqwmQjvZJh3S0Z0o6YpiSjjiupGN13TGyxQRIR/ukQzraMyUdMUxJRxxX0rHFhdWuryZAOtonHdLRninpiGFKOuK4ko7VdcfIFhMgHe2TDuloz5R0xDAlHXFcSccWF1a7vpoA6WifdEhHe6akI4Yp6YjjSjpW1x0jW0yAdLRPOqSjPVPSEcOUdMRxJR1bXFjt+moCpKN90iEd7ZmSjhimpCOOK+lYXXeMbDEB0tE+6ZCO9kxJRwxT0hHHlXRscWG166sJkI72SYd0tGdKOmKYko44rqRjdd0xssUESEf7pEM62jMlHTFMSUccV9KxxYXVrq8mQDraJx3S0Z4p6YhhSjriuJKO1XXHyBYTIB3tkw7paM+UdMQwJR1xXEnHFhdWu76aAOlon3RIR3umpCOGKemI40o6VtcdI1tMgHS0Tzqkoz1T0hHDlHTEcSUdW1xY7fpqAqSjfdIhHe2Zko4YpqQjjivpWF13jGwxAdLRPumQjvZMSUcMU9IRx5V0bHFhteurCZCO9kmHdLRnSjpimJKOOK6kY3XdMbLFBEhH+6RDOtozJR0xTElHHFfSscWF1a6vJkA62icd0tGeKemIYUo64riSjtV1x8gWEyAd7ZMO6WjPlHTEMCUdcVxJxxYXVru+mgDpaJ90SEd7pqQjhinpiONKOlbXHSNbTIB0tE86pKM9U9IRw5R0xHElHVtcWO36agKko33SIR3tmZKOGKakI44r6Vhdd4xsMQHS0T7pkI72TElHDFPSEceVdGxxYbXrqwmQjvZJh3S0Z0o6YpiSjjiupGN13TGyxQRIR/ukQzraMyUdMUxJRxxX0rHFhdWuryZAOtonHdLRninpiGFKOuK4ko7VdcfIFhMgHe2TDuloz5R0xDAlHXFcSccWF1a7vppAkY7H9vaGb1y65N6AwSgdj+XlwZUrmDZgms/NzPLMmTPD2bNnDzJb52ubv9f8t59vOzs7V3Z3d4c9uaDZufU02GG4uDoDG0FgywgU6Rj/OCzaEbjcblO2VAjU0lH6LNsQKNLRZmu2UhF4eMvKit1FYDWBYRiuH4bhde7NGfwgps2Zvu6mm276pde85jUfwbY922uuueart99++9uxbc72+1dnYCMIIIAAAnMm8P6U0m1zDrDj2HZTSi/vOH6hI4AAAggg0JQA6WiK8xkbIx3PwOHBVhEYhuGmYRje6x7C4EXlZBqG4RaMQxjfjmt7rrfeeutn3va2t/0atu3ZXnvttV8/f/78ndg2Z/uTJd9azpjAMAxvqS7E0WxLYKcceheStgVbbc2FpBWMVk0XkrYieXg7LiQ9zKRRjwtJS8GZ87JIx4MPPDB8+lOfcm/AIH8UbrzdUI59kY5LFy+e//IXv/hz7qdnMDJ++iOzT+zv34vp6ZlmhpllLR24tuGa//bzOVuk4+JDD30c29Oz/cqXvvSBMRf4yGwpOHNeFum4cN99Q/6SFffTM3j0kUfGv4Hh0EzHhfvvv+vj5869w/30DEbIT890XN7buwfT0zPNDC9fvnxPLR24tuH61QsX7qql4/57770D2zZsx1xgpmPOslFiIx2nl4xlUSMdbRLJpoRMOmI4k44YrqQjhmvOE6SjVPQOlqSDdGwq7nMdJx0xSZx0xHAlHTFcSUcHolGHSDpIx1ylYlNcpCMmiZOOGK6kI4Yr6agregdt0kE6NhX3uY6TjpgkTjpiuJKOGK6kowPRqEMkHaRjrlKxKS7SEZPESUcMV9IRw5V01BW9gzbpIB2bivtcx0lHTBInHTFcSUcMV9LRgWjUIZIO0jFXqdgUF+mISeKkI4Yr6YjhSjrqit5Bm3SQjk3Ffa7jpCMmiZOOGK6kI4Yr6ehANOoQSQfpmKtUbIqLdMQkcdIRw5V0xHAlHXVF76BNOkjHpuI+13HSEZPESUcMV9IRw5V0dCAadYikg3TMVSo2xUU6YpI46YjhSjpiuJKOuqJ30CYdpGNTcZ/rOOmISeKkI4Yr6YjhSjo6EI06RNJBOuYqFZviIh0xSZx0xHAlHTFcSUdd0Ttokw7Ssam4z3WcdMQkcdIRw5V0xHAlHR2IRh0i6SAdc5WKTXGRjpgkTjpiuJKOGK6ko67oHbRJB+nYVNznOk46YpI46YjhSjpiuJKODkSjDpF0kI65SsWmuEhHTBInHTFcSUcMV9JRV/QO2qSDdGwq7nMdJx0xSZx0xHAlHTFcSUcHolGHSDpIx1ylYlNcpCMmiZOOGK6kI4Yr6agregdt0kE6NhX3uY6TjpgkTjpiuJKOGK6kowPRqEMkHaRjrlKxKS7SEZPESUcMV9IRw5V01BW9gzbpIB2bivtcx0lHTBInHTFcSUcMV9LRgWjUIZIO0jFXqdgUF+mISeKkI4Yr6YjhSjrqit5Bm3SQjk3Ffa7jpCMmiZOOGK6kI4Yr6ehANOoQSQfpmKtUbIqLdMQkcdIRw5V0xHAlHXVF76BNOkjHpuI+13HSEZPESUcMV9IRw5V0dCAadYikg3TMVSo2xUU6YpI46YjhSjpiuJKOuqJ30CYdpGNTcZ/rOOmISeKkI4Yr6YjhSjo6EI06RNJBOuYqFZviIh0xSZx0xHAlHTFcSUdd0Ttokw7Ssam4z3WcdMQkcdIRw5V0xHAlHR2IRh0i6SAdc5WKTXGRjpgkTjpiuJKOGK6ko67oHbRJB+nYVNznOk46YpI46YjhSjpiuJKODkSjDpF0kI65SsWmuEhHTBInHTFcSUcMV9JRV/QO2qSDdGwq7nMdJx0xSZx0xHAlHTFcSUcHolGHSDpIx1ylYlNcpCMmiZOOGK6kI4Yr6agregdt0kE6NhX3uY6TjpgkTjpiuJKOGK6kowPRqEMkHaRjrlKxKS7SEZPESUcMV9IRw5V01BW9g3aRjgcfeGD49Kc+5d6Awd7e3lgPhxvKKTAMwx2589LFi+e//MUv/pz76RmMkB/Lyyf29+/F9PRMM8PM8syZM8PZs2cPMltc23DNf/uZ587OzpXd3d3h4kMPfRzb07P9ype+9IExF1ws+dZyxgSKdIwHzaItgZ1y6It0tN28rQ3DcBmF9gRq6Wi/9e3eYpGO7aYQsvcPl3xrOWMCwzD8+DAM/8c9hMEryqEfhuEujEMY/yau7bm+853v/K33vOc9v4Vte7ZZOr7whS88gG1ztv+z5FvLGRMw0xFi3GWjZjoKibilmY4AtmY6AqCOmzTTEcbWTMeMXWMRWpGObz766PCVL3/ZvQGD/f398ldVX9NxZ+7MF+ldfPjhX3U/PYMR8tPScXBw8BCmp2eaGWaWtXTg2obr5b29L+RztkjH3t7e57E9PdtyrcwwDK7pWFT2GTeKdFy4777hY+faf5JjG7f56COPFOk4NNNx4f7779r0qQzjR7vKvZaOy3t79+B2NG6bOPn0ShuOy5x9eiWGa+Y85gIzHTN2jUVopKO9aJGOuORSJ3LSEcOZdMRwJR0xXEnHopz30SAdpKMu5D21SUdMEicdMVxJRwxX0tGHayyiJB2koyfRqGMlHTFJnHTEcCUdMVxJx6Kc99EgHaSjLuQ9tUlHTBInHTFcSUcMV9LRh2ssoiQdpKMn0ahjJR0xSZx0xHAlHTFcSceinPfRIB2koy7kPbVJR0wSJx0xXElHDFfS0YdrLKIkHaSjJ9GoYyUdMUmcdMRwJR0xXEnHopz30SAdpKMu5D21SUdMEicdMVxJRwxX0tGHayyiJB2koyfRqGMlHTFJnHTEcCUdMVxJx6Kc99EgHaSjLuQ9tUlHTBInHTFcSUcMV9LRh2ssoiQdpKMn0ahjJR0xSZx0xHAlHTFcSceinPfRIB2koy7kPbVJR0wSJx0xXElHDFfS0YdrLKIkHaSjJ9GoYyUdMUmcdMRwJR0xXEnHopz30SAdpKMu5D21SUdMEicdMVxJRwxX0tGHayyiJB2koyfRqGMlHTFJnHTEcCUdMVxJx6Kc99EgHaSjLuQ9tUlHTBInHTFcSUcMV9LRh2ssoiQdpKMn0ahjJR0xSZx0xHAlHTFcSceinPfRIB2koy7kPbVJR0wSJx0xXElHDFfS0YdrLKIkHaSjJ9GoYyUdMUmcdMRwJR0xXEnHopz30SAdpKMu5D21SUdMEicdMVxJRwxX0tGHayyiJB2koyfRqGMlHTFJnHTEcCUdMVxJx6Kc99EgHaSjLuQ9tUlHTBInHTFcSUcMV9LRh2ssoiQdpKMn0ahjJR0xSZx0xHAlHTFcSceinPfRIB2koy7kPbVJR0wSJx0xXElHDFfS0YdrLKIkHaSjJ9GoYyUdMUmcdMRwJR0xXEnHopz30SAdpKMu5D21SUdMEicdMVxJRwxX0tGHayyiJB2koyfRqGMlHTFJnHTEcCUdMVxJx6Kc99EgHaSjLuQ9tUlHTBInHTFcSUcMV9LRh2ssoiQdpKMn0ahjJR0xSZx0xHAlHTFcSceinPfRIB2koy7kPbVJR0wSJx0xXElHDFfS0YdrLKIkHaSjJ9GoYyUdMUmcdMRwJR0xXEnHopz30SAdpKMu5D21SUdMEicdMVxJRwxX0tGHayyiJB2koyfRqGMlHTFJnHTEcCUdMVxJx6Kc99EgHaSjLuQ9tUlHTBInHTFcSUcMV9LRh2ssoiQdpKMn0ahjJR0xSZx0xHAlHTFcSceinPfRIB2koy7kPbVJR0wSJx0xXElHDFfS0YdrLKIkHaSjJ9GoYyUdMUmcdMRwJR0xXEnHopz30SAdpKMu5D21SUdMEicdMVxJRwxX0tGHayyiLNIxJnCLtgR2CuhhGO5ou2lbGwlcRqI9gTNnzgxnz549aL9lW9zZ2bmyu7sLRHsCD5d8azlPAnenlD553XXXfekNb3jD4N6ewQtf+MJPZ8b5/spXvvJBjNsz/qEf+qFv49qe60tf+tLh+uuv/21s27N93vOe99uvfvWr5dzGdefmm29+suTblNKPzbPsbndU+ymlv3Dbbbf97Cc/+cnBvT2Dm2+++R0ppTfk+4c//OHzGLdnfP78+X1c23N905veNLz1rW99Etv2bF/ykpc8eeedd8q5jevOJz7xiW+O+fZfpZR+ZrvL+zz3PkvHd5a3V/b394dvXLrk3oDBt558skwc3lAOfXl75eDg4KH9xx+/1/30DEbIj+XlU089dRnT0zPNDDPL+u0VXNtwzX/7+Vwtb68cXLnyILanZ/vE/v69Yy64OObbd5OOUnnmtXyGdFy4777hY+faX1S5jdt89JFHxr+B4dA1HRfuv/+uni7WnHOsI+Snr+m4vLd3z5xj7Sk2F5LGXPDoQtIYrvlva8wF5ZoO0jEv11hEQzqCJIt0xCWXuniTjhjOpCOGK+mI4Uo6FjV99g3SQTreURfx3tqkIyaJk44YrqQjhivpmL1rLAIkHaSDdJyLS4S9SVyJl3TEnBOkI4Yr6VjU9Nk3SAfpIB2k49A5QDpiiiPpiOFKOmbvGosASQfpOFRwyn+7PSy9vRKTxElHDFfSEcOVdCxq+uwbpIN0kA4zHYfOAdIRUxxJRwxX0jF711gESDpIx6GC08MMR4nRTEdMEicdMVxJRwxX0rGo6bNvkA7SQTrMdBw6B0hHTHEkHTFcScfsXWMRIOkgHYcKTplF6GFppiMmiZOOGK6kI4Yr6VjU9Nk3SAfpIB1mOg6dA6QjpjiSjhiupGP2rrEIkHSQjkMFp4cZjhKjmY6YJE46YriSjhiupGNR02ffIB2kg3SY6Th0DpCOmOJIOmK4ko7Zu8YiQNJBOg4VnDKL0MPSTEdMEicdMVxJRwzXE0rHkFLK93wr7fJ47H7Gol6ntJ+xQrWd5f768arn1us8Z9ukg3SQDjMdh84B0hFTHElHDNdTSsc60SjFf0oUjtNXtpOXU8+rx5/TbdJBOg4VnB5mOEqMZjpikjjpiOFKOmK4nlI6NhX5dZKwPLb8uEhG/RpT69Tjz+k26SAdpMNMx6FzgHTEFEfSEcOVdPTjKaSDdBwqOGUWoYelmY6YJE46YriSjhiuM5KOXP3rmYzSzsvlsbFruxakg3SQDjMdh84B0hFTHElHDFfS0Y+4kA7Scajg9DDDUWI00xGTxElHDFfSEcN15tJRZjjKssx69GMKDSMlHaSDdJjpOHQOkI6Y4kg6YriSjoZWELwp0kE6DhWcMovQw9JMR0wSJx0xXElHDNeZSUcu26uu5djqWY4MhnSQDtJhpuPQOUA6Yooj6YjhOmPpqOcNiojUfVvXJh2k41DB6WGGo8RopiMmiZOOGHA5aI4AABDrSURBVK6kI4ZrsHRkMZgShqm+IhFTY1N9Zf2tWZIO0kE6zHQcOgdIR0xxJB0xXK+CdNTiUeQhL1fdyjr1+FRfPb4VbdJBOg4VnDKL0MPSTEdMEicdMVxJRwzXE0rHVhT5ue0k6SAdpMNMx6FzgHTEFEfSEcOVdMxNLVbHQzpIx6GC08MMR4nRTEdMEicdMVxJRwxX0rG6yM9thHSQDtJhpuPQOUA6Yooj6YjhSjrmphar4yEdpONQwSmzCD0szXTEJHHSEcOVdMRwJR2ri/zcRkgH6SAdZjoOnQOkI6Y4ko4YrqRjbmqxOh7SQToOFZweZjhKjGY6YpI46YjhSjpiuJKO1UV+biOkg3SQDjMdh84B0hFTHElHDFfSMTe1WB0P6SAdhwpOmUXoYWmmIyaJk44YrqQjhivpWF3k5zZCOkgH6TDTcegcIB0xxZF0xHAlHXNTi9XxkA7Scajg9DDDUWI00xGTxElHDFfSEcOVdKwu8nMbIR2kg3SY6Th0DpCOmOJIOmK4ko65qcXqeEgH6ThUcMosQg9LMx0xSZx0xHAlHTFcScfqIj+3EdJBOkiHmY5D5wDpiCmOpCOGK+mYm1qsjucZ0rG/vz9849Il9wYMvvXkk+M/4cMNBf8wDHfkzoODg4f2H3/8XvfTMxghP5aXTz311GVMT880M8wsz5w5M5w9e/Ygs8W1Ddf8t5957uzsXNnd3R0Orlx5ENvTs31if//eMRdcHPPtu1NKP1Nyr+V8CGTp+NF3vetdH7r77rsH9/YMXvva1/5ESumN+f7BD37wkxi3Z3zu3LkncG3P9Y1vfOPw5je/+VvYtmf74he/+MkPfehDcm7juvPRj370m2O+/WXSMR/RqCPJB+bu66677vM5wbi3Z/CCF7zg32fG+f6qV73qf2PcnvGtt976LVzbc33Zy1423Hjjjd/Gtj3b5z//+d9+/etfL+c2rju33HLLEyXfppT+cl3stGdEYBiGtzw9hertlWZvLXl75fRTpkeZdh6nVL290vjtOm+vxJy/3l6J4Trx9sqMKqxQDhEo0nHhvvuGjwVdWLlt2330kUfGejjsFODlmo4L999/Vw+fDOkhxhHy5by8vLd3Tw8x9xCjC0ljLnh0IWkM1/w3NeaCh0u+tZwxAdJxrrlskY645FIXbdIRw5l0xHAlHTFcSceMBWMqNNJBOupC3lObdMQkcdIRw5V0xHAlHVOVfcZ9pIN09CQadaykIyaJk44YrqQjhivpmLFgTIVGOkhHXch7apOOmCROOmK4ko4YrqRjqrLPuI90kI6eRKOOlXTEJHHSEcOVdMRwJR0zFoyp0EgH6agLeU9t0hGTxElHDFfSEcOVdExV9hn3kQ7S0ZNo1LGSjpgkTjpiuJKOGK6kY8aCMRUa6SAddSHvqU06YpI46YjhSjpiuJKOqco+4z7SQTp6Eo06VtIRk8RJRwxX0hHDlXTMWDCmQiMdpKMu5D21SUdMEicdMVxJRwxX0jFV2WfcRzpIR0+iUcdKOmKSOOmI4Uo6YriSjhkLxlRopIN01IW8pzbpiEnipCOGK+mI4Uo6pir7jPtIB+noSTTqWElHTBInHTFcSUcMV9IxY8GYCo10kI66kPfUJh0xSZx0xHAlHTFcScdUZZ9xH+kgHT2JRh0r6YhJ4qQjhivpiOFKOmYsGFOhkQ7SURfyntqkIyaJk44YrqQjhivpmKrsM+4jHaSjJ9GoYyUdMUmcdMRwJR0xXEnHjAVjKjTSQTrqQt5Tm3TEJHHSEcOVdMRwJR1TlX3GfaSDdPQkGnWspCMmiZOOGK6kI4Yr6ZixYEyFRjpIR13Ie2qTjpgkTjpiuJKOGK6kY6qyz7iPdJCOnkSjjpV0xCRx0hHDlXTEcCUdMxaMqdBIB+moC3lPbdIRk8RJRwxX0hHDlXRMVfYZ95EO0tGTaNSxko6YJE46YriSjhiupGPGgjEVGukgHXUh76lNOmKSOOmI4Uo6YriSjqnKPuM+0kE6ehKNOlbSEZPESUcMV9IRw5V0zFgwpkIjHaSjLuQ9tUlHTBInHTFcSUcMV9IxVdln3Ec6SEdPolHHSjpikjjpiOFKOmK4ko4ZC8ZUaKSDdNSFvKc26YhJ4qQjhivpiOFKOqYq+4z7SAfp6Ek06lhJR0wSJx0xXElHDFfSMWPBmAqNdJCOupD31CYdMUmcdMRwJR0xXEnHVGWfcR/pIB09iUYdK+mISeKkI4Yr6YjhSjpmLBhToZEO0lEX8p7apCMmiZOOGK6kI4Yr6Ziq7DPuIx2koyfRqGMlHTFJnHTEcCUdMVxJx4wFYyo00kE66kLeU5t0xCRx0hHDlXTEcCUdU5V9xn2kg3T0JBp1rKQjJomTjhiupCOGK+mYsWBMhUY6SEddyHtqk46YJE46YriSjhiupGOqss+4j3SQjp5Eo46VdMQkcdIRw5V0xHAlHTMWjKnQSAfpqAt5T23SEZPESUcMV9IRw5V0TFX2GfcV6djf3x++cemSewMG33ryybEeDjeUQz8Mwx258+Dg4KH9xx+/1/30DEbIj+XlU089dRnT0zPNDDPLM2fODGfPnj3IbHFtwzX/7WeeOzs7V3Z3d4eDK1cexPb0bJ/Y3793zAUXS761nDGBIh3jQbNoS2CnHPoiHW03b2vDMFxGoT2BWjrab327t1ikY7sphOz9wyXfWs6YwDAMPxFy+G00E/gT5dAPw/CLkIQQ2A/Z6pZvNEvH+973vsWU3ZbjaLr7N95445N5psOtOYFHSr61nDEBMx3NT/x6g2Y6ahoxbTMdAVzNdARAHTdppiOMrZmOGbvGIrQiHRfuu2/42Ln2F1Vu4zYffeSR8ld1SDou3H//XT1drDnnWEfIT0vH5b29e+Yca0+xuZA05oJHF5LGcM1/W2MuIB2Lyj7jBuloL1qkIy651MWbdMRwJh0xXElHDFfSMWPBmAqNdJCOupD31CYdMUmcdMRwJR0xXEnHVGWfcR/pIB09iUYdK+mISeKkI4Yr6YjhSjpmLBhToZEO0lEX8p7apCMmiZOOGK6kI4Yr6Ziq7DPuIx2koyfRqGMlHTFJnHTEcCUdMVxJx4wFYyo00kE66kLeU5t0xCRx0hHDlXTEcCUdU5V9xn2kg3T0JBp1rKQjJomTjhiupCOGK+mYsWBMhUY6SEddyHtqk46YJE46YriSjhiupGOqss+4j3SQjp5Eo46VdMQkcdIRw5V0xHAlHTMWjKnQSAfpqAt5T23SEZPESUcMV9IRw5V0TFX2GfeRDtLRk2jUsZKOmCROOmK4ko4YrqRjxoIxFRrpIB11Ie+pTTpikjjpiOFKOmK4ko6pyj7jPtJBOnoSjTpW0hGTxElHDFfSEcOVdMxYMKZCIx2koy7kPbVJR0wSJx0xXElHDFfSMVXZZ9xHOkhHT6JRx0o6YpI46YjhSjpiuJKOGQvGVGikg3TUhbynNumISeKkI4Yr6YjhSjqmKvuM+0gH6ehJNOpYSUdMEicdMVxJRwxX0jFjwZgKjXSQjrqQ99QmHTFJnHTEcCUdMVxJx1Rln3Ef6SAdPYlGHSvpiEnipCOGK+mI4Uo6ZiwYU6GRDtJRF/Ke2qQjJomTjhiupCOGK+mYquwz7iMdpKMn0ahjJR0xSZx0xHAlHTFcSceMBWMqNNJBOupC3lObdMQkcdIRw5V0xHAlHVOVfcZ9pIN09CQadaykIyaJk44YrqQjhivpmLFgTIVGOkhHXch7apOOmCROOmK4ko4YrqRjqrLPuI90kI6eRKOOlXTEJHHSEcOVdMRwJR0zFoyp0EgH6agLeU9t0hGTxElHDFfSEcOVdExV9hn3kQ7S0ZNo1LGSjpgkTjpiuJKOGK6kY8aCMRUa6SAddSHvqU06YpI46YjhSjpiuJKOqco+4z7SQTp6Eo06VtIRk8RJRwxX0hHDlXTMWDCmQiMdpKMu5D21SUdMEicdMVxJRwxX0jFV2WfcRzpIR0+iUcdKOmKSOOmI4Uo6YriSjhkLxlRopIN01IW8pzbpiEnipCOGK+mI4Uo6pir7jPtIB+noSTTqWElHTBInHTFcSUcMV9IxY8GYCo10kI66kPfUJh0xSZx0xHAlHTFcScdUZZ9xH+kgHT2JRh0r6YhJ4qQjhivpiOFKOmYsGFOhkQ7SURfyntqkIyaJk44YrqQjhivpmKrsM+4jHaSjJ9GoYyUdMUmcdMRwJR0xXEnHjAVjKjTSQTrqQt5Tm3TEJHHSEcOVdMRwJR1TlX3GfUU6vvnoo8NXvvxl9wYM9vf3x3o43FAO/TAMd+bOnNAvPvzwr7qfnkEtHQcHBw9henqmmWFmeebMmeHs2bMHmTGubbhe3tv7Qua5s7NzZXd3d9jb2/s8tqdne+nixfNjLrhY8q3ljAkU6RgPmkVbAjvl0A/DcEfbTdvaSOAyEu0J1NLRfuvbvcUiHdtNIWTvHy751nLGBIZhuGkYhve6hzB4UTn0wzDcgnEI49txbc/11ltv/czb3va2X8O2Pdtrr7326+fPn88zn/JuWwY/WfKtJQIIIIBAXwTen1K6ra+Qu4l2N6X08m6iFSgCCCCAAALBBEhHHGDSEcfWlhFAAAEEOiRAOuIOGumIY2vLCCCAAAIdEsjS8Z9SSv/AvTmDr3t7pcO/CCEjgAACCIQR+IGU0k+7hzH47rAjZ8MIIIAAAggggAACCCCAAAIIIIAAAggggAACCCCAAAIIIIAAAggggEB7AkNKKd/dEEAAAQQQQACBUAKkIxSvjSOAAAIIIIBAIUA6CglLBBBAAAEEEAglQDpC8do4AggggAACCBQCpKOQsEQAAQQQQACBUAKkIxSvjSOAAAIIINAHgSIE9XJd5PV6pb1u/Tx2lPXWrTM1lvvqba96PK72jBjK9spzyjqWCCCAAAIIIBBEoBTfevNTfWV8amyqr6xflqddZ+r5y31HfZzXK7fl55R+SwQQQAABBBBoSGBdwZ0am+or4awby+tsGt+0ztTzl/uO+/iosZf1LBFAAAEEEEDghASWi/Smzaxbf91Y3u6m8U3rTD1/ue+4j8v+Lj+v9FsigAACCCCAQCMCxy2269ZfN5bD3TS+aZ2p5y/3Hfdxwbj8vNJviQACCCCAAAKNCBy32K5bf91YDnfT+KZ1pp6/3HfcxwXj8vNKvyUCCCCAAAIINCJw3GK7bv11YzncTeOb1pl6/nLfcR8XjMvPK/2WCCCAAAIIINCIwHGL7br1143lcDeNb1pn6vnLfcd9XDAuP6/0WyKAAAIIIIBAIwLHLbbr1l83lsPdNL5pnannL/cd93HBuPy80m+JAAIIIIAAAo0IrCu2U2NTfSWUdWN5nU3jm9aZev5y33EfHzX2sp4lAggggAACCJyCwHKhzpua6isvMTU21VfWL8ujrLPqtctz87K+lf7Sd9zHq55X+i0RQAABBBBAoDGBUqzr5bqXqNcr7XXr57GjrlevWz+nbpfXWu477uNV2yn9lggggAACCCCAAAIIIIAAAggggAACCCCAAAIIIIAAAggggAACCCCAAAIIIIAAAggggAACCCCAAAIIIIAAAggggAACCCCAAAIIIIAAAggggAACCCCAAAIIIIAAAggggAACCCCAAAIIIIAAAggggAACCCCAAAIIIIAAAggggAACCCCAAAIIIIAAAggggAACCCCAAAIIIIAAAggggAACCCCAAAIIIIAAAggggAACCCCAAAIIIIAAAggggAACCCCAAAIIIIAAAggggAACCCCAAAIIIIAAAggggAACCCCAAAIIbBeB/weFdRwsKHz+ZQAAAABJRU5ErkJggg==)"
      ]
    },
    {
      "cell_type": "code",
      "metadata": {
        "id": "omCpmMlOqATz"
      },
      "source": [
        "# col-name은 Name, Age, Sex이 됩니다.\n",
        "# DataFrame은 python의 dict로 만들 수 있습니다.\n",
        "# 그러나 실제 데이터는 대부분 csv로 되어있어, dict로 다루실 일이 많이 없음\n",
        "\n",
        "import pandas as pd\n",
        "\n",
        "df = pd.DataFrame(\n",
        "     {\n",
        "         \"Name\": [\n",
        "             \"Braund, Mr. Owen Harris\",\n",
        "             \"Allen, Mr. William Henry\",\n",
        "             \"Bonnell, Miss. Elizabeth\",\n",
        "         ],\n",
        "         \"Age\": [22, 35, 58],\n",
        "         \"Sex\": [\"male\", \"male\", \"female\"],\n",
        "        }\n",
        " )\n"
      ],
      "execution_count": null,
      "outputs": []
    },
    {
      "cell_type": "code",
      "metadata": {
        "colab": {
          "base_uri": "https://localhost:8080/",
          "height": 143
        },
        "id": "9nqux0jiQVk0",
        "outputId": "7d5823f0-c1ff-443a-dd3d-7c35c2566c39"
      },
      "source": [
        "df"
      ],
      "execution_count": null,
      "outputs": [
        {
          "output_type": "execute_result",
          "data": {
            "text/html": [
              "<div>\n",
              "<style scoped>\n",
              "    .dataframe tbody tr th:only-of-type {\n",
              "        vertical-align: middle;\n",
              "    }\n",
              "\n",
              "    .dataframe tbody tr th {\n",
              "        vertical-align: top;\n",
              "    }\n",
              "\n",
              "    .dataframe thead th {\n",
              "        text-align: right;\n",
              "    }\n",
              "</style>\n",
              "<table border=\"1\" class=\"dataframe\">\n",
              "  <thead>\n",
              "    <tr style=\"text-align: right;\">\n",
              "      <th></th>\n",
              "      <th>Name</th>\n",
              "      <th>Age</th>\n",
              "      <th>Sex</th>\n",
              "    </tr>\n",
              "  </thead>\n",
              "  <tbody>\n",
              "    <tr>\n",
              "      <th>0</th>\n",
              "      <td>Braund, Mr. Owen Harris</td>\n",
              "      <td>22</td>\n",
              "      <td>male</td>\n",
              "    </tr>\n",
              "    <tr>\n",
              "      <th>1</th>\n",
              "      <td>Allen, Mr. William Henry</td>\n",
              "      <td>35</td>\n",
              "      <td>male</td>\n",
              "    </tr>\n",
              "    <tr>\n",
              "      <th>2</th>\n",
              "      <td>Bonnell, Miss. Elizabeth</td>\n",
              "      <td>58</td>\n",
              "      <td>female</td>\n",
              "    </tr>\n",
              "  </tbody>\n",
              "</table>\n",
              "</div>"
            ],
            "text/plain": [
              "                       Name  Age     Sex\n",
              "0   Braund, Mr. Owen Harris   22    male\n",
              "1  Allen, Mr. William Henry   35    male\n",
              "2  Bonnell, Miss. Elizabeth   58  female"
            ]
          },
          "metadata": {
            "tags": []
          },
          "execution_count": 12
        }
      ]
    },
    {
      "cell_type": "markdown",
      "metadata": {
        "id": "Iwy36GL0Vub6"
      },
      "source": [
        "![image.png](data:image/png;base64,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)"
      ]
    },
    {
      "cell_type": "markdown",
      "metadata": {
        "id": "JdLk-KVKVzZL"
      },
      "source": [
        "###Each column in a DataFrame is a Series"
      ]
    },
    {
      "cell_type": "markdown",
      "metadata": {
        "id": "nDQKb23MV2Kz"
      },
      "source": [
        "![image.png](data:image/png;base64,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)"
      ]
    },
    {
      "cell_type": "code",
      "metadata": {
        "colab": {
          "base_uri": "https://localhost:8080/"
        },
        "id": "Pa8cVvt3QkMl",
        "outputId": "62580097-a2fb-425f-dcbf-f9728039ced5"
      },
      "source": [
        "df['Age']   \n",
        "\n",
        "# 대괄호가 1개이기 때문에 시리즈로 표현됨.\n",
        "# 시리즈란? 데이터프레임 안에서 한개의 열(col)을 추출한 값을 시리즈라 함."
      ],
      "execution_count": null,
      "outputs": [
        {
          "output_type": "execute_result",
          "data": {
            "text/plain": [
              "0    22\n",
              "1    35\n",
              "2    58\n",
              "Name: Age, dtype: int64"
            ]
          },
          "metadata": {
            "tags": []
          },
          "execution_count": 13
        }
      ]
    },
    {
      "cell_type": "code",
      "metadata": {
        "colab": {
          "base_uri": "https://localhost:8080/",
          "height": 143
        },
        "id": "p0cRh85eP68F",
        "outputId": "babe09e8-775f-4045-e98d-17e57135cc27"
      },
      "source": [
        "df[['Age']] # 대괄호가 2개이기 때문에 데이터프레임으로 표현됨"
      ],
      "execution_count": null,
      "outputs": [
        {
          "output_type": "execute_result",
          "data": {
            "text/html": [
              "<div>\n",
              "<style scoped>\n",
              "    .dataframe tbody tr th:only-of-type {\n",
              "        vertical-align: middle;\n",
              "    }\n",
              "\n",
              "    .dataframe tbody tr th {\n",
              "        vertical-align: top;\n",
              "    }\n",
              "\n",
              "    .dataframe thead th {\n",
              "        text-align: right;\n",
              "    }\n",
              "</style>\n",
              "<table border=\"1\" class=\"dataframe\">\n",
              "  <thead>\n",
              "    <tr style=\"text-align: right;\">\n",
              "      <th></th>\n",
              "      <th>Age</th>\n",
              "    </tr>\n",
              "  </thead>\n",
              "  <tbody>\n",
              "    <tr>\n",
              "      <th>0</th>\n",
              "      <td>22</td>\n",
              "    </tr>\n",
              "    <tr>\n",
              "      <th>1</th>\n",
              "      <td>35</td>\n",
              "    </tr>\n",
              "    <tr>\n",
              "      <th>2</th>\n",
              "      <td>58</td>\n",
              "    </tr>\n",
              "  </tbody>\n",
              "</table>\n",
              "</div>"
            ],
            "text/plain": [
              "   Age\n",
              "0   22\n",
              "1   35\n",
              "2   58"
            ]
          },
          "metadata": {
            "tags": []
          },
          "execution_count": 5
        }
      ]
    },
    {
      "cell_type": "code",
      "metadata": {
        "colab": {
          "base_uri": "https://localhost:8080/"
        },
        "id": "_4E_JwZROO1J",
        "outputId": "84e1ad55-f67a-4d64-fd3e-d5afa9ff393b"
      },
      "source": [
        "type(df[['Age']]) \n",
        "\n",
        "# 대괄호가 2개이면, 데이터프레임임!!\n",
        "# 대괄호가 1개이면, 시리즈임!!"
      ],
      "execution_count": null,
      "outputs": [
        {
          "output_type": "execute_result",
          "data": {
            "text/plain": [
              "pandas.core.frame.DataFrame"
            ]
          },
          "metadata": {
            "tags": []
          },
          "execution_count": 6
        }
      ]
    },
    {
      "cell_type": "markdown",
      "metadata": {
        "id": "G_QG1N4DQ-ke"
      },
      "source": [
        "###Do something with a DataFrame or Series"
      ]
    },
    {
      "cell_type": "code",
      "metadata": {
        "colab": {
          "base_uri": "https://localhost:8080/"
        },
        "id": "h24n0uY6P27-",
        "outputId": "ca6d5658-70c7-4a6a-d2bf-4ce7ccd6e620"
      },
      "source": [
        "df[\"Age\"].max()"
      ],
      "execution_count": null,
      "outputs": [
        {
          "output_type": "execute_result",
          "data": {
            "text/plain": [
              "58"
            ]
          },
          "metadata": {
            "tags": []
          },
          "execution_count": 15
        }
      ]
    },
    {
      "cell_type": "code",
      "metadata": {
        "colab": {
          "base_uri": "https://localhost:8080/"
        },
        "id": "b1CS8NK1RfUt",
        "outputId": "a81b1019-3115-4654-a15d-ccd7b94e62f8"
      },
      "source": [
        "df[\"Age\"].min()"
      ],
      "execution_count": null,
      "outputs": [
        {
          "output_type": "execute_result",
          "data": {
            "text/plain": [
              "22"
            ]
          },
          "metadata": {
            "tags": []
          },
          "execution_count": 16
        }
      ]
    },
    {
      "cell_type": "code",
      "metadata": {
        "colab": {
          "base_uri": "https://localhost:8080/"
        },
        "id": "nHR7VNkARhD8",
        "outputId": "ff23e75d-c5be-4d4f-e402-7ac6347a432d"
      },
      "source": [
        "df[\"Age\"].mean()"
      ],
      "execution_count": null,
      "outputs": [
        {
          "output_type": "execute_result",
          "data": {
            "text/plain": [
              "38.333333333333336"
            ]
          },
          "metadata": {
            "tags": []
          },
          "execution_count": 17
        }
      ]
    },
    {
      "cell_type": "code",
      "metadata": {
        "colab": {
          "base_uri": "https://localhost:8080/"
        },
        "id": "p-JqhTU8Rift",
        "outputId": "3f714aac-42b3-427d-e5ab-9cf7f464591b"
      },
      "source": [
        "df[\"Age\"].var()"
      ],
      "execution_count": null,
      "outputs": [
        {
          "output_type": "execute_result",
          "data": {
            "text/plain": [
              "332.3333333333333"
            ]
          },
          "metadata": {
            "tags": []
          },
          "execution_count": 18
        }
      ]
    },
    {
      "cell_type": "code",
      "metadata": {
        "colab": {
          "base_uri": "https://localhost:8080/"
        },
        "id": "Pz8sLKdqRmX8",
        "outputId": "a4baa78a-21f6-4a81-8fb5-fd676d7c5bfe"
      },
      "source": [
        "df[\"Age\"].std()"
      ],
      "execution_count": null,
      "outputs": [
        {
          "output_type": "execute_result",
          "data": {
            "text/plain": [
              "18.230011885167087"
            ]
          },
          "metadata": {
            "tags": []
          },
          "execution_count": 20
        }
      ]
    },
    {
      "cell_type": "code",
      "metadata": {
        "colab": {
          "base_uri": "https://localhost:8080/",
          "height": 300
        },
        "id": "4inwstKSRs-9",
        "outputId": "705d49c9-d72f-49c0-fbe4-53bc23368fa8"
      },
      "source": [
        "df.describe()\n",
        "\n",
        "# Age가 숫자형 데이터이기 때문에 Age만 출력됨\n",
        "# describe는 숫자형 데이터의 개괄적인 대표값들을 출력해줌"
      ],
      "execution_count": null,
      "outputs": [
        {
          "output_type": "execute_result",
          "data": {
            "text/html": [
              "<div>\n",
              "<style scoped>\n",
              "    .dataframe tbody tr th:only-of-type {\n",
              "        vertical-align: middle;\n",
              "    }\n",
              "\n",
              "    .dataframe tbody tr th {\n",
              "        vertical-align: top;\n",
              "    }\n",
              "\n",
              "    .dataframe thead th {\n",
              "        text-align: right;\n",
              "    }\n",
              "</style>\n",
              "<table border=\"1\" class=\"dataframe\">\n",
              "  <thead>\n",
              "    <tr style=\"text-align: right;\">\n",
              "      <th></th>\n",
              "      <th>Age</th>\n",
              "    </tr>\n",
              "  </thead>\n",
              "  <tbody>\n",
              "    <tr>\n",
              "      <th>count</th>\n",
              "      <td>3.000000</td>\n",
              "    </tr>\n",
              "    <tr>\n",
              "      <th>mean</th>\n",
              "      <td>38.333333</td>\n",
              "    </tr>\n",
              "    <tr>\n",
              "      <th>std</th>\n",
              "      <td>18.230012</td>\n",
              "    </tr>\n",
              "    <tr>\n",
              "      <th>min</th>\n",
              "      <td>22.000000</td>\n",
              "    </tr>\n",
              "    <tr>\n",
              "      <th>25%</th>\n",
              "      <td>28.500000</td>\n",
              "    </tr>\n",
              "    <tr>\n",
              "      <th>50%</th>\n",
              "      <td>35.000000</td>\n",
              "    </tr>\n",
              "    <tr>\n",
              "      <th>75%</th>\n",
              "      <td>46.500000</td>\n",
              "    </tr>\n",
              "    <tr>\n",
              "      <th>max</th>\n",
              "      <td>58.000000</td>\n",
              "    </tr>\n",
              "  </tbody>\n",
              "</table>\n",
              "</div>"
            ],
            "text/plain": [
              "             Age\n",
              "count   3.000000\n",
              "mean   38.333333\n",
              "std    18.230012\n",
              "min    22.000000\n",
              "25%    28.500000\n",
              "50%    35.000000\n",
              "75%    46.500000\n",
              "max    58.000000"
            ]
          },
          "metadata": {
            "tags": []
          },
          "execution_count": 25
        }
      ]
    },
    {
      "cell_type": "code",
      "metadata": {
        "colab": {
          "base_uri": "https://localhost:8080/"
        },
        "id": "LkvwwuXlSsVs",
        "outputId": "e6dcc670-f54d-40c5-f007-3aae6bce4fce"
      },
      "source": [
        "df.dtypes"
      ],
      "execution_count": null,
      "outputs": [
        {
          "output_type": "execute_result",
          "data": {
            "text/plain": [
              "Name    object\n",
              "Age      int64\n",
              "Sex     object\n",
              "dtype: object"
            ]
          },
          "metadata": {
            "tags": []
          },
          "execution_count": 24
        }
      ]
    },
    {
      "cell_type": "markdown",
      "metadata": {
        "id": "iSwLYIN-TRpU"
      },
      "source": [
        "##How do I read and write tabular data?"
      ]
    },
    {
      "cell_type": "markdown",
      "metadata": {
        "id": "gYKxsNe0TUyT"
      },
      "source": [
        "![image.png](data:image/png;base64,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)"
      ]
    },
    {
      "cell_type": "code",
      "metadata": {
        "id": "u3hFmiTaSwNk"
      },
      "source": [
        "titanic = pd.read_csv(\"train.csv\")"
      ],
      "execution_count": null,
      "outputs": []
    },
    {
      "cell_type": "code",
      "metadata": {
        "colab": {
          "base_uri": "https://localhost:8080/",
          "height": 946
        },
        "id": "q8zAQ3coX-Fq",
        "outputId": "f5532dcb-053c-40e7-b385-f9420ce2929c"
      },
      "source": [
        "titanic"
      ],
      "execution_count": null,
      "outputs": [
        {
          "output_type": "execute_result",
          "data": {
            "text/html": [
              "<div>\n",
              "<style scoped>\n",
              "    .dataframe tbody tr th:only-of-type {\n",
              "        vertical-align: middle;\n",
              "    }\n",
              "\n",
              "    .dataframe tbody tr th {\n",
              "        vertical-align: top;\n",
              "    }\n",
              "\n",
              "    .dataframe thead th {\n",
              "        text-align: right;\n",
              "    }\n",
              "</style>\n",
              "<table border=\"1\" class=\"dataframe\">\n",
              "  <thead>\n",
              "    <tr style=\"text-align: right;\">\n",
              "      <th></th>\n",
              "      <th>PassengerId</th>\n",
              "      <th>Survived</th>\n",
              "      <th>Pclass</th>\n",
              "      <th>Name</th>\n",
              "      <th>Sex</th>\n",
              "      <th>Age</th>\n",
              "      <th>SibSp</th>\n",
              "      <th>Parch</th>\n",
              "      <th>Ticket</th>\n",
              "      <th>Fare</th>\n",
              "      <th>Cabin</th>\n",
              "      <th>Embarked</th>\n",
              "    </tr>\n",
              "  </thead>\n",
              "  <tbody>\n",
              "    <tr>\n",
              "      <th>0</th>\n",
              "      <td>1</td>\n",
              "      <td>0</td>\n",
              "      <td>3</td>\n",
              "      <td>Braund, Mr. Owen Harris</td>\n",
              "      <td>male</td>\n",
              "      <td>22.0</td>\n",
              "      <td>1</td>\n",
              "      <td>0</td>\n",
              "      <td>A/5 21171</td>\n",
              "      <td>7.2500</td>\n",
              "      <td>NaN</td>\n",
              "      <td>S</td>\n",
              "    </tr>\n",
              "    <tr>\n",
              "      <th>1</th>\n",
              "      <td>2</td>\n",
              "      <td>1</td>\n",
              "      <td>1</td>\n",
              "      <td>Cumings, Mrs. John Bradley (Florence Briggs Th...</td>\n",
              "      <td>female</td>\n",
              "      <td>38.0</td>\n",
              "      <td>1</td>\n",
              "      <td>0</td>\n",
              "      <td>PC 17599</td>\n",
              "      <td>71.2833</td>\n",
              "      <td>C85</td>\n",
              "      <td>C</td>\n",
              "    </tr>\n",
              "    <tr>\n",
              "      <th>2</th>\n",
              "      <td>3</td>\n",
              "      <td>1</td>\n",
              "      <td>3</td>\n",
              "      <td>Heikkinen, Miss. Laina</td>\n",
              "      <td>female</td>\n",
              "      <td>26.0</td>\n",
              "      <td>0</td>\n",
              "      <td>0</td>\n",
              "      <td>STON/O2. 3101282</td>\n",
              "      <td>7.9250</td>\n",
              "      <td>NaN</td>\n",
              "      <td>S</td>\n",
              "    </tr>\n",
              "    <tr>\n",
              "      <th>3</th>\n",
              "      <td>4</td>\n",
              "      <td>1</td>\n",
              "      <td>1</td>\n",
              "      <td>Futrelle, Mrs. Jacques Heath (Lily May Peel)</td>\n",
              "      <td>female</td>\n",
              "      <td>35.0</td>\n",
              "      <td>1</td>\n",
              "      <td>0</td>\n",
              "      <td>113803</td>\n",
              "      <td>53.1000</td>\n",
              "      <td>C123</td>\n",
              "      <td>S</td>\n",
              "    </tr>\n",
              "    <tr>\n",
              "      <th>4</th>\n",
              "      <td>5</td>\n",
              "      <td>0</td>\n",
              "      <td>3</td>\n",
              "      <td>Allen, Mr. William Henry</td>\n",
              "      <td>male</td>\n",
              "      <td>35.0</td>\n",
              "      <td>0</td>\n",
              "      <td>0</td>\n",
              "      <td>373450</td>\n",
              "      <td>8.0500</td>\n",
              "      <td>NaN</td>\n",
              "      <td>S</td>\n",
              "    </tr>\n",
              "    <tr>\n",
              "      <th>...</th>\n",
              "      <td>...</td>\n",
              "      <td>...</td>\n",
              "      <td>...</td>\n",
              "      <td>...</td>\n",
              "      <td>...</td>\n",
              "      <td>...</td>\n",
              "      <td>...</td>\n",
              "      <td>...</td>\n",
              "      <td>...</td>\n",
              "      <td>...</td>\n",
              "      <td>...</td>\n",
              "      <td>...</td>\n",
              "    </tr>\n",
              "    <tr>\n",
              "      <th>886</th>\n",
              "      <td>887</td>\n",
              "      <td>0</td>\n",
              "      <td>2</td>\n",
              "      <td>Montvila, Rev. Juozas</td>\n",
              "      <td>male</td>\n",
              "      <td>27.0</td>\n",
              "      <td>0</td>\n",
              "      <td>0</td>\n",
              "      <td>211536</td>\n",
              "      <td>13.0000</td>\n",
              "      <td>NaN</td>\n",
              "      <td>S</td>\n",
              "    </tr>\n",
              "    <tr>\n",
              "      <th>887</th>\n",
              "      <td>888</td>\n",
              "      <td>1</td>\n",
              "      <td>1</td>\n",
              "      <td>Graham, Miss. Margaret Edith</td>\n",
              "      <td>female</td>\n",
              "      <td>19.0</td>\n",
              "      <td>0</td>\n",
              "      <td>0</td>\n",
              "      <td>112053</td>\n",
              "      <td>30.0000</td>\n",
              "      <td>B42</td>\n",
              "      <td>S</td>\n",
              "    </tr>\n",
              "    <tr>\n",
              "      <th>888</th>\n",
              "      <td>889</td>\n",
              "      <td>0</td>\n",
              "      <td>3</td>\n",
              "      <td>Johnston, Miss. Catherine Helen \"Carrie\"</td>\n",
              "      <td>female</td>\n",
              "      <td>NaN</td>\n",
              "      <td>1</td>\n",
              "      <td>2</td>\n",
              "      <td>W./C. 6607</td>\n",
              "      <td>23.4500</td>\n",
              "      <td>NaN</td>\n",
              "      <td>S</td>\n",
              "    </tr>\n",
              "    <tr>\n",
              "      <th>889</th>\n",
              "      <td>890</td>\n",
              "      <td>1</td>\n",
              "      <td>1</td>\n",
              "      <td>Behr, Mr. Karl Howell</td>\n",
              "      <td>male</td>\n",
              "      <td>26.0</td>\n",
              "      <td>0</td>\n",
              "      <td>0</td>\n",
              "      <td>111369</td>\n",
              "      <td>30.0000</td>\n",
              "      <td>C148</td>\n",
              "      <td>C</td>\n",
              "    </tr>\n",
              "    <tr>\n",
              "      <th>890</th>\n",
              "      <td>891</td>\n",
              "      <td>0</td>\n",
              "      <td>3</td>\n",
              "      <td>Dooley, Mr. Patrick</td>\n",
              "      <td>male</td>\n",
              "      <td>32.0</td>\n",
              "      <td>0</td>\n",
              "      <td>0</td>\n",
              "      <td>370376</td>\n",
              "      <td>7.7500</td>\n",
              "      <td>NaN</td>\n",
              "      <td>Q</td>\n",
              "    </tr>\n",
              "  </tbody>\n",
              "</table>\n",
              "<p>891 rows × 12 columns</p>\n",
              "</div>"
            ],
            "text/plain": [
              "     PassengerId  Survived  Pclass  ...     Fare Cabin  Embarked\n",
              "0              1         0       3  ...   7.2500   NaN         S\n",
              "1              2         1       1  ...  71.2833   C85         C\n",
              "2              3         1       3  ...   7.9250   NaN         S\n",
              "3              4         1       1  ...  53.1000  C123         S\n",
              "4              5         0       3  ...   8.0500   NaN         S\n",
              "..           ...       ...     ...  ...      ...   ...       ...\n",
              "886          887         0       2  ...  13.0000   NaN         S\n",
              "887          888         1       1  ...  30.0000   B42         S\n",
              "888          889         0       3  ...  23.4500   NaN         S\n",
              "889          890         1       1  ...  30.0000  C148         C\n",
              "890          891         0       3  ...   7.7500   NaN         Q\n",
              "\n",
              "[891 rows x 12 columns]"
            ]
          },
          "metadata": {
            "tags": []
          },
          "execution_count": 27
        }
      ]
    },
    {
      "cell_type": "code",
      "metadata": {
        "colab": {
          "base_uri": "https://localhost:8080/",
          "height": 503
        },
        "id": "-uAMCoB2X_wL",
        "outputId": "e8678ec8-02e7-40be-8089-4185335674d9"
      },
      "source": [
        "titanic.head()"
      ],
      "execution_count": null,
      "outputs": [
        {
          "output_type": "execute_result",
          "data": {
            "text/html": [
              "<div>\n",
              "<style scoped>\n",
              "    .dataframe tbody tr th:only-of-type {\n",
              "        vertical-align: middle;\n",
              "    }\n",
              "\n",
              "    .dataframe tbody tr th {\n",
              "        vertical-align: top;\n",
              "    }\n",
              "\n",
              "    .dataframe thead th {\n",
              "        text-align: right;\n",
              "    }\n",
              "</style>\n",
              "<table border=\"1\" class=\"dataframe\">\n",
              "  <thead>\n",
              "    <tr style=\"text-align: right;\">\n",
              "      <th></th>\n",
              "      <th>PassengerId</th>\n",
              "      <th>Survived</th>\n",
              "      <th>Pclass</th>\n",
              "      <th>Name</th>\n",
              "      <th>Sex</th>\n",
              "      <th>Age</th>\n",
              "      <th>SibSp</th>\n",
              "      <th>Parch</th>\n",
              "      <th>Ticket</th>\n",
              "      <th>Fare</th>\n",
              "      <th>Cabin</th>\n",
              "      <th>Embarked</th>\n",
              "    </tr>\n",
              "  </thead>\n",
              "  <tbody>\n",
              "    <tr>\n",
              "      <th>0</th>\n",
              "      <td>1</td>\n",
              "      <td>0</td>\n",
              "      <td>3</td>\n",
              "      <td>Braund, Mr. Owen Harris</td>\n",
              "      <td>male</td>\n",
              "      <td>22.0</td>\n",
              "      <td>1</td>\n",
              "      <td>0</td>\n",
              "      <td>A/5 21171</td>\n",
              "      <td>7.2500</td>\n",
              "      <td>NaN</td>\n",
              "      <td>S</td>\n",
              "    </tr>\n",
              "    <tr>\n",
              "      <th>1</th>\n",
              "      <td>2</td>\n",
              "      <td>1</td>\n",
              "      <td>1</td>\n",
              "      <td>Cumings, Mrs. John Bradley (Florence Briggs Th...</td>\n",
              "      <td>female</td>\n",
              "      <td>38.0</td>\n",
              "      <td>1</td>\n",
              "      <td>0</td>\n",
              "      <td>PC 17599</td>\n",
              "      <td>71.2833</td>\n",
              "      <td>C85</td>\n",
              "      <td>C</td>\n",
              "    </tr>\n",
              "    <tr>\n",
              "      <th>2</th>\n",
              "      <td>3</td>\n",
              "      <td>1</td>\n",
              "      <td>3</td>\n",
              "      <td>Heikkinen, Miss. Laina</td>\n",
              "      <td>female</td>\n",
              "      <td>26.0</td>\n",
              "      <td>0</td>\n",
              "      <td>0</td>\n",
              "      <td>STON/O2. 3101282</td>\n",
              "      <td>7.9250</td>\n",
              "      <td>NaN</td>\n",
              "      <td>S</td>\n",
              "    </tr>\n",
              "    <tr>\n",
              "      <th>3</th>\n",
              "      <td>4</td>\n",
              "      <td>1</td>\n",
              "      <td>1</td>\n",
              "      <td>Futrelle, Mrs. Jacques Heath (Lily May Peel)</td>\n",
              "      <td>female</td>\n",
              "      <td>35.0</td>\n",
              "      <td>1</td>\n",
              "      <td>0</td>\n",
              "      <td>113803</td>\n",
              "      <td>53.1000</td>\n",
              "      <td>C123</td>\n",
              "      <td>S</td>\n",
              "    </tr>\n",
              "    <tr>\n",
              "      <th>4</th>\n",
              "      <td>5</td>\n",
              "      <td>0</td>\n",
              "      <td>3</td>\n",
              "      <td>Allen, Mr. William Henry</td>\n",
              "      <td>male</td>\n",
              "      <td>35.0</td>\n",
              "      <td>0</td>\n",
              "      <td>0</td>\n",
              "      <td>373450</td>\n",
              "      <td>8.0500</td>\n",
              "      <td>NaN</td>\n",
              "      <td>S</td>\n",
              "    </tr>\n",
              "  </tbody>\n",
              "</table>\n",
              "</div>"
            ],
            "text/plain": [
              "   PassengerId  Survived  Pclass  ...     Fare Cabin  Embarked\n",
              "0            1         0       3  ...   7.2500   NaN         S\n",
              "1            2         1       1  ...  71.2833   C85         C\n",
              "2            3         1       3  ...   7.9250   NaN         S\n",
              "3            4         1       1  ...  53.1000  C123         S\n",
              "4            5         0       3  ...   8.0500   NaN         S\n",
              "\n",
              "[5 rows x 12 columns]"
            ]
          },
          "metadata": {
            "tags": []
          },
          "execution_count": 28
        }
      ]
    },
    {
      "cell_type": "code",
      "metadata": {
        "colab": {
          "base_uri": "https://localhost:8080/",
          "height": 451
        },
        "id": "uMdHNNIGYmaM",
        "outputId": "2c5864da-feea-40e7-b9e9-ce395d5c914a"
      },
      "source": [
        "titanic.tail()"
      ],
      "execution_count": null,
      "outputs": [
        {
          "output_type": "execute_result",
          "data": {
            "text/html": [
              "<div>\n",
              "<style scoped>\n",
              "    .dataframe tbody tr th:only-of-type {\n",
              "        vertical-align: middle;\n",
              "    }\n",
              "\n",
              "    .dataframe tbody tr th {\n",
              "        vertical-align: top;\n",
              "    }\n",
              "\n",
              "    .dataframe thead th {\n",
              "        text-align: right;\n",
              "    }\n",
              "</style>\n",
              "<table border=\"1\" class=\"dataframe\">\n",
              "  <thead>\n",
              "    <tr style=\"text-align: right;\">\n",
              "      <th></th>\n",
              "      <th>PassengerId</th>\n",
              "      <th>Survived</th>\n",
              "      <th>Pclass</th>\n",
              "      <th>Name</th>\n",
              "      <th>Sex</th>\n",
              "      <th>Age</th>\n",
              "      <th>SibSp</th>\n",
              "      <th>Parch</th>\n",
              "      <th>Ticket</th>\n",
              "      <th>Fare</th>\n",
              "      <th>Cabin</th>\n",
              "      <th>Embarked</th>\n",
              "    </tr>\n",
              "  </thead>\n",
              "  <tbody>\n",
              "    <tr>\n",
              "      <th>886</th>\n",
              "      <td>887</td>\n",
              "      <td>0</td>\n",
              "      <td>2</td>\n",
              "      <td>Montvila, Rev. Juozas</td>\n",
              "      <td>male</td>\n",
              "      <td>27.0</td>\n",
              "      <td>0</td>\n",
              "      <td>0</td>\n",
              "      <td>211536</td>\n",
              "      <td>13.00</td>\n",
              "      <td>NaN</td>\n",
              "      <td>S</td>\n",
              "    </tr>\n",
              "    <tr>\n",
              "      <th>887</th>\n",
              "      <td>888</td>\n",
              "      <td>1</td>\n",
              "      <td>1</td>\n",
              "      <td>Graham, Miss. Margaret Edith</td>\n",
              "      <td>female</td>\n",
              "      <td>19.0</td>\n",
              "      <td>0</td>\n",
              "      <td>0</td>\n",
              "      <td>112053</td>\n",
              "      <td>30.00</td>\n",
              "      <td>B42</td>\n",
              "      <td>S</td>\n",
              "    </tr>\n",
              "    <tr>\n",
              "      <th>888</th>\n",
              "      <td>889</td>\n",
              "      <td>0</td>\n",
              "      <td>3</td>\n",
              "      <td>Johnston, Miss. Catherine Helen \"Carrie\"</td>\n",
              "      <td>female</td>\n",
              "      <td>NaN</td>\n",
              "      <td>1</td>\n",
              "      <td>2</td>\n",
              "      <td>W./C. 6607</td>\n",
              "      <td>23.45</td>\n",
              "      <td>NaN</td>\n",
              "      <td>S</td>\n",
              "    </tr>\n",
              "    <tr>\n",
              "      <th>889</th>\n",
              "      <td>890</td>\n",
              "      <td>1</td>\n",
              "      <td>1</td>\n",
              "      <td>Behr, Mr. Karl Howell</td>\n",
              "      <td>male</td>\n",
              "      <td>26.0</td>\n",
              "      <td>0</td>\n",
              "      <td>0</td>\n",
              "      <td>111369</td>\n",
              "      <td>30.00</td>\n",
              "      <td>C148</td>\n",
              "      <td>C</td>\n",
              "    </tr>\n",
              "    <tr>\n",
              "      <th>890</th>\n",
              "      <td>891</td>\n",
              "      <td>0</td>\n",
              "      <td>3</td>\n",
              "      <td>Dooley, Mr. Patrick</td>\n",
              "      <td>male</td>\n",
              "      <td>32.0</td>\n",
              "      <td>0</td>\n",
              "      <td>0</td>\n",
              "      <td>370376</td>\n",
              "      <td>7.75</td>\n",
              "      <td>NaN</td>\n",
              "      <td>Q</td>\n",
              "    </tr>\n",
              "  </tbody>\n",
              "</table>\n",
              "</div>"
            ],
            "text/plain": [
              "     PassengerId  Survived  Pclass  ...   Fare Cabin  Embarked\n",
              "886          887         0       2  ...  13.00   NaN         S\n",
              "887          888         1       1  ...  30.00   B42         S\n",
              "888          889         0       3  ...  23.45   NaN         S\n",
              "889          890         1       1  ...  30.00  C148         C\n",
              "890          891         0       3  ...   7.75   NaN         Q\n",
              "\n",
              "[5 rows x 12 columns]"
            ]
          },
          "metadata": {
            "tags": []
          },
          "execution_count": 29
        }
      ]
    },
    {
      "cell_type": "code",
      "metadata": {
        "colab": {
          "base_uri": "https://localhost:8080/"
        },
        "id": "zQoVw2NYYzaz",
        "outputId": "51c04da5-abe9-4518-9b6e-1b570c49737d"
      },
      "source": [
        "titanic.dtypes\n",
        "\n",
        "#object는 문자데이터\n",
        "#int는 정수형\n",
        "#float는 실수형...Age가 float로 나온거는 0살이 되지 않아서 그럼."
      ],
      "execution_count": null,
      "outputs": [
        {
          "output_type": "execute_result",
          "data": {
            "text/plain": [
              "PassengerId      int64\n",
              "Survived         int64\n",
              "Pclass           int64\n",
              "Name            object\n",
              "Sex             object\n",
              "Age            float64\n",
              "SibSp            int64\n",
              "Parch            int64\n",
              "Ticket          object\n",
              "Fare           float64\n",
              "Cabin           object\n",
              "Embarked        object\n",
              "dtype: object"
            ]
          },
          "metadata": {
            "tags": []
          },
          "execution_count": 31
        }
      ]
    },
    {
      "cell_type": "code",
      "metadata": {
        "id": "HOIrY69NY8yD"
      },
      "source": [
        "titanic.to_excel(\"titanic.xlsx\", sheet_name=\"passengers\", index=False)"
      ],
      "execution_count": null,
      "outputs": []
    },
    {
      "cell_type": "code",
      "metadata": {
        "colab": {
          "base_uri": "https://localhost:8080/",
          "height": 946
        },
        "id": "XYsu6MyiZnzS",
        "outputId": "763c60be-f7f2-4657-a64d-68eb8fb837c3"
      },
      "source": [
        "titanic_read_excel = pd.read_excel(\"titanic.xlsx\", sheet_name=\"passengers\")\n",
        "titanic_read_excel"
      ],
      "execution_count": null,
      "outputs": [
        {
          "output_type": "execute_result",
          "data": {
            "text/html": [
              "<div>\n",
              "<style scoped>\n",
              "    .dataframe tbody tr th:only-of-type {\n",
              "        vertical-align: middle;\n",
              "    }\n",
              "\n",
              "    .dataframe tbody tr th {\n",
              "        vertical-align: top;\n",
              "    }\n",
              "\n",
              "    .dataframe thead th {\n",
              "        text-align: right;\n",
              "    }\n",
              "</style>\n",
              "<table border=\"1\" class=\"dataframe\">\n",
              "  <thead>\n",
              "    <tr style=\"text-align: right;\">\n",
              "      <th></th>\n",
              "      <th>PassengerId</th>\n",
              "      <th>Survived</th>\n",
              "      <th>Pclass</th>\n",
              "      <th>Name</th>\n",
              "      <th>Sex</th>\n",
              "      <th>Age</th>\n",
              "      <th>SibSp</th>\n",
              "      <th>Parch</th>\n",
              "      <th>Ticket</th>\n",
              "      <th>Fare</th>\n",
              "      <th>Cabin</th>\n",
              "      <th>Embarked</th>\n",
              "    </tr>\n",
              "  </thead>\n",
              "  <tbody>\n",
              "    <tr>\n",
              "      <th>0</th>\n",
              "      <td>1</td>\n",
              "      <td>0</td>\n",
              "      <td>3</td>\n",
              "      <td>Braund, Mr. Owen Harris</td>\n",
              "      <td>male</td>\n",
              "      <td>22.0</td>\n",
              "      <td>1</td>\n",
              "      <td>0</td>\n",
              "      <td>A/5 21171</td>\n",
              "      <td>7.2500</td>\n",
              "      <td>NaN</td>\n",
              "      <td>S</td>\n",
              "    </tr>\n",
              "    <tr>\n",
              "      <th>1</th>\n",
              "      <td>2</td>\n",
              "      <td>1</td>\n",
              "      <td>1</td>\n",
              "      <td>Cumings, Mrs. John Bradley (Florence Briggs Th...</td>\n",
              "      <td>female</td>\n",
              "      <td>38.0</td>\n",
              "      <td>1</td>\n",
              "      <td>0</td>\n",
              "      <td>PC 17599</td>\n",
              "      <td>71.2833</td>\n",
              "      <td>C85</td>\n",
              "      <td>C</td>\n",
              "    </tr>\n",
              "    <tr>\n",
              "      <th>2</th>\n",
              "      <td>3</td>\n",
              "      <td>1</td>\n",
              "      <td>3</td>\n",
              "      <td>Heikkinen, Miss. Laina</td>\n",
              "      <td>female</td>\n",
              "      <td>26.0</td>\n",
              "      <td>0</td>\n",
              "      <td>0</td>\n",
              "      <td>STON/O2. 3101282</td>\n",
              "      <td>7.9250</td>\n",
              "      <td>NaN</td>\n",
              "      <td>S</td>\n",
              "    </tr>\n",
              "    <tr>\n",
              "      <th>3</th>\n",
              "      <td>4</td>\n",
              "      <td>1</td>\n",
              "      <td>1</td>\n",
              "      <td>Futrelle, Mrs. Jacques Heath (Lily May Peel)</td>\n",
              "      <td>female</td>\n",
              "      <td>35.0</td>\n",
              "      <td>1</td>\n",
              "      <td>0</td>\n",
              "      <td>113803</td>\n",
              "      <td>53.1000</td>\n",
              "      <td>C123</td>\n",
              "      <td>S</td>\n",
              "    </tr>\n",
              "    <tr>\n",
              "      <th>4</th>\n",
              "      <td>5</td>\n",
              "      <td>0</td>\n",
              "      <td>3</td>\n",
              "      <td>Allen, Mr. William Henry</td>\n",
              "      <td>male</td>\n",
              "      <td>35.0</td>\n",
              "      <td>0</td>\n",
              "      <td>0</td>\n",
              "      <td>373450</td>\n",
              "      <td>8.0500</td>\n",
              "      <td>NaN</td>\n",
              "      <td>S</td>\n",
              "    </tr>\n",
              "    <tr>\n",
              "      <th>...</th>\n",
              "      <td>...</td>\n",
              "      <td>...</td>\n",
              "      <td>...</td>\n",
              "      <td>...</td>\n",
              "      <td>...</td>\n",
              "      <td>...</td>\n",
              "      <td>...</td>\n",
              "      <td>...</td>\n",
              "      <td>...</td>\n",
              "      <td>...</td>\n",
              "      <td>...</td>\n",
              "      <td>...</td>\n",
              "    </tr>\n",
              "    <tr>\n",
              "      <th>886</th>\n",
              "      <td>887</td>\n",
              "      <td>0</td>\n",
              "      <td>2</td>\n",
              "      <td>Montvila, Rev. Juozas</td>\n",
              "      <td>male</td>\n",
              "      <td>27.0</td>\n",
              "      <td>0</td>\n",
              "      <td>0</td>\n",
              "      <td>211536</td>\n",
              "      <td>13.0000</td>\n",
              "      <td>NaN</td>\n",
              "      <td>S</td>\n",
              "    </tr>\n",
              "    <tr>\n",
              "      <th>887</th>\n",
              "      <td>888</td>\n",
              "      <td>1</td>\n",
              "      <td>1</td>\n",
              "      <td>Graham, Miss. Margaret Edith</td>\n",
              "      <td>female</td>\n",
              "      <td>19.0</td>\n",
              "      <td>0</td>\n",
              "      <td>0</td>\n",
              "      <td>112053</td>\n",
              "      <td>30.0000</td>\n",
              "      <td>B42</td>\n",
              "      <td>S</td>\n",
              "    </tr>\n",
              "    <tr>\n",
              "      <th>888</th>\n",
              "      <td>889</td>\n",
              "      <td>0</td>\n",
              "      <td>3</td>\n",
              "      <td>Johnston, Miss. Catherine Helen \"Carrie\"</td>\n",
              "      <td>female</td>\n",
              "      <td>NaN</td>\n",
              "      <td>1</td>\n",
              "      <td>2</td>\n",
              "      <td>W./C. 6607</td>\n",
              "      <td>23.4500</td>\n",
              "      <td>NaN</td>\n",
              "      <td>S</td>\n",
              "    </tr>\n",
              "    <tr>\n",
              "      <th>889</th>\n",
              "      <td>890</td>\n",
              "      <td>1</td>\n",
              "      <td>1</td>\n",
              "      <td>Behr, Mr. Karl Howell</td>\n",
              "      <td>male</td>\n",
              "      <td>26.0</td>\n",
              "      <td>0</td>\n",
              "      <td>0</td>\n",
              "      <td>111369</td>\n",
              "      <td>30.0000</td>\n",
              "      <td>C148</td>\n",
              "      <td>C</td>\n",
              "    </tr>\n",
              "    <tr>\n",
              "      <th>890</th>\n",
              "      <td>891</td>\n",
              "      <td>0</td>\n",
              "      <td>3</td>\n",
              "      <td>Dooley, Mr. Patrick</td>\n",
              "      <td>male</td>\n",
              "      <td>32.0</td>\n",
              "      <td>0</td>\n",
              "      <td>0</td>\n",
              "      <td>370376</td>\n",
              "      <td>7.7500</td>\n",
              "      <td>NaN</td>\n",
              "      <td>Q</td>\n",
              "    </tr>\n",
              "  </tbody>\n",
              "</table>\n",
              "<p>891 rows × 12 columns</p>\n",
              "</div>"
            ],
            "text/plain": [
              "     PassengerId  Survived  Pclass  ...     Fare Cabin  Embarked\n",
              "0              1         0       3  ...   7.2500   NaN         S\n",
              "1              2         1       1  ...  71.2833   C85         C\n",
              "2              3         1       3  ...   7.9250   NaN         S\n",
              "3              4         1       1  ...  53.1000  C123         S\n",
              "4              5         0       3  ...   8.0500   NaN         S\n",
              "..           ...       ...     ...  ...      ...   ...       ...\n",
              "886          887         0       2  ...  13.0000   NaN         S\n",
              "887          888         1       1  ...  30.0000   B42         S\n",
              "888          889         0       3  ...  23.4500   NaN         S\n",
              "889          890         1       1  ...  30.0000  C148         C\n",
              "890          891         0       3  ...   7.7500   NaN         Q\n",
              "\n",
              "[891 rows x 12 columns]"
            ]
          },
          "metadata": {
            "tags": []
          },
          "execution_count": 35
        }
      ]
    },
    {
      "cell_type": "code",
      "metadata": {
        "colab": {
          "base_uri": "https://localhost:8080/"
        },
        "id": "xzZ4F7IUZz4p",
        "outputId": "306d6e05-d712-4f75-bd2b-bd2030a7a0f5"
      },
      "source": [
        "titanic.info()"
      ],
      "execution_count": null,
      "outputs": [
        {
          "output_type": "stream",
          "text": [
            "<class 'pandas.core.frame.DataFrame'>\n",
            "RangeIndex: 891 entries, 0 to 890\n",
            "Data columns (total 12 columns):\n",
            " #   Column       Non-Null Count  Dtype  \n",
            "---  ------       --------------  -----  \n",
            " 0   PassengerId  891 non-null    int64  \n",
            " 1   Survived     891 non-null    int64  \n",
            " 2   Pclass       891 non-null    int64  \n",
            " 3   Name         891 non-null    object \n",
            " 4   Sex          891 non-null    object \n",
            " 5   Age          714 non-null    float64\n",
            " 6   SibSp        891 non-null    int64  \n",
            " 7   Parch        891 non-null    int64  \n",
            " 8   Ticket       891 non-null    object \n",
            " 9   Fare         891 non-null    float64\n",
            " 10  Cabin        204 non-null    object \n",
            " 11  Embarked     889 non-null    object \n",
            "dtypes: float64(2), int64(5), object(5)\n",
            "memory usage: 83.7+ KB\n"
          ],
          "name": "stdout"
        }
      ]
    },
    {
      "cell_type": "markdown",
      "metadata": {
        "id": "DWxFejVFbF2h"
      },
      "source": [
        "##How do I select a subset of a DataFrame?"
      ]
    },
    {
      "cell_type": "markdown",
      "metadata": {
        "id": "TEvsp1sSbNvh"
      },
      "source": [
        "##How do I select specific columns from a DataFrame?¶"
      ]
    },
    {
      "cell_type": "markdown",
      "metadata": {
        "id": "J4cSvfmrbP6Z"
      },
      "source": [
        "![image.png](data:image/png;base64,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)"
      ]
    },
    {
      "cell_type": "code",
      "metadata": {
        "colab": {
          "base_uri": "https://localhost:8080/"
        },
        "id": "x0kCpWiabaAJ",
        "outputId": "e5b00085-01e9-4b03-93d3-68ae3a7d6886"
      },
      "source": [
        "titanic[\"Age\"].shape\n",
        "\n",
        "# 몇 열 몇 행인지 출력해줌\n",
        "# (행의수,열의수)"
      ],
      "execution_count": null,
      "outputs": [
        {
          "output_type": "execute_result",
          "data": {
            "text/plain": [
              "(891,)"
            ]
          },
          "metadata": {
            "tags": []
          },
          "execution_count": 37
        }
      ]
    },
    {
      "cell_type": "code",
      "metadata": {
        "colab": {
          "base_uri": "https://localhost:8080/"
        },
        "id": "XtRYoMewbuYJ",
        "outputId": "261e0c2f-9a63-434a-b006-f5d291563a8f"
      },
      "source": [
        "titanic[\"Sex\"].shape\n"
      ],
      "execution_count": null,
      "outputs": [
        {
          "output_type": "execute_result",
          "data": {
            "text/plain": [
              "(891,)"
            ]
          },
          "metadata": {
            "tags": []
          },
          "execution_count": 38
        }
      ]
    },
    {
      "cell_type": "code",
      "metadata": {
        "colab": {
          "base_uri": "https://localhost:8080/",
          "height": 423
        },
        "id": "usq8ZbGRbxvI",
        "outputId": "55c6cee9-de90-4dfb-bc4c-f792b0d34a3a"
      },
      "source": [
        "titanic[[\"Age\", \"Sex\"]]\n",
        "\n",
        "# 괄호가 하나가 안되는 이유는 DataFrame이기 때문\n"
      ],
      "execution_count": null,
      "outputs": [
        {
          "output_type": "execute_result",
          "data": {
            "text/html": [
              "<div>\n",
              "<style scoped>\n",
              "    .dataframe tbody tr th:only-of-type {\n",
              "        vertical-align: middle;\n",
              "    }\n",
              "\n",
              "    .dataframe tbody tr th {\n",
              "        vertical-align: top;\n",
              "    }\n",
              "\n",
              "    .dataframe thead th {\n",
              "        text-align: right;\n",
              "    }\n",
              "</style>\n",
              "<table border=\"1\" class=\"dataframe\">\n",
              "  <thead>\n",
              "    <tr style=\"text-align: right;\">\n",
              "      <th></th>\n",
              "      <th>Age</th>\n",
              "      <th>Sex</th>\n",
              "    </tr>\n",
              "  </thead>\n",
              "  <tbody>\n",
              "    <tr>\n",
              "      <th>0</th>\n",
              "      <td>22.0</td>\n",
              "      <td>male</td>\n",
              "    </tr>\n",
              "    <tr>\n",
              "      <th>1</th>\n",
              "      <td>38.0</td>\n",
              "      <td>female</td>\n",
              "    </tr>\n",
              "    <tr>\n",
              "      <th>2</th>\n",
              "      <td>26.0</td>\n",
              "      <td>female</td>\n",
              "    </tr>\n",
              "    <tr>\n",
              "      <th>3</th>\n",
              "      <td>35.0</td>\n",
              "      <td>female</td>\n",
              "    </tr>\n",
              "    <tr>\n",
              "      <th>4</th>\n",
              "      <td>35.0</td>\n",
              "      <td>male</td>\n",
              "    </tr>\n",
              "    <tr>\n",
              "      <th>...</th>\n",
              "      <td>...</td>\n",
              "      <td>...</td>\n",
              "    </tr>\n",
              "    <tr>\n",
              "      <th>886</th>\n",
              "      <td>27.0</td>\n",
              "      <td>male</td>\n",
              "    </tr>\n",
              "    <tr>\n",
              "      <th>887</th>\n",
              "      <td>19.0</td>\n",
              "      <td>female</td>\n",
              "    </tr>\n",
              "    <tr>\n",
              "      <th>888</th>\n",
              "      <td>NaN</td>\n",
              "      <td>female</td>\n",
              "    </tr>\n",
              "    <tr>\n",
              "      <th>889</th>\n",
              "      <td>26.0</td>\n",
              "      <td>male</td>\n",
              "    </tr>\n",
              "    <tr>\n",
              "      <th>890</th>\n",
              "      <td>32.0</td>\n",
              "      <td>male</td>\n",
              "    </tr>\n",
              "  </tbody>\n",
              "</table>\n",
              "<p>891 rows × 2 columns</p>\n",
              "</div>"
            ],
            "text/plain": [
              "      Age     Sex\n",
              "0    22.0    male\n",
              "1    38.0  female\n",
              "2    26.0  female\n",
              "3    35.0  female\n",
              "4    35.0    male\n",
              "..    ...     ...\n",
              "886  27.0    male\n",
              "887  19.0  female\n",
              "888   NaN  female\n",
              "889  26.0    male\n",
              "890  32.0    male\n",
              "\n",
              "[891 rows x 2 columns]"
            ]
          },
          "metadata": {
            "tags": []
          },
          "execution_count": 39
        }
      ]
    },
    {
      "cell_type": "code",
      "metadata": {
        "colab": {
          "base_uri": "https://localhost:8080/",
          "height": 206
        },
        "id": "lNtx3MQQcFAp",
        "outputId": "e899f59e-e19c-4453-f056-bc2de5c430d5"
      },
      "source": [
        "age_sex = titanic[[\"Age\", \"Sex\"]]\n",
        "age_sex.head()"
      ],
      "execution_count": null,
      "outputs": [
        {
          "output_type": "execute_result",
          "data": {
            "text/html": [
              "<div>\n",
              "<style scoped>\n",
              "    .dataframe tbody tr th:only-of-type {\n",
              "        vertical-align: middle;\n",
              "    }\n",
              "\n",
              "    .dataframe tbody tr th {\n",
              "        vertical-align: top;\n",
              "    }\n",
              "\n",
              "    .dataframe thead th {\n",
              "        text-align: right;\n",
              "    }\n",
              "</style>\n",
              "<table border=\"1\" class=\"dataframe\">\n",
              "  <thead>\n",
              "    <tr style=\"text-align: right;\">\n",
              "      <th></th>\n",
              "      <th>Age</th>\n",
              "      <th>Sex</th>\n",
              "    </tr>\n",
              "  </thead>\n",
              "  <tbody>\n",
              "    <tr>\n",
              "      <th>0</th>\n",
              "      <td>22.0</td>\n",
              "      <td>male</td>\n",
              "    </tr>\n",
              "    <tr>\n",
              "      <th>1</th>\n",
              "      <td>38.0</td>\n",
              "      <td>female</td>\n",
              "    </tr>\n",
              "    <tr>\n",
              "      <th>2</th>\n",
              "      <td>26.0</td>\n",
              "      <td>female</td>\n",
              "    </tr>\n",
              "    <tr>\n",
              "      <th>3</th>\n",
              "      <td>35.0</td>\n",
              "      <td>female</td>\n",
              "    </tr>\n",
              "    <tr>\n",
              "      <th>4</th>\n",
              "      <td>35.0</td>\n",
              "      <td>male</td>\n",
              "    </tr>\n",
              "  </tbody>\n",
              "</table>\n",
              "</div>"
            ],
            "text/plain": [
              "    Age     Sex\n",
              "0  22.0    male\n",
              "1  38.0  female\n",
              "2  26.0  female\n",
              "3  35.0  female\n",
              "4  35.0    male"
            ]
          },
          "metadata": {
            "tags": []
          },
          "execution_count": 41
        }
      ]
    },
    {
      "cell_type": "markdown",
      "metadata": {
        "id": "1ZjMC5wCcN65"
      },
      "source": [
        "###How do I filter specific rows from a DataFrame?"
      ]
    },
    {
      "cell_type": "markdown",
      "metadata": {
        "id": "JePxuE7EcQbx"
      },
      "source": [
        "![image.png](data:image/png;base64,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)"
      ]
    },
    {
      "cell_type": "code",
      "metadata": {
        "colab": {
          "base_uri": "https://localhost:8080/",
          "height": 363
        },
        "id": "OZWfkuBbcKg5",
        "outputId": "e48e300d-9ff4-495a-90db-deea076e76f6"
      },
      "source": [
        "above_35 = titanic[titanic[\"Age\"] > 35]\n",
        "above_35.head(10)"
      ],
      "execution_count": null,
      "outputs": [
        {
          "output_type": "execute_result",
          "data": {
            "text/html": [
              "<div>\n",
              "<style scoped>\n",
              "    .dataframe tbody tr th:only-of-type {\n",
              "        vertical-align: middle;\n",
              "    }\n",
              "\n",
              "    .dataframe tbody tr th {\n",
              "        vertical-align: top;\n",
              "    }\n",
              "\n",
              "    .dataframe thead th {\n",
              "        text-align: right;\n",
              "    }\n",
              "</style>\n",
              "<table border=\"1\" class=\"dataframe\">\n",
              "  <thead>\n",
              "    <tr style=\"text-align: right;\">\n",
              "      <th></th>\n",
              "      <th>PassengerId</th>\n",
              "      <th>Survived</th>\n",
              "      <th>Pclass</th>\n",
              "      <th>Name</th>\n",
              "      <th>Sex</th>\n",
              "      <th>Age</th>\n",
              "      <th>SibSp</th>\n",
              "      <th>Parch</th>\n",
              "      <th>Ticket</th>\n",
              "      <th>Fare</th>\n",
              "      <th>Cabin</th>\n",
              "      <th>Embarked</th>\n",
              "    </tr>\n",
              "  </thead>\n",
              "  <tbody>\n",
              "    <tr>\n",
              "      <th>1</th>\n",
              "      <td>2</td>\n",
              "      <td>1</td>\n",
              "      <td>1</td>\n",
              "      <td>Cumings, Mrs. John Bradley (Florence Briggs Th...</td>\n",
              "      <td>female</td>\n",
              "      <td>38.0</td>\n",
              "      <td>1</td>\n",
              "      <td>0</td>\n",
              "      <td>PC 17599</td>\n",
              "      <td>71.2833</td>\n",
              "      <td>C85</td>\n",
              "      <td>C</td>\n",
              "    </tr>\n",
              "    <tr>\n",
              "      <th>6</th>\n",
              "      <td>7</td>\n",
              "      <td>0</td>\n",
              "      <td>1</td>\n",
              "      <td>McCarthy, Mr. Timothy J</td>\n",
              "      <td>male</td>\n",
              "      <td>54.0</td>\n",
              "      <td>0</td>\n",
              "      <td>0</td>\n",
              "      <td>17463</td>\n",
              "      <td>51.8625</td>\n",
              "      <td>E46</td>\n",
              "      <td>S</td>\n",
              "    </tr>\n",
              "    <tr>\n",
              "      <th>11</th>\n",
              "      <td>12</td>\n",
              "      <td>1</td>\n",
              "      <td>1</td>\n",
              "      <td>Bonnell, Miss. Elizabeth</td>\n",
              "      <td>female</td>\n",
              "      <td>58.0</td>\n",
              "      <td>0</td>\n",
              "      <td>0</td>\n",
              "      <td>113783</td>\n",
              "      <td>26.5500</td>\n",
              "      <td>C103</td>\n",
              "      <td>S</td>\n",
              "    </tr>\n",
              "    <tr>\n",
              "      <th>13</th>\n",
              "      <td>14</td>\n",
              "      <td>0</td>\n",
              "      <td>3</td>\n",
              "      <td>Andersson, Mr. Anders Johan</td>\n",
              "      <td>male</td>\n",
              "      <td>39.0</td>\n",
              "      <td>1</td>\n",
              "      <td>5</td>\n",
              "      <td>347082</td>\n",
              "      <td>31.2750</td>\n",
              "      <td>NaN</td>\n",
              "      <td>S</td>\n",
              "    </tr>\n",
              "    <tr>\n",
              "      <th>15</th>\n",
              "      <td>16</td>\n",
              "      <td>1</td>\n",
              "      <td>2</td>\n",
              "      <td>Hewlett, Mrs. (Mary D Kingcome)</td>\n",
              "      <td>female</td>\n",
              "      <td>55.0</td>\n",
              "      <td>0</td>\n",
              "      <td>0</td>\n",
              "      <td>248706</td>\n",
              "      <td>16.0000</td>\n",
              "      <td>NaN</td>\n",
              "      <td>S</td>\n",
              "    </tr>\n",
              "    <tr>\n",
              "      <th>25</th>\n",
              "      <td>26</td>\n",
              "      <td>1</td>\n",
              "      <td>3</td>\n",
              "      <td>Asplund, Mrs. Carl Oscar (Selma Augusta Emilia...</td>\n",
              "      <td>female</td>\n",
              "      <td>38.0</td>\n",
              "      <td>1</td>\n",
              "      <td>5</td>\n",
              "      <td>347077</td>\n",
              "      <td>31.3875</td>\n",
              "      <td>NaN</td>\n",
              "      <td>S</td>\n",
              "    </tr>\n",
              "    <tr>\n",
              "      <th>30</th>\n",
              "      <td>31</td>\n",
              "      <td>0</td>\n",
              "      <td>1</td>\n",
              "      <td>Uruchurtu, Don. Manuel E</td>\n",
              "      <td>male</td>\n",
              "      <td>40.0</td>\n",
              "      <td>0</td>\n",
              "      <td>0</td>\n",
              "      <td>PC 17601</td>\n",
              "      <td>27.7208</td>\n",
              "      <td>NaN</td>\n",
              "      <td>C</td>\n",
              "    </tr>\n",
              "    <tr>\n",
              "      <th>33</th>\n",
              "      <td>34</td>\n",
              "      <td>0</td>\n",
              "      <td>2</td>\n",
              "      <td>Wheadon, Mr. Edward H</td>\n",
              "      <td>male</td>\n",
              "      <td>66.0</td>\n",
              "      <td>0</td>\n",
              "      <td>0</td>\n",
              "      <td>C.A. 24579</td>\n",
              "      <td>10.5000</td>\n",
              "      <td>NaN</td>\n",
              "      <td>S</td>\n",
              "    </tr>\n",
              "    <tr>\n",
              "      <th>35</th>\n",
              "      <td>36</td>\n",
              "      <td>0</td>\n",
              "      <td>1</td>\n",
              "      <td>Holverson, Mr. Alexander Oskar</td>\n",
              "      <td>male</td>\n",
              "      <td>42.0</td>\n",
              "      <td>1</td>\n",
              "      <td>0</td>\n",
              "      <td>113789</td>\n",
              "      <td>52.0000</td>\n",
              "      <td>NaN</td>\n",
              "      <td>S</td>\n",
              "    </tr>\n",
              "    <tr>\n",
              "      <th>40</th>\n",
              "      <td>41</td>\n",
              "      <td>0</td>\n",
              "      <td>3</td>\n",
              "      <td>Ahlin, Mrs. Johan (Johanna Persdotter Larsson)</td>\n",
              "      <td>female</td>\n",
              "      <td>40.0</td>\n",
              "      <td>1</td>\n",
              "      <td>0</td>\n",
              "      <td>7546</td>\n",
              "      <td>9.4750</td>\n",
              "      <td>NaN</td>\n",
              "      <td>S</td>\n",
              "    </tr>\n",
              "  </tbody>\n",
              "</table>\n",
              "</div>"
            ],
            "text/plain": [
              "    PassengerId  Survived  Pclass  ...     Fare Cabin  Embarked\n",
              "1             2         1       1  ...  71.2833   C85         C\n",
              "6             7         0       1  ...  51.8625   E46         S\n",
              "11           12         1       1  ...  26.5500  C103         S\n",
              "13           14         0       3  ...  31.2750   NaN         S\n",
              "15           16         1       2  ...  16.0000   NaN         S\n",
              "25           26         1       3  ...  31.3875   NaN         S\n",
              "30           31         0       1  ...  27.7208   NaN         C\n",
              "33           34         0       2  ...  10.5000   NaN         S\n",
              "35           36         0       1  ...  52.0000   NaN         S\n",
              "40           41         0       3  ...   9.4750   NaN         S\n",
              "\n",
              "[10 rows x 12 columns]"
            ]
          },
          "metadata": {
            "tags": []
          },
          "execution_count": 43
        }
      ]
    },
    {
      "cell_type": "code",
      "metadata": {
        "colab": {
          "base_uri": "https://localhost:8080/"
        },
        "id": "T14Rz6xWdfqZ",
        "outputId": "58f586dc-119e-4c8e-96a9-9edf6421166a"
      },
      "source": [
        "titanic[\"Age\"] > 35\n",
        "(titanic[\"Age\"] > 35).sum()"
      ],
      "execution_count": null,
      "outputs": [
        {
          "output_type": "execute_result",
          "data": {
            "text/plain": [
              "217"
            ]
          },
          "metadata": {
            "tags": []
          },
          "execution_count": 45
        }
      ]
    },
    {
      "cell_type": "code",
      "metadata": {
        "colab": {
          "base_uri": "https://localhost:8080/"
        },
        "id": "sMkTs3Bzd-54",
        "outputId": "14cdcb49-9aae-4a3d-d961-8a86b050818e"
      },
      "source": [
        "above_35.shape"
      ],
      "execution_count": null,
      "outputs": [
        {
          "output_type": "execute_result",
          "data": {
            "text/plain": [
              "(217, 12)"
            ]
          },
          "metadata": {
            "tags": []
          },
          "execution_count": 48
        }
      ]
    },
    {
      "cell_type": "code",
      "metadata": {
        "id": "zlPOuwBeefPH"
      },
      "source": [
        "class_23 = titanic[(titanic[\"Pclass\"] == 2) | (titanic[\"Pclass\"] == 3)]\n",
        "\n",
        "# 중요한 문법!!\n",
        "# | : or (둘 중 하나)\n",
        "# & : and (둘 다)"
      ],
      "execution_count": null,
      "outputs": []
    },
    {
      "cell_type": "code",
      "metadata": {
        "colab": {
          "base_uri": "https://localhost:8080/"
        },
        "id": "2Z9i7pgifs8w",
        "outputId": "48ba5d3a-cbbd-4411-ffea-29993a7f3cf5"
      },
      "source": [
        "age_no_na = titanic[titanic[\"Age\"].notna()]\n",
        "#age_no_na.head()\n",
        "age_no_na.shape"
      ],
      "execution_count": null,
      "outputs": [
        {
          "output_type": "execute_result",
          "data": {
            "text/plain": [
              "(714, 12)"
            ]
          },
          "metadata": {
            "tags": []
          },
          "execution_count": 54
        }
      ]
    },
    {
      "cell_type": "markdown",
      "metadata": {
        "id": "Lt5jh8XxgDHY"
      },
      "source": [
        "###How do I select specific rows and columns from a DataFrame?"
      ]
    },
    {
      "cell_type": "markdown",
      "metadata": {
        "id": "mA20sXI-gHLh"
      },
      "source": [
        "![image.png](data:image/png;base64,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)"
      ]
    },
    {
      "cell_type": "code",
      "metadata": {
        "colab": {
          "base_uri": "https://localhost:8080/"
        },
        "id": "6wjt7FmogdQ3",
        "outputId": "5616cf7f-436a-416c-e8a4-6b6c4345217b"
      },
      "source": [
        "adult_names = titanic.loc[titanic[\"Age\"] > 35, \"Name\"]\n",
        "adult_names.head()"
      ],
      "execution_count": null,
      "outputs": [
        {
          "output_type": "execute_result",
          "data": {
            "text/plain": [
              "1     Cumings, Mrs. John Bradley (Florence Briggs Th...\n",
              "6                               McCarthy, Mr. Timothy J\n",
              "11                             Bonnell, Miss. Elizabeth\n",
              "13                          Andersson, Mr. Anders Johan\n",
              "15                     Hewlett, Mrs. (Mary D Kingcome) \n",
              "Name: Name, dtype: object"
            ]
          },
          "metadata": {
            "tags": []
          },
          "execution_count": 60
        }
      ]
    },
    {
      "cell_type": "code",
      "metadata": {
        "colab": {
          "base_uri": "https://localhost:8080/",
          "height": 551
        },
        "id": "jwEEMbSMlEwU",
        "outputId": "83156594-fc36-4ad1-e196-c3d046e3ac6c"
      },
      "source": [
        "titanic.iloc[9:25, 2:5]\n",
        "\n",
        "# loc는 열(col), iloc는 행(row)\n",
        "# 그렇지만 iloc로도 열을 컨트롤 할 수 있음\n",
        "# 위의 명령어는...9~25행을 출력하는데, 2~5열을 출력한다."
      ],
      "execution_count": null,
      "outputs": [
        {
          "output_type": "execute_result",
          "data": {
            "text/html": [
              "<div>\n",
              "<style scoped>\n",
              "    .dataframe tbody tr th:only-of-type {\n",
              "        vertical-align: middle;\n",
              "    }\n",
              "\n",
              "    .dataframe tbody tr th {\n",
              "        vertical-align: top;\n",
              "    }\n",
              "\n",
              "    .dataframe thead th {\n",
              "        text-align: right;\n",
              "    }\n",
              "</style>\n",
              "<table border=\"1\" class=\"dataframe\">\n",
              "  <thead>\n",
              "    <tr style=\"text-align: right;\">\n",
              "      <th></th>\n",
              "      <th>Pclass</th>\n",
              "      <th>Name</th>\n",
              "      <th>Sex</th>\n",
              "    </tr>\n",
              "  </thead>\n",
              "  <tbody>\n",
              "    <tr>\n",
              "      <th>9</th>\n",
              "      <td>2</td>\n",
              "      <td>Nasser, Mrs. Nicholas (Adele Achem)</td>\n",
              "      <td>female</td>\n",
              "    </tr>\n",
              "    <tr>\n",
              "      <th>10</th>\n",
              "      <td>3</td>\n",
              "      <td>Sandstrom, Miss. Marguerite Rut</td>\n",
              "      <td>female</td>\n",
              "    </tr>\n",
              "    <tr>\n",
              "      <th>11</th>\n",
              "      <td>1</td>\n",
              "      <td>Bonnell, Miss. Elizabeth</td>\n",
              "      <td>female</td>\n",
              "    </tr>\n",
              "    <tr>\n",
              "      <th>12</th>\n",
              "      <td>3</td>\n",
              "      <td>Saundercock, Mr. William Henry</td>\n",
              "      <td>male</td>\n",
              "    </tr>\n",
              "    <tr>\n",
              "      <th>13</th>\n",
              "      <td>3</td>\n",
              "      <td>Andersson, Mr. Anders Johan</td>\n",
              "      <td>male</td>\n",
              "    </tr>\n",
              "    <tr>\n",
              "      <th>14</th>\n",
              "      <td>3</td>\n",
              "      <td>Vestrom, Miss. Hulda Amanda Adolfina</td>\n",
              "      <td>female</td>\n",
              "    </tr>\n",
              "    <tr>\n",
              "      <th>15</th>\n",
              "      <td>2</td>\n",
              "      <td>Hewlett, Mrs. (Mary D Kingcome)</td>\n",
              "      <td>female</td>\n",
              "    </tr>\n",
              "    <tr>\n",
              "      <th>16</th>\n",
              "      <td>3</td>\n",
              "      <td>Rice, Master. Eugene</td>\n",
              "      <td>male</td>\n",
              "    </tr>\n",
              "    <tr>\n",
              "      <th>17</th>\n",
              "      <td>2</td>\n",
              "      <td>Williams, Mr. Charles Eugene</td>\n",
              "      <td>male</td>\n",
              "    </tr>\n",
              "    <tr>\n",
              "      <th>18</th>\n",
              "      <td>3</td>\n",
              "      <td>Vander Planke, Mrs. Julius (Emelia Maria Vande...</td>\n",
              "      <td>female</td>\n",
              "    </tr>\n",
              "    <tr>\n",
              "      <th>19</th>\n",
              "      <td>3</td>\n",
              "      <td>Masselmani, Mrs. Fatima</td>\n",
              "      <td>female</td>\n",
              "    </tr>\n",
              "    <tr>\n",
              "      <th>20</th>\n",
              "      <td>2</td>\n",
              "      <td>Fynney, Mr. Joseph J</td>\n",
              "      <td>male</td>\n",
              "    </tr>\n",
              "    <tr>\n",
              "      <th>21</th>\n",
              "      <td>2</td>\n",
              "      <td>Beesley, Mr. Lawrence</td>\n",
              "      <td>male</td>\n",
              "    </tr>\n",
              "    <tr>\n",
              "      <th>22</th>\n",
              "      <td>3</td>\n",
              "      <td>McGowan, Miss. Anna \"Annie\"</td>\n",
              "      <td>female</td>\n",
              "    </tr>\n",
              "    <tr>\n",
              "      <th>23</th>\n",
              "      <td>1</td>\n",
              "      <td>Sloper, Mr. William Thompson</td>\n",
              "      <td>male</td>\n",
              "    </tr>\n",
              "    <tr>\n",
              "      <th>24</th>\n",
              "      <td>3</td>\n",
              "      <td>Palsson, Miss. Torborg Danira</td>\n",
              "      <td>female</td>\n",
              "    </tr>\n",
              "  </tbody>\n",
              "</table>\n",
              "</div>"
            ],
            "text/plain": [
              "    Pclass                                               Name     Sex\n",
              "9        2                Nasser, Mrs. Nicholas (Adele Achem)  female\n",
              "10       3                    Sandstrom, Miss. Marguerite Rut  female\n",
              "11       1                           Bonnell, Miss. Elizabeth  female\n",
              "12       3                     Saundercock, Mr. William Henry    male\n",
              "13       3                        Andersson, Mr. Anders Johan    male\n",
              "14       3               Vestrom, Miss. Hulda Amanda Adolfina  female\n",
              "15       2                   Hewlett, Mrs. (Mary D Kingcome)   female\n",
              "16       3                               Rice, Master. Eugene    male\n",
              "17       2                       Williams, Mr. Charles Eugene    male\n",
              "18       3  Vander Planke, Mrs. Julius (Emelia Maria Vande...  female\n",
              "19       3                            Masselmani, Mrs. Fatima  female\n",
              "20       2                               Fynney, Mr. Joseph J    male\n",
              "21       2                              Beesley, Mr. Lawrence    male\n",
              "22       3                        McGowan, Miss. Anna \"Annie\"  female\n",
              "23       1                       Sloper, Mr. William Thompson    male\n",
              "24       3                      Palsson, Miss. Torborg Danira  female"
            ]
          },
          "metadata": {
            "tags": []
          },
          "execution_count": 61
        }
      ]
    },
    {
      "cell_type": "markdown",
      "metadata": {
        "id": "uQPVi26Ll0sO"
      },
      "source": [
        "## 크롤링 데이터로 웹페이지 만들기"
      ]
    },
    {
      "cell_type": "code",
      "metadata": {
        "colab": {
          "base_uri": "https://localhost:8080/",
          "height": 368
        },
        "id": "iqX3ThRzlfZl",
        "outputId": "231ba650-5c4d-4245-907f-13777bba122b"
      },
      "source": [
        "import pandas as pd\n",
        "\n",
        "data = pd.read_html('https://ridibooks.com/category/bestsellers/2200')\n",
        "data"
      ],
      "execution_count": null,
      "outputs": [
        {
          "output_type": "error",
          "ename": "ValueError",
          "evalue": "ignored",
          "traceback": [
            "\u001b[0;31m---------------------------------------------------------------------------\u001b[0m",
            "\u001b[0;31mValueError\u001b[0m                                Traceback (most recent call last)",
            "\u001b[0;32m<ipython-input-62-794dd3679954>\u001b[0m in \u001b[0;36m<module>\u001b[0;34m()\u001b[0m\n\u001b[1;32m      1\u001b[0m \u001b[0;32mimport\u001b[0m \u001b[0mpandas\u001b[0m \u001b[0;32mas\u001b[0m \u001b[0mpd\u001b[0m\u001b[0;34m\u001b[0m\u001b[0;34m\u001b[0m\u001b[0m\n\u001b[1;32m      2\u001b[0m \u001b[0;34m\u001b[0m\u001b[0m\n\u001b[0;32m----> 3\u001b[0;31m \u001b[0mdata\u001b[0m \u001b[0;34m=\u001b[0m \u001b[0mpd\u001b[0m\u001b[0;34m.\u001b[0m\u001b[0mread_html\u001b[0m\u001b[0;34m(\u001b[0m\u001b[0;34m'https://ridibooks.com/category/bestsellers/2200'\u001b[0m\u001b[0;34m)\u001b[0m\u001b[0;34m\u001b[0m\u001b[0;34m\u001b[0m\u001b[0m\n\u001b[0m",
            "\u001b[0;32m/usr/local/lib/python3.7/dist-packages/pandas/util/_decorators.py\u001b[0m in \u001b[0;36mwrapper\u001b[0;34m(*args, **kwargs)\u001b[0m\n\u001b[1;32m    294\u001b[0m                 )\n\u001b[1;32m    295\u001b[0m                 \u001b[0mwarnings\u001b[0m\u001b[0;34m.\u001b[0m\u001b[0mwarn\u001b[0m\u001b[0;34m(\u001b[0m\u001b[0mmsg\u001b[0m\u001b[0;34m,\u001b[0m \u001b[0mFutureWarning\u001b[0m\u001b[0;34m,\u001b[0m \u001b[0mstacklevel\u001b[0m\u001b[0;34m=\u001b[0m\u001b[0mstacklevel\u001b[0m\u001b[0;34m)\u001b[0m\u001b[0;34m\u001b[0m\u001b[0;34m\u001b[0m\u001b[0m\n\u001b[0;32m--> 296\u001b[0;31m             \u001b[0;32mreturn\u001b[0m \u001b[0mfunc\u001b[0m\u001b[0;34m(\u001b[0m\u001b[0;34m*\u001b[0m\u001b[0margs\u001b[0m\u001b[0;34m,\u001b[0m \u001b[0;34m**\u001b[0m\u001b[0mkwargs\u001b[0m\u001b[0;34m)\u001b[0m\u001b[0;34m\u001b[0m\u001b[0;34m\u001b[0m\u001b[0m\n\u001b[0m\u001b[1;32m    297\u001b[0m \u001b[0;34m\u001b[0m\u001b[0m\n\u001b[1;32m    298\u001b[0m         \u001b[0;32mreturn\u001b[0m \u001b[0mwrapper\u001b[0m\u001b[0;34m\u001b[0m\u001b[0;34m\u001b[0m\u001b[0m\n",
            "\u001b[0;32m/usr/local/lib/python3.7/dist-packages/pandas/io/html.py\u001b[0m in \u001b[0;36mread_html\u001b[0;34m(io, match, flavor, header, index_col, skiprows, attrs, parse_dates, thousands, encoding, decimal, converters, na_values, keep_default_na, displayed_only)\u001b[0m\n\u001b[1;32m   1099\u001b[0m         \u001b[0mna_values\u001b[0m\u001b[0;34m=\u001b[0m\u001b[0mna_values\u001b[0m\u001b[0;34m,\u001b[0m\u001b[0;34m\u001b[0m\u001b[0;34m\u001b[0m\u001b[0m\n\u001b[1;32m   1100\u001b[0m         \u001b[0mkeep_default_na\u001b[0m\u001b[0;34m=\u001b[0m\u001b[0mkeep_default_na\u001b[0m\u001b[0;34m,\u001b[0m\u001b[0;34m\u001b[0m\u001b[0;34m\u001b[0m\u001b[0m\n\u001b[0;32m-> 1101\u001b[0;31m         \u001b[0mdisplayed_only\u001b[0m\u001b[0;34m=\u001b[0m\u001b[0mdisplayed_only\u001b[0m\u001b[0;34m,\u001b[0m\u001b[0;34m\u001b[0m\u001b[0;34m\u001b[0m\u001b[0m\n\u001b[0m\u001b[1;32m   1102\u001b[0m     )\n",
            "\u001b[0;32m/usr/local/lib/python3.7/dist-packages/pandas/io/html.py\u001b[0m in \u001b[0;36m_parse\u001b[0;34m(flavor, io, match, attrs, encoding, displayed_only, **kwargs)\u001b[0m\n\u001b[1;32m    915\u001b[0m             \u001b[0;32mbreak\u001b[0m\u001b[0;34m\u001b[0m\u001b[0;34m\u001b[0m\u001b[0m\n\u001b[1;32m    916\u001b[0m     \u001b[0;32melse\u001b[0m\u001b[0;34m:\u001b[0m\u001b[0;34m\u001b[0m\u001b[0;34m\u001b[0m\u001b[0m\n\u001b[0;32m--> 917\u001b[0;31m         \u001b[0;32mraise\u001b[0m \u001b[0mretained\u001b[0m\u001b[0;34m\u001b[0m\u001b[0;34m\u001b[0m\u001b[0m\n\u001b[0m\u001b[1;32m    918\u001b[0m \u001b[0;34m\u001b[0m\u001b[0m\n\u001b[1;32m    919\u001b[0m     \u001b[0mret\u001b[0m \u001b[0;34m=\u001b[0m \u001b[0;34m[\u001b[0m\u001b[0;34m]\u001b[0m\u001b[0;34m\u001b[0m\u001b[0;34m\u001b[0m\u001b[0m\n",
            "\u001b[0;32m/usr/local/lib/python3.7/dist-packages/pandas/io/html.py\u001b[0m in \u001b[0;36m_parse\u001b[0;34m(flavor, io, match, attrs, encoding, displayed_only, **kwargs)\u001b[0m\n\u001b[1;32m    896\u001b[0m \u001b[0;34m\u001b[0m\u001b[0m\n\u001b[1;32m    897\u001b[0m         \u001b[0;32mtry\u001b[0m\u001b[0;34m:\u001b[0m\u001b[0;34m\u001b[0m\u001b[0;34m\u001b[0m\u001b[0m\n\u001b[0;32m--> 898\u001b[0;31m             \u001b[0mtables\u001b[0m \u001b[0;34m=\u001b[0m \u001b[0mp\u001b[0m\u001b[0;34m.\u001b[0m\u001b[0mparse_tables\u001b[0m\u001b[0;34m(\u001b[0m\u001b[0;34m)\u001b[0m\u001b[0;34m\u001b[0m\u001b[0;34m\u001b[0m\u001b[0m\n\u001b[0m\u001b[1;32m    899\u001b[0m         \u001b[0;32mexcept\u001b[0m \u001b[0mValueError\u001b[0m \u001b[0;32mas\u001b[0m \u001b[0mcaught\u001b[0m\u001b[0;34m:\u001b[0m\u001b[0;34m\u001b[0m\u001b[0;34m\u001b[0m\u001b[0m\n\u001b[1;32m    900\u001b[0m             \u001b[0;31m# if `io` is an io-like object, check if it's seekable\u001b[0m\u001b[0;34m\u001b[0m\u001b[0;34m\u001b[0m\u001b[0;34m\u001b[0m\u001b[0m\n",
            "\u001b[0;32m/usr/local/lib/python3.7/dist-packages/pandas/io/html.py\u001b[0m in \u001b[0;36mparse_tables\u001b[0;34m(self)\u001b[0m\n\u001b[1;32m    215\u001b[0m         \u001b[0mlist\u001b[0m \u001b[0mof\u001b[0m \u001b[0mparsed\u001b[0m \u001b[0;34m(\u001b[0m\u001b[0mheader\u001b[0m\u001b[0;34m,\u001b[0m \u001b[0mbody\u001b[0m\u001b[0;34m,\u001b[0m \u001b[0mfooter\u001b[0m\u001b[0;34m)\u001b[0m \u001b[0mtuples\u001b[0m \u001b[0;32mfrom\u001b[0m \u001b[0mtables\u001b[0m\u001b[0;34m.\u001b[0m\u001b[0;34m\u001b[0m\u001b[0;34m\u001b[0m\u001b[0m\n\u001b[1;32m    216\u001b[0m         \"\"\"\n\u001b[0;32m--> 217\u001b[0;31m         \u001b[0mtables\u001b[0m \u001b[0;34m=\u001b[0m \u001b[0mself\u001b[0m\u001b[0;34m.\u001b[0m\u001b[0m_parse_tables\u001b[0m\u001b[0;34m(\u001b[0m\u001b[0mself\u001b[0m\u001b[0;34m.\u001b[0m\u001b[0m_build_doc\u001b[0m\u001b[0;34m(\u001b[0m\u001b[0;34m)\u001b[0m\u001b[0;34m,\u001b[0m \u001b[0mself\u001b[0m\u001b[0;34m.\u001b[0m\u001b[0mmatch\u001b[0m\u001b[0;34m,\u001b[0m \u001b[0mself\u001b[0m\u001b[0;34m.\u001b[0m\u001b[0mattrs\u001b[0m\u001b[0;34m)\u001b[0m\u001b[0;34m\u001b[0m\u001b[0;34m\u001b[0m\u001b[0m\n\u001b[0m\u001b[1;32m    218\u001b[0m         \u001b[0;32mreturn\u001b[0m \u001b[0;34m(\u001b[0m\u001b[0mself\u001b[0m\u001b[0;34m.\u001b[0m\u001b[0m_parse_thead_tbody_tfoot\u001b[0m\u001b[0;34m(\u001b[0m\u001b[0mtable\u001b[0m\u001b[0;34m)\u001b[0m \u001b[0;32mfor\u001b[0m \u001b[0mtable\u001b[0m \u001b[0;32min\u001b[0m \u001b[0mtables\u001b[0m\u001b[0;34m)\u001b[0m\u001b[0;34m\u001b[0m\u001b[0;34m\u001b[0m\u001b[0m\n\u001b[1;32m    219\u001b[0m \u001b[0;34m\u001b[0m\u001b[0m\n",
            "\u001b[0;32m/usr/local/lib/python3.7/dist-packages/pandas/io/html.py\u001b[0m in \u001b[0;36m_parse_tables\u001b[0;34m(self, doc, match, attrs)\u001b[0m\n\u001b[1;32m    545\u001b[0m \u001b[0;34m\u001b[0m\u001b[0m\n\u001b[1;32m    546\u001b[0m         \u001b[0;32mif\u001b[0m \u001b[0;32mnot\u001b[0m \u001b[0mtables\u001b[0m\u001b[0;34m:\u001b[0m\u001b[0;34m\u001b[0m\u001b[0;34m\u001b[0m\u001b[0m\n\u001b[0;32m--> 547\u001b[0;31m             \u001b[0;32mraise\u001b[0m \u001b[0mValueError\u001b[0m\u001b[0;34m(\u001b[0m\u001b[0;34m\"No tables found\"\u001b[0m\u001b[0;34m)\u001b[0m\u001b[0;34m\u001b[0m\u001b[0;34m\u001b[0m\u001b[0m\n\u001b[0m\u001b[1;32m    548\u001b[0m \u001b[0;34m\u001b[0m\u001b[0m\n\u001b[1;32m    549\u001b[0m         \u001b[0mresult\u001b[0m \u001b[0;34m=\u001b[0m \u001b[0;34m[\u001b[0m\u001b[0;34m]\u001b[0m\u001b[0;34m\u001b[0m\u001b[0;34m\u001b[0m\u001b[0m\n",
            "\u001b[0;31mValueError\u001b[0m: No tables found"
          ]
        }
      ]
    },
    {
      "cell_type": "code",
      "metadata": {
        "colab": {
          "base_uri": "https://localhost:8080/"
        },
        "id": "-tR5-e9Fnbgn",
        "outputId": "24936e3b-cbe3-4820-d2d9-7d90180dd792"
      },
      "source": [
        "# 리디북스 컴퓨터/IT 베스트셀러 리스트 크롤링하기\n",
        "\n",
        "import requests\n",
        "from bs4 import BeautifulSoup\n",
        "\n",
        "url = 'https://ridibooks.com/category/bestsellers/2200' #수정\n",
        "response = requests.get(url)\n",
        "response.encoding = 'utf-8'\n",
        "html = response.text\n",
        "\n",
        "soup = BeautifulSoup(html, 'html.parser')\n",
        "\n",
        "bookservices = soup.select('.title_text')     #수정\n",
        "for no, book in enumerate(bookservices, 1):\n",
        "    print(no, book.text.strip())"
      ],
      "execution_count": null,
      "outputs": [
        {
          "output_type": "stream",
          "text": [
            "1 시드 마이어\n",
            "2 한 권으로 읽는 컴퓨터 구조와 프로그래밍\n",
            "3 개발자에서 아키텍트로\n",
            "4 컨테이너 인프라 환경 구축을 위한 쿠버네티스/도커\n",
            "5 비전공자를 위한 이해할 수 있는 IT 지식\n",
            "6 오브젝트\n",
            "7 Node.js 디자인 패턴 바이블\n",
            "8 눈치껏 못 배웁니다, 일센스\n",
            "9 개정판 | 시작하세요! 도커/쿠버네티스\n",
            "10 다재다능 코틀린 프로그래밍\n",
            "11 파이썬으로 살펴보는 아키텍처 패턴\n",
            "12 혼자 공부하는 머신러닝+딥러닝\n",
            "13 비전공자도 배워서 바로 쓰는 비즈니스 데이터 분석 입문\n",
            "14 Let's Get IT 자바스크립트 프로그래밍\n",
            "15 개정판 | 리액트를 다루는 기술\n",
            "16 메타버스, 이미 시작된 미래\n",
            "17 IT 좀 아는 사람\n",
            "18 이것이 취업을 위한 코딩 테스트다 with 파이썬\n",
            "19 모던 자바스크립트 Deep Dive\n",
            "20 NGINX 쿡북\n"
          ],
          "name": "stdout"
        }
      ]
    },
    {
      "cell_type": "code",
      "metadata": {
        "colab": {
          "base_uri": "https://localhost:8080/"
        },
        "id": "51AfFUeZqUUL",
        "outputId": "b4a4fafa-393f-4971-d52a-3af5a0325fd3"
      },
      "source": [
        "#thumbnail lazyloaded\n",
        "\n",
        "import requests\n",
        "from bs4 import BeautifulSoup\n",
        "\n",
        "url = 'https://ridibooks.com/category/bestsellers/2200' #수정\n",
        "response = requests.get(url)\n",
        "response.encoding = 'utf-8'\n",
        "html = response.text\n",
        "\n",
        "soup = BeautifulSoup(html, 'html.parser')\n",
        "\n",
        "bookservices = soup.select('.thumbnail')     #수정\n",
        "for no, book in enumerate(bookservices, 1):\n",
        "    print(no, book['alt'], 'https:' + book['data-src'])"
      ],
      "execution_count": null,
      "outputs": [
        {
          "output_type": "stream",
          "text": [
            "1 시드 마이어 https://img.ridicdn.net/cover/194000109/large#1\n",
            "2 한 권으로 읽는 컴퓨터 구조와 프로그래밍 https://img.ridicdn.net/cover/3649000021/large#1\n",
            "3 개발자에서 아키텍트로 https://img.ridicdn.net/cover/443000917/large#1\n",
            "4 컨테이너 인프라 환경 구축을 위한 쿠버네티스/도커 https://img.ridicdn.net/cover/754031863/large#1\n",
            "5 비전공자를 위한 이해할 수 있는 IT 지식 https://img.ridicdn.net/cover/4489000001/large#1\n",
            "6 오브젝트 https://img.ridicdn.net/cover/1160000027/large#1\n",
            "7 Node.js 디자인 패턴 바이블 https://img.ridicdn.net/cover/194000106/large#1\n",
            "8 눈치껏 못 배웁니다, 일센스 https://img.ridicdn.net/cover/222002588/large#1\n",
            "9 개정판 | 시작하세요! 도커/쿠버네티스 https://img.ridicdn.net/cover/1160000029/large#1\n",
            "10 다재다능 코틀린 프로그래밍 https://img.ridicdn.net/cover/194000105/large#1\n",
            "11 파이썬으로 살펴보는 아키텍처 패턴 https://img.ridicdn.net/cover/443000912/large#1\n",
            "12 혼자 공부하는 머신러닝+딥러닝 https://img.ridicdn.net/cover/443000859/large#1\n",
            "13 비전공자도 배워서 바로 쓰는 비즈니스 데이터 분석 입문 https://img.ridicdn.net/cover/1370000008/large#1\n",
            "14 Let's Get IT 자바스크립트 프로그래밍 https://img.ridicdn.net/cover/754031846/large#1\n",
            "15 개정판 | 리액트를 다루는 기술 https://img.ridicdn.net/cover/754026976/large#1\n",
            "16 메타버스, 이미 시작된 미래 https://img.ridicdn.net/cover/2777000044/large#1\n",
            "17 IT 좀 아는 사람 https://img.ridicdn.net/cover/1046000113/large#1\n",
            "18 이것이 취업을 위한 코딩 테스트다 with 파이썬 https://img.ridicdn.net/cover/443000825/large#1\n",
            "19 모던 자바스크립트 Deep Dive https://img.ridicdn.net/cover/1160000024/large#1\n",
            "20 NGINX 쿡북 https://img.ridicdn.net/cover/443000914/large#1\n"
          ],
          "name": "stdout"
        }
      ]
    },
    {
      "cell_type": "code",
      "metadata": {
        "colab": {
          "base_uri": "https://localhost:8080/"
        },
        "id": "WsypDwWGsxDM",
        "outputId": "87bfce9d-ee2f-4cf2-fcf9-a16a43c17b61"
      },
      "source": [
        "#thumbnail lazyloaded\n",
        "\n",
        "import requests\n",
        "from bs4 import BeautifulSoup\n",
        "\n",
        "url = 'https://search.naver.com/search.naver?where=nexearch&sm=top_hty&fbm=1&ie=utf8&query=%EB%B0%95%EC%8A%A4%EC%98%A4%ED%94%BC%EC%8A%A4' #수정\n",
        "response = requests.get(url)\n",
        "response.encoding = 'utf-8'\n",
        "html = response.text\n",
        "\n",
        "soup = BeautifulSoup(html, 'html.parser')\n",
        "\n",
        "bookservices = soup.select('.name')     #수정\n",
        "for no, book in enumerate(bookservices, 1):\n",
        "    print(no, book.text)"
      ],
      "execution_count": null,
      "outputs": [
        {
          "output_type": "stream",
          "text": [
            "1 발신제한\n",
            "2 크루엘라\n",
            "3 콰이어트 플레이스 2\n",
            "4 미드나이트\n",
            "5 킬러의 보디가드 2\n",
            "6 루카\n",
            "7 컨저링 3: 악마가 시켰다\n",
            "8 인 더 하이츠\n",
            "9 괴기맨숀\n",
            "10 꽃다발 같은 사랑을 했다\n",
            "11 체르노빌 1986\n",
            "12 빛나는 순간\n",
            "13 랑종\n",
            "14 블라이스 스피릿\n",
            "15 분노의 질주: 더 얼티메이트\n",
            "16 극장판 귀멸의 칼날: 무한열...\n",
            "17 다크 앤드 위키드\n",
            "18 매직아치\n",
            "19 시카다 3301\n",
            "20 아이윌 송\n",
            "21 우리는 매일매일\n",
            "22 메이드 인 루프탑\n",
            "23 여고괴담 여섯번째 이야기 :...\n",
            "24 학교 가는 길\n",
            "25 이보다 더 좋을 순 없다\n",
            "26 크레센도\n",
            "27 파리의 연인\n",
            "28 샤먼 로드\n",
            "29 트립 투 그리스\n",
            "30 사랑하고 사랑받고 차고 차이고\n",
            "31 극장판 귀멸의 칼날: 무한열...\n",
            "32 루카\n",
            "33 학교 가는 길\n",
            "34 크루엘라\n",
            "35 분노의 질주: 더 얼티메이트\n",
            "36 콰이어트 플레이스 2\n",
            "37 미드나이트\n",
            "38 사랑하고 사랑받고 차고 차이고\n",
            "39 체르노빌 1986\n",
            "40 컨저링 3: 악마가 시켰다\n",
            "41 발신제한\n",
            "42 킬러의 보디가드 2\n",
            "43 인 더 하이츠\n",
            "44 여고괴담 여섯번째 이야기 :...\n",
            "45 그냥 길가는 나그네\n",
            "46 네잎클로버 27 15\n",
            "47 삼공\n"
          ],
          "name": "stdout"
        }
      ]
    },
    {
      "cell_type": "code",
      "metadata": {
        "id": "TS4SeGvguR1b"
      },
      "source": [
        "# 난이도 중\n",
        "\n",
        "import requests\n",
        "from bs4 import BeautifulSoup\n",
        "\n",
        "url = 'https://ridibooks.com/category/bestsellers/2200' #수정\n",
        "response = requests.get(url)\n",
        "response.encoding = 'utf-8'\n",
        "html = response.text\n",
        "\n",
        "soup = BeautifulSoup(html, 'html.parser')\n",
        "\n",
        "책순위 = []\n",
        "책이름 = []\n",
        "책이미지 = []\n",
        "\n",
        "bookservices = soup.select('.thumbnail')     #수정\n",
        "for no, book in enumerate(bookservices, 1):\n",
        "    책순위.append(no)\n",
        "    책이름.append(book['alt'])\n",
        "    책이미지.append('https:' + book['data-src'])\n",
        "\n"
      ],
      "execution_count": null,
      "outputs": []
    },
    {
      "cell_type": "code",
      "metadata": {
        "colab": {
          "base_uri": "https://localhost:8080/",
          "height": 676
        },
        "id": "7-fyFy7dw4RS",
        "outputId": "c8e50713-857b-4b2c-babe-eb8233671624"
      },
      "source": [
        "df = pd.DataFrame({\n",
        "    '책순위' : 책순위,\n",
        "    '책이름' : 책이름,\n",
        "    '책이미지' : 책이미지\n",
        "})\n",
        "\n",
        "df\n"
      ],
      "execution_count": null,
      "outputs": [
        {
          "output_type": "execute_result",
          "data": {
            "text/html": [
              "<div>\n",
              "<style scoped>\n",
              "    .dataframe tbody tr th:only-of-type {\n",
              "        vertical-align: middle;\n",
              "    }\n",
              "\n",
              "    .dataframe tbody tr th {\n",
              "        vertical-align: top;\n",
              "    }\n",
              "\n",
              "    .dataframe thead th {\n",
              "        text-align: right;\n",
              "    }\n",
              "</style>\n",
              "<table border=\"1\" class=\"dataframe\">\n",
              "  <thead>\n",
              "    <tr style=\"text-align: right;\">\n",
              "      <th></th>\n",
              "      <th>책순위</th>\n",
              "      <th>책이름</th>\n",
              "      <th>책이미지</th>\n",
              "    </tr>\n",
              "  </thead>\n",
              "  <tbody>\n",
              "    <tr>\n",
              "      <th>0</th>\n",
              "      <td>1</td>\n",
              "      <td>시드 마이어</td>\n",
              "      <td>https://img.ridicdn.net/cover/194000109/large#1</td>\n",
              "    </tr>\n",
              "    <tr>\n",
              "      <th>1</th>\n",
              "      <td>2</td>\n",
              "      <td>한 권으로 읽는 컴퓨터 구조와 프로그래밍</td>\n",
              "      <td>https://img.ridicdn.net/cover/3649000021/large#1</td>\n",
              "    </tr>\n",
              "    <tr>\n",
              "      <th>2</th>\n",
              "      <td>3</td>\n",
              "      <td>개발자에서 아키텍트로</td>\n",
              "      <td>https://img.ridicdn.net/cover/443000917/large#1</td>\n",
              "    </tr>\n",
              "    <tr>\n",
              "      <th>3</th>\n",
              "      <td>4</td>\n",
              "      <td>컨테이너 인프라 환경 구축을 위한 쿠버네티스/도커</td>\n",
              "      <td>https://img.ridicdn.net/cover/754031863/large#1</td>\n",
              "    </tr>\n",
              "    <tr>\n",
              "      <th>4</th>\n",
              "      <td>5</td>\n",
              "      <td>비전공자를 위한 이해할 수 있는 IT 지식</td>\n",
              "      <td>https://img.ridicdn.net/cover/4489000001/large#1</td>\n",
              "    </tr>\n",
              "    <tr>\n",
              "      <th>5</th>\n",
              "      <td>6</td>\n",
              "      <td>오브젝트</td>\n",
              "      <td>https://img.ridicdn.net/cover/1160000027/large#1</td>\n",
              "    </tr>\n",
              "    <tr>\n",
              "      <th>6</th>\n",
              "      <td>7</td>\n",
              "      <td>Node.js 디자인 패턴 바이블</td>\n",
              "      <td>https://img.ridicdn.net/cover/194000106/large#1</td>\n",
              "    </tr>\n",
              "    <tr>\n",
              "      <th>7</th>\n",
              "      <td>8</td>\n",
              "      <td>눈치껏 못 배웁니다, 일센스</td>\n",
              "      <td>https://img.ridicdn.net/cover/222002588/large#1</td>\n",
              "    </tr>\n",
              "    <tr>\n",
              "      <th>8</th>\n",
              "      <td>9</td>\n",
              "      <td>개정판 | 시작하세요! 도커/쿠버네티스</td>\n",
              "      <td>https://img.ridicdn.net/cover/1160000029/large#1</td>\n",
              "    </tr>\n",
              "    <tr>\n",
              "      <th>9</th>\n",
              "      <td>10</td>\n",
              "      <td>다재다능 코틀린 프로그래밍</td>\n",
              "      <td>https://img.ridicdn.net/cover/194000105/large#1</td>\n",
              "    </tr>\n",
              "    <tr>\n",
              "      <th>10</th>\n",
              "      <td>11</td>\n",
              "      <td>파이썬으로 살펴보는 아키텍처 패턴</td>\n",
              "      <td>https://img.ridicdn.net/cover/443000912/large#1</td>\n",
              "    </tr>\n",
              "    <tr>\n",
              "      <th>11</th>\n",
              "      <td>12</td>\n",
              "      <td>혼자 공부하는 머신러닝+딥러닝</td>\n",
              "      <td>https://img.ridicdn.net/cover/443000859/large#1</td>\n",
              "    </tr>\n",
              "    <tr>\n",
              "      <th>12</th>\n",
              "      <td>13</td>\n",
              "      <td>비전공자도 배워서 바로 쓰는 비즈니스 데이터 분석 입문</td>\n",
              "      <td>https://img.ridicdn.net/cover/1370000008/large#1</td>\n",
              "    </tr>\n",
              "    <tr>\n",
              "      <th>13</th>\n",
              "      <td>14</td>\n",
              "      <td>Let's Get IT 자바스크립트 프로그래밍</td>\n",
              "      <td>https://img.ridicdn.net/cover/754031846/large#1</td>\n",
              "    </tr>\n",
              "    <tr>\n",
              "      <th>14</th>\n",
              "      <td>15</td>\n",
              "      <td>개정판 | 리액트를 다루는 기술</td>\n",
              "      <td>https://img.ridicdn.net/cover/754026976/large#1</td>\n",
              "    </tr>\n",
              "    <tr>\n",
              "      <th>15</th>\n",
              "      <td>16</td>\n",
              "      <td>메타버스, 이미 시작된 미래</td>\n",
              "      <td>https://img.ridicdn.net/cover/2777000044/large#1</td>\n",
              "    </tr>\n",
              "    <tr>\n",
              "      <th>16</th>\n",
              "      <td>17</td>\n",
              "      <td>IT 좀 아는 사람</td>\n",
              "      <td>https://img.ridicdn.net/cover/1046000113/large#1</td>\n",
              "    </tr>\n",
              "    <tr>\n",
              "      <th>17</th>\n",
              "      <td>18</td>\n",
              "      <td>이것이 취업을 위한 코딩 테스트다 with 파이썬</td>\n",
              "      <td>https://img.ridicdn.net/cover/443000825/large#1</td>\n",
              "    </tr>\n",
              "    <tr>\n",
              "      <th>18</th>\n",
              "      <td>19</td>\n",
              "      <td>모던 자바스크립트 Deep Dive</td>\n",
              "      <td>https://img.ridicdn.net/cover/1160000024/large#1</td>\n",
              "    </tr>\n",
              "    <tr>\n",
              "      <th>19</th>\n",
              "      <td>20</td>\n",
              "      <td>NGINX 쿡북</td>\n",
              "      <td>https://img.ridicdn.net/cover/443000914/large#1</td>\n",
              "    </tr>\n",
              "  </tbody>\n",
              "</table>\n",
              "</div>"
            ],
            "text/plain": [
              "    책순위  ...                                              책이미지\n",
              "0     1  ...   https://img.ridicdn.net/cover/194000109/large#1\n",
              "1     2  ...  https://img.ridicdn.net/cover/3649000021/large#1\n",
              "2     3  ...   https://img.ridicdn.net/cover/443000917/large#1\n",
              "3     4  ...   https://img.ridicdn.net/cover/754031863/large#1\n",
              "4     5  ...  https://img.ridicdn.net/cover/4489000001/large#1\n",
              "5     6  ...  https://img.ridicdn.net/cover/1160000027/large#1\n",
              "6     7  ...   https://img.ridicdn.net/cover/194000106/large#1\n",
              "7     8  ...   https://img.ridicdn.net/cover/222002588/large#1\n",
              "8     9  ...  https://img.ridicdn.net/cover/1160000029/large#1\n",
              "9    10  ...   https://img.ridicdn.net/cover/194000105/large#1\n",
              "10   11  ...   https://img.ridicdn.net/cover/443000912/large#1\n",
              "11   12  ...   https://img.ridicdn.net/cover/443000859/large#1\n",
              "12   13  ...  https://img.ridicdn.net/cover/1370000008/large#1\n",
              "13   14  ...   https://img.ridicdn.net/cover/754031846/large#1\n",
              "14   15  ...   https://img.ridicdn.net/cover/754026976/large#1\n",
              "15   16  ...  https://img.ridicdn.net/cover/2777000044/large#1\n",
              "16   17  ...  https://img.ridicdn.net/cover/1046000113/large#1\n",
              "17   18  ...   https://img.ridicdn.net/cover/443000825/large#1\n",
              "18   19  ...  https://img.ridicdn.net/cover/1160000024/large#1\n",
              "19   20  ...   https://img.ridicdn.net/cover/443000914/large#1\n",
              "\n",
              "[20 rows x 3 columns]"
            ]
          },
          "metadata": {
            "tags": []
          },
          "execution_count": 81
        }
      ]
    },
    {
      "cell_type": "code",
      "metadata": {
        "id": "QLa6r9Ec0OkB"
      },
      "source": [
        "df.to_html('index.html')"
      ],
      "execution_count": null,
      "outputs": []
    },
    {
      "cell_type": "code",
      "metadata": {
        "id": "GrgT0lJw1TUH"
      },
      "source": [
        "def 이미지변환(path):\n",
        "    return f'<img src=\"{path}\" width=\"60\">'\n",
        "\n",
        "df.to_html('index2.html', escape=False, formatters=dict(책이미지=이미지변환))\n",
        "\n"
      ],
      "execution_count": null,
      "outputs": []
    },
    {
      "cell_type": "markdown",
      "metadata": {
        "id": "BEzirxV84Fyv"
      },
      "source": [
        "##How to create plots in pandas?"
      ]
    },
    {
      "cell_type": "markdown",
      "metadata": {
        "id": "2XRhOLsf4YEY"
      },
      "source": [
        "![image.png](data:image/png;base64,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)"
      ]
    },
    {
      "cell_type": "code",
      "metadata": {
        "id": "GIXxp7Aq4Lb_"
      },
      "source": [
        "import numpy as np\n",
        "import pandas as pd\n",
        "import matplotlib.pyplot as plt\n",
        "\n",
        "# 이거 세개는 세트로 다님"
      ],
      "execution_count": null,
      "outputs": []
    },
    {
      "cell_type": "code",
      "metadata": {
        "colab": {
          "base_uri": "https://localhost:8080/",
          "height": 284
        },
        "id": "bFGrXcO449H_",
        "outputId": "45269c1e-6fc7-4ca9-9718-91ad95dc2da5"
      },
      "source": [
        "df = pd.read_csv('train.csv')\n",
        "df[['SibSp', 'Parch']].plot()"
      ],
      "execution_count": null,
      "outputs": [
        {
          "output_type": "execute_result",
          "data": {
            "text/plain": [
              "<matplotlib.axes._subplots.AxesSubplot at 0x7f29a9a2fcd0>"
            ]
          },
          "metadata": {
            "tags": []
          },
          "execution_count": 90
        },
        {
          "output_type": "display_data",
          "data": {
            "image/png": "[encoded data removed]",
            "text/plain": [
              "<Figure size 432x288 with 1 Axes>"
            ]
          },
          "metadata": {
            "tags": [],
            "needs_background": "light"
          }
        }
      ]
    },
    {
      "cell_type": "code",
      "metadata": {
        "colab": {
          "base_uri": "https://localhost:8080/"
        },
        "id": "NrjsrXIS5lbK",
        "outputId": "963c7010-1fb0-4b00-b4b6-7ad1634994ce"
      },
      "source": [
        "df.columns"
      ],
      "execution_count": null,
      "outputs": [
        {
          "output_type": "execute_result",
          "data": {
            "text/plain": [
              "Index(['PassengerId', 'Survived', 'Pclass', 'Name', 'Sex', 'Age', 'SibSp',\n",
              "       'Parch', 'Ticket', 'Fare', 'Cabin', 'Embarked'],\n",
              "      dtype='object')"
            ]
          },
          "metadata": {
            "tags": []
          },
          "execution_count": 93
        }
      ]
    },
    {
      "cell_type": "code",
      "metadata": {
        "colab": {
          "base_uri": "https://localhost:8080/",
          "height": 298
        },
        "id": "NmMahANW6T7P",
        "outputId": "954575ed-2ab2-4607-985a-a4076b71e885"
      },
      "source": [
        "df.plot.scatter(x=\"Fare\", y=\"Age\", alpha=0.5)"
      ],
      "execution_count": null,
      "outputs": [
        {
          "output_type": "execute_result",
          "data": {
            "text/plain": [
              "<matplotlib.axes._subplots.AxesSubplot at 0x7f29a77cced0>"
            ]
          },
          "metadata": {
            "tags": []
          },
          "execution_count": 98
        },
        {
          "output_type": "display_data",
          "data": {
            "image/png": "[encoded data removed]",
            "text/plain": [
              "<Figure size 432x288 with 1 Axes>"
            ]
          },
          "metadata": {
            "tags": [],
            "needs_background": "light"
          }
        }
      ]
    },
    {
      "cell_type": "code",
      "metadata": {
        "colab": {
          "base_uri": "https://localhost:8080/",
          "height": 284
        },
        "id": "1PBTGzAx7GVZ",
        "outputId": "07a5a75b-1bf3-45d9-cd73-bca2ef61ac17"
      },
      "source": [
        "df['Age'].plot.box()"
      ],
      "execution_count": null,
      "outputs": [
        {
          "output_type": "execute_result",
          "data": {
            "text/plain": [
              "<matplotlib.axes._subplots.AxesSubplot at 0x7f29a6d5b510>"
            ]
          },
          "metadata": {
            "tags": []
          },
          "execution_count": 101
        },
        {
          "output_type": "display_data",
          "data": {
            "image/png": "[encoded data removed]",
            "text/plain": [
              "<Figure size 432x288 with 1 Axes>"
            ]
          },
          "metadata": {
            "tags": [],
            "needs_background": "light"
          }
        }
      ]
    },
    {
      "cell_type": "code",
      "metadata": {
        "colab": {
          "base_uri": "https://localhost:8080/",
          "height": 284
        },
        "id": "8UuCp3hz8t2u",
        "outputId": "d487f92c-6539-475d-b61b-a7728824b503"
      },
      "source": [
        "df['Age'].plot.area()"
      ],
      "execution_count": null,
      "outputs": [
        {
          "output_type": "execute_result",
          "data": {
            "text/plain": [
              "<matplotlib.axes._subplots.AxesSubplot at 0x7f29a6c095d0>"
            ]
          },
          "metadata": {
            "tags": []
          },
          "execution_count": 105
        },
        {
          "output_type": "display_data",
          "data": {
            "image/png": "[encoded data removed]",
            "text/plain": [
              "<Figure size 432x288 with 1 Axes>"
            ]
          },
          "metadata": {
            "tags": [],
            "needs_background": "light"
          }
        }
      ]
    },
    {
      "cell_type": "markdown",
      "metadata": {
        "id": "9CgYYiGB9E2u"
      },
      "source": [
        "##How to create new columns derived from existing columns?"
      ]
    },
    {
      "cell_type": "markdown",
      "metadata": {
        "id": "CzqXKkok9kTH"
      },
      "source": [
        "![image.png](data:image/png;base64,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)"
      ]
    },
    {
      "cell_type": "code",
      "metadata": {
        "id": "on7GeNd_fzxH"
      },
      "source": [
        "import pandas as pd"
      ],
      "execution_count": 2,
      "outputs": []
    },
    {
      "cell_type": "code",
      "metadata": {
        "colab": {
          "base_uri": "https://localhost:8080/",
          "height": 204
        },
        "id": "kEa78I_U9KG1",
        "outputId": "4b29a0a1-4784-4cca-81a3-c8bf2fb39b70"
      },
      "source": [
        "df['Family'] = 1 + df['SibSp'] + df['Parch']  \n",
        "\n",
        "df"
      ],
      "execution_count": 3,
      "outputs": [
        {
          "output_type": "error",
          "ename": "NameError",
          "evalue": "ignored",
          "traceback": [
            "\u001b[0;31m---------------------------------------------------------------------------\u001b[0m",
            "\u001b[0;31mNameError\u001b[0m                                 Traceback (most recent call last)",
            "\u001b[0;32m<ipython-input-3-e7e747d5020a>\u001b[0m in \u001b[0;36m<module>\u001b[0;34m()\u001b[0m\n\u001b[0;32m----> 1\u001b[0;31m \u001b[0mdf\u001b[0m\u001b[0;34m[\u001b[0m\u001b[0;34m'Family'\u001b[0m\u001b[0;34m]\u001b[0m \u001b[0;34m=\u001b[0m \u001b[0;36m1\u001b[0m \u001b[0;34m+\u001b[0m \u001b[0mdf\u001b[0m\u001b[0;34m[\u001b[0m\u001b[0;34m'SibSp'\u001b[0m\u001b[0;34m]\u001b[0m \u001b[0;34m+\u001b[0m \u001b[0mdf\u001b[0m\u001b[0;34m[\u001b[0m\u001b[0;34m'Parch'\u001b[0m\u001b[0;34m]\u001b[0m\u001b[0;34m\u001b[0m\u001b[0;34m\u001b[0m\u001b[0m\n\u001b[0m\u001b[1;32m      2\u001b[0m \u001b[0;34m\u001b[0m\u001b[0m\n\u001b[1;32m      3\u001b[0m \u001b[0mdf\u001b[0m\u001b[0;34m\u001b[0m\u001b[0;34m\u001b[0m\u001b[0m\n",
            "\u001b[0;31mNameError\u001b[0m: name 'df' is not defined"
          ]
        }
      ]
    },
    {
      "cell_type": "markdown",
      "metadata": {
        "id": "yTi9jFJnf7mG"
      },
      "source": [
        "##How to calculate summary statistics?"
      ]
    },
    {
      "cell_type": "markdown",
      "metadata": {
        "id": "m-uowELGhQh5"
      },
      "source": [
        "###Aggregating statistics"
      ]
    },
    {
      "cell_type": "markdown",
      "metadata": {
        "id": "orklc7xzhTH3"
      },
      "source": [
        "![image.png](data:image/png;base64,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)"
      ]
    },
    {
      "cell_type": "code",
      "metadata": {
        "id": "Uft4Rx2cfeP5"
      },
      "source": [
        "import pandas as pd"
      ],
      "execution_count": null,
      "outputs": []
    },
    {
      "cell_type": "code",
      "metadata": {
        "colab": {
          "base_uri": "https://localhost:8080/",
          "height": 330
        },
        "id": "nGf-8E-ufgep",
        "outputId": "009520d8-6da4-4bfb-b940-9eca12a0d43b"
      },
      "source": [
        "df = pd.read_csv('train.csv')\n",
        "df.head()\n"
      ],
      "execution_count": 5,
      "outputs": [
        {
          "output_type": "execute_result",
          "data": {
            "text/html": [
              "<div>\n",
              "<style scoped>\n",
              "    .dataframe tbody tr th:only-of-type {\n",
              "        vertical-align: middle;\n",
              "    }\n",
              "\n",
              "    .dataframe tbody tr th {\n",
              "        vertical-align: top;\n",
              "    }\n",
              "\n",
              "    .dataframe thead th {\n",
              "        text-align: right;\n",
              "    }\n",
              "</style>\n",
              "<table border=\"1\" class=\"dataframe\">\n",
              "  <thead>\n",
              "    <tr style=\"text-align: right;\">\n",
              "      <th></th>\n",
              "      <th>PassengerId</th>\n",
              "      <th>Survived</th>\n",
              "      <th>Pclass</th>\n",
              "      <th>Name</th>\n",
              "      <th>Sex</th>\n",
              "      <th>Age</th>\n",
              "      <th>SibSp</th>\n",
              "      <th>Parch</th>\n",
              "      <th>Ticket</th>\n",
              "      <th>Fare</th>\n",
              "      <th>Cabin</th>\n",
              "      <th>Embarked</th>\n",
              "    </tr>\n",
              "  </thead>\n",
              "  <tbody>\n",
              "    <tr>\n",
              "      <th>0</th>\n",
              "      <td>1</td>\n",
              "      <td>0</td>\n",
              "      <td>3</td>\n",
              "      <td>Braund, Mr. Owen Harris</td>\n",
              "      <td>male</td>\n",
              "      <td>22.0</td>\n",
              "      <td>1</td>\n",
              "      <td>0</td>\n",
              "      <td>A/5 21171</td>\n",
              "      <td>7.2500</td>\n",
              "      <td>NaN</td>\n",
              "      <td>S</td>\n",
              "    </tr>\n",
              "    <tr>\n",
              "      <th>1</th>\n",
              "      <td>2</td>\n",
              "      <td>1</td>\n",
              "      <td>1</td>\n",
              "      <td>Cumings, Mrs. John Bradley (Florence Briggs Th...</td>\n",
              "      <td>female</td>\n",
              "      <td>38.0</td>\n",
              "      <td>1</td>\n",
              "      <td>0</td>\n",
              "      <td>PC 17599</td>\n",
              "      <td>71.2833</td>\n",
              "      <td>C85</td>\n",
              "      <td>C</td>\n",
              "    </tr>\n",
              "    <tr>\n",
              "      <th>2</th>\n",
              "      <td>3</td>\n",
              "      <td>1</td>\n",
              "      <td>3</td>\n",
              "      <td>Heikkinen, Miss. Laina</td>\n",
              "      <td>female</td>\n",
              "      <td>26.0</td>\n",
              "      <td>0</td>\n",
              "      <td>0</td>\n",
              "      <td>STON/O2. 3101282</td>\n",
              "      <td>7.9250</td>\n",
              "      <td>NaN</td>\n",
              "      <td>S</td>\n",
              "    </tr>\n",
              "    <tr>\n",
              "      <th>3</th>\n",
              "      <td>4</td>\n",
              "      <td>1</td>\n",
              "      <td>1</td>\n",
              "      <td>Futrelle, Mrs. Jacques Heath (Lily May Peel)</td>\n",
              "      <td>female</td>\n",
              "      <td>35.0</td>\n",
              "      <td>1</td>\n",
              "      <td>0</td>\n",
              "      <td>113803</td>\n",
              "      <td>53.1000</td>\n",
              "      <td>C123</td>\n",
              "      <td>S</td>\n",
              "    </tr>\n",
              "    <tr>\n",
              "      <th>4</th>\n",
              "      <td>5</td>\n",
              "      <td>0</td>\n",
              "      <td>3</td>\n",
              "      <td>Allen, Mr. William Henry</td>\n",
              "      <td>male</td>\n",
              "      <td>35.0</td>\n",
              "      <td>0</td>\n",
              "      <td>0</td>\n",
              "      <td>373450</td>\n",
              "      <td>8.0500</td>\n",
              "      <td>NaN</td>\n",
              "      <td>S</td>\n",
              "    </tr>\n",
              "  </tbody>\n",
              "</table>\n",
              "</div>"
            ],
            "text/plain": [
              "   PassengerId  Survived  Pclass  ...     Fare Cabin  Embarked\n",
              "0            1         0       3  ...   7.2500   NaN         S\n",
              "1            2         1       1  ...  71.2833   C85         C\n",
              "2            3         1       3  ...   7.9250   NaN         S\n",
              "3            4         1       1  ...  53.1000  C123         S\n",
              "4            5         0       3  ...   8.0500   NaN         S\n",
              "\n",
              "[5 rows x 12 columns]"
            ]
          },
          "metadata": {
            "tags": []
          },
          "execution_count": 5
        }
      ]
    },
    {
      "cell_type": "code",
      "metadata": {
        "colab": {
          "base_uri": "https://localhost:8080/"
        },
        "id": "3Ec5kt2tgPsB",
        "outputId": "fab6c87e-26d9-4550-c2d4-052d33912cc6"
      },
      "source": [
        "df[\"Age\"].mean()    # 평균"
      ],
      "execution_count": 7,
      "outputs": [
        {
          "output_type": "execute_result",
          "data": {
            "text/plain": [
              "29.69911764705882"
            ]
          },
          "metadata": {
            "tags": []
          },
          "execution_count": 7
        }
      ]
    },
    {
      "cell_type": "markdown",
      "metadata": {
        "id": "YRWTo6i2hdHP"
      },
      "source": [
        "![image.png](data:image/png;base64,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)"
      ]
    },
    {
      "cell_type": "code",
      "metadata": {
        "colab": {
          "base_uri": "https://localhost:8080/"
        },
        "id": "ByeFF-r8gl4n",
        "outputId": "d0d76f6e-6782-4e6f-916c-b3fdca237cde"
      },
      "source": [
        "df[[\"Age\", \"Fare\"]].median()    # 중위수"
      ],
      "execution_count": 9,
      "outputs": [
        {
          "output_type": "execute_result",
          "data": {
            "text/plain": [
              "Age     28.0000\n",
              "Fare    14.4542\n",
              "dtype: float64"
            ]
          },
          "metadata": {
            "tags": []
          },
          "execution_count": 9
        }
      ]
    },
    {
      "cell_type": "code",
      "metadata": {
        "colab": {
          "base_uri": "https://localhost:8080/",
          "height": 284
        },
        "id": "K_owaEhCgw23",
        "outputId": "6f11d646-c825-4516-87e8-f09c010569d7"
      },
      "source": [
        "df[[\"Age\", \"Fare\"]].describe()    # 일반통계치"
      ],
      "execution_count": 10,
      "outputs": [
        {
          "output_type": "execute_result",
          "data": {
            "text/html": [
              "<div>\n",
              "<style scoped>\n",
              "    .dataframe tbody tr th:only-of-type {\n",
              "        vertical-align: middle;\n",
              "    }\n",
              "\n",
              "    .dataframe tbody tr th {\n",
              "        vertical-align: top;\n",
              "    }\n",
              "\n",
              "    .dataframe thead th {\n",
              "        text-align: right;\n",
              "    }\n",
              "</style>\n",
              "<table border=\"1\" class=\"dataframe\">\n",
              "  <thead>\n",
              "    <tr style=\"text-align: right;\">\n",
              "      <th></th>\n",
              "      <th>Age</th>\n",
              "      <th>Fare</th>\n",
              "    </tr>\n",
              "  </thead>\n",
              "  <tbody>\n",
              "    <tr>\n",
              "      <th>count</th>\n",
              "      <td>714.000000</td>\n",
              "      <td>891.000000</td>\n",
              "    </tr>\n",
              "    <tr>\n",
              "      <th>mean</th>\n",
              "      <td>29.699118</td>\n",
              "      <td>32.204208</td>\n",
              "    </tr>\n",
              "    <tr>\n",
              "      <th>std</th>\n",
              "      <td>14.526497</td>\n",
              "      <td>49.693429</td>\n",
              "    </tr>\n",
              "    <tr>\n",
              "      <th>min</th>\n",
              "      <td>0.420000</td>\n",
              "      <td>0.000000</td>\n",
              "    </tr>\n",
              "    <tr>\n",
              "      <th>25%</th>\n",
              "      <td>20.125000</td>\n",
              "      <td>7.910400</td>\n",
              "    </tr>\n",
              "    <tr>\n",
              "      <th>50%</th>\n",
              "      <td>28.000000</td>\n",
              "      <td>14.454200</td>\n",
              "    </tr>\n",
              "    <tr>\n",
              "      <th>75%</th>\n",
              "      <td>38.000000</td>\n",
              "      <td>31.000000</td>\n",
              "    </tr>\n",
              "    <tr>\n",
              "      <th>max</th>\n",
              "      <td>80.000000</td>\n",
              "      <td>512.329200</td>\n",
              "    </tr>\n",
              "  </tbody>\n",
              "</table>\n",
              "</div>"
            ],
            "text/plain": [
              "              Age        Fare\n",
              "count  714.000000  891.000000\n",
              "mean    29.699118   32.204208\n",
              "std     14.526497   49.693429\n",
              "min      0.420000    0.000000\n",
              "25%     20.125000    7.910400\n",
              "50%     28.000000   14.454200\n",
              "75%     38.000000   31.000000\n",
              "max     80.000000  512.329200"
            ]
          },
          "metadata": {
            "tags": []
          },
          "execution_count": 10
        }
      ]
    },
    {
      "cell_type": "markdown",
      "metadata": {
        "id": "wVpOof4mgzUv"
      },
      "source": [
        "###Aggregating statistics grouped by category"
      ]
    },
    {
      "cell_type": "markdown",
      "metadata": {
        "id": "fKpMkf0nhXUG"
      },
      "source": [
        "![image.png]()![image.png](data:image/png;base64,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)"
      ]
    },
    {
      "cell_type": "code",
      "metadata": {
        "colab": {
          "base_uri": "https://localhost:8080/",
          "height": 136
        },
        "id": "ulR-1GhEhpmG",
        "outputId": "4471bf9a-b983-409f-f177-bdccb12545f6"
      },
      "source": [
        "df[[\"Sex\", \"Age\"]].groupby(\"Sex\").mean()    ## Sex 남성과 여성에 대한 나이 평균"
      ],
      "execution_count": 11,
      "outputs": [
        {
          "output_type": "execute_result",
          "data": {
            "text/html": [
              "<div>\n",
              "<style scoped>\n",
              "    .dataframe tbody tr th:only-of-type {\n",
              "        vertical-align: middle;\n",
              "    }\n",
              "\n",
              "    .dataframe tbody tr th {\n",
              "        vertical-align: top;\n",
              "    }\n",
              "\n",
              "    .dataframe thead th {\n",
              "        text-align: right;\n",
              "    }\n",
              "</style>\n",
              "<table border=\"1\" class=\"dataframe\">\n",
              "  <thead>\n",
              "    <tr style=\"text-align: right;\">\n",
              "      <th></th>\n",
              "      <th>Age</th>\n",
              "    </tr>\n",
              "    <tr>\n",
              "      <th>Sex</th>\n",
              "      <th></th>\n",
              "    </tr>\n",
              "  </thead>\n",
              "  <tbody>\n",
              "    <tr>\n",
              "      <th>female</th>\n",
              "      <td>27.915709</td>\n",
              "    </tr>\n",
              "    <tr>\n",
              "      <th>male</th>\n",
              "      <td>30.726645</td>\n",
              "    </tr>\n",
              "  </tbody>\n",
              "</table>\n",
              "</div>"
            ],
            "text/plain": [
              "              Age\n",
              "Sex              \n",
              "female  27.915709\n",
              "male    30.726645"
            ]
          },
          "metadata": {
            "tags": []
          },
          "execution_count": 11
        }
      ]
    },
    {
      "cell_type": "code",
      "metadata": {
        "colab": {
          "base_uri": "https://localhost:8080/",
          "height": 136
        },
        "id": "lDrhIcH0h76f",
        "outputId": "def53893-6cc3-4a90-c5cd-c8444154b318"
      },
      "source": [
        "df.groupby(\"Sex\").mean()"
      ],
      "execution_count": 12,
      "outputs": [
        {
          "output_type": "execute_result",
          "data": {
            "text/html": [
              "<div>\n",
              "<style scoped>\n",
              "    .dataframe tbody tr th:only-of-type {\n",
              "        vertical-align: middle;\n",
              "    }\n",
              "\n",
              "    .dataframe tbody tr th {\n",
              "        vertical-align: top;\n",
              "    }\n",
              "\n",
              "    .dataframe thead th {\n",
              "        text-align: right;\n",
              "    }\n",
              "</style>\n",
              "<table border=\"1\" class=\"dataframe\">\n",
              "  <thead>\n",
              "    <tr style=\"text-align: right;\">\n",
              "      <th></th>\n",
              "      <th>PassengerId</th>\n",
              "      <th>Survived</th>\n",
              "      <th>Pclass</th>\n",
              "      <th>Age</th>\n",
              "      <th>SibSp</th>\n",
              "      <th>Parch</th>\n",
              "      <th>Fare</th>\n",
              "    </tr>\n",
              "    <tr>\n",
              "      <th>Sex</th>\n",
              "      <th></th>\n",
              "      <th></th>\n",
              "      <th></th>\n",
              "      <th></th>\n",
              "      <th></th>\n",
              "      <th></th>\n",
              "      <th></th>\n",
              "    </tr>\n",
              "  </thead>\n",
              "  <tbody>\n",
              "    <tr>\n",
              "      <th>female</th>\n",
              "      <td>431.028662</td>\n",
              "      <td>0.742038</td>\n",
              "      <td>2.159236</td>\n",
              "      <td>27.915709</td>\n",
              "      <td>0.694268</td>\n",
              "      <td>0.649682</td>\n",
              "      <td>44.479818</td>\n",
              "    </tr>\n",
              "    <tr>\n",
              "      <th>male</th>\n",
              "      <td>454.147314</td>\n",
              "      <td>0.188908</td>\n",
              "      <td>2.389948</td>\n",
              "      <td>30.726645</td>\n",
              "      <td>0.429809</td>\n",
              "      <td>0.235702</td>\n",
              "      <td>25.523893</td>\n",
              "    </tr>\n",
              "  </tbody>\n",
              "</table>\n",
              "</div>"
            ],
            "text/plain": [
              "        PassengerId  Survived    Pclass  ...     SibSp     Parch       Fare\n",
              "Sex                                      ...                               \n",
              "female   431.028662  0.742038  2.159236  ...  0.694268  0.649682  44.479818\n",
              "male     454.147314  0.188908  2.389948  ...  0.429809  0.235702  25.523893\n",
              "\n",
              "[2 rows x 7 columns]"
            ]
          },
          "metadata": {
            "tags": []
          },
          "execution_count": 12
        }
      ]
    },
    {
      "cell_type": "code",
      "metadata": {
        "colab": {
          "base_uri": "https://localhost:8080/"
        },
        "id": "wLVj4MKYjAaf",
        "outputId": "93f08d68-97eb-4edb-e8de-e079a6a82537"
      },
      "source": [
        "df.groupby(\"Sex\")[\"Age\"].mean()"
      ],
      "execution_count": 13,
      "outputs": [
        {
          "output_type": "execute_result",
          "data": {
            "text/plain": [
              "Sex\n",
              "female    27.915709\n",
              "male      30.726645\n",
              "Name: Age, dtype: float64"
            ]
          },
          "metadata": {
            "tags": []
          },
          "execution_count": 13
        }
      ]
    },
    {
      "cell_type": "markdown",
      "metadata": {
        "id": "3bhjYtUqjDZi"
      },
      "source": [
        "![image.png](data:image/png;base64,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)"
      ]
    },
    {
      "cell_type": "code",
      "metadata": {
        "colab": {
          "base_uri": "https://localhost:8080/"
        },
        "id": "l3pGOhfvjFGv",
        "outputId": "017df842-5eb8-4ee4-de4d-0a82ca285600"
      },
      "source": [
        "df.groupby([\"Sex\", \"Pclass\"])[\"Fare\"].mean()"
      ],
      "execution_count": 15,
      "outputs": [
        {
          "output_type": "execute_result",
          "data": {
            "text/plain": [
              "Sex     Pclass\n",
              "female  1         106.125798\n",
              "        2          21.970121\n",
              "        3          16.118810\n",
              "male    1          67.226127\n",
              "        2          19.741782\n",
              "        3          12.661633\n",
              "Name: Fare, dtype: float64"
            ]
          },
          "metadata": {
            "tags": []
          },
          "execution_count": 15
        }
      ]
    },
    {
      "cell_type": "markdown",
      "metadata": {
        "id": "Hf2tTOlLjy2w"
      },
      "source": [
        "###Count number of records by category"
      ]
    },
    {
      "cell_type": "markdown",
      "metadata": {
        "id": "KvjaEl06j2xK"
      },
      "source": [
        "![image.png](data:image/png;base64,iVBORw0KGgoAAAANSUhEUgAABXgAAAHlCAYAAABPvJS5AAAgAElEQVR4Ae3dDbBkVWHg8S43FliWJRuDrCRlghMV1PDhMBhEEUbUGIkxiFu4qPlYUEAUExPZAaOEQETZKpNoNmuSitlNQJNhQ8wm0UV3HR0hlIJmIxOUYeRrQJhBGL5EmBnO1iVzZpt5H93v9enT59zzm6quftPd7/a5v3fP4fZ/mn6DgT8ECBAgQIAAAQIECBAgQIAAAQIECBAgQIAAAQIECBAgQIAAAQIECBAgQIAAAQIECBAgQIAAAQIECBAgQIAAAQIECBAgQIAAAQIECBAgQIAAAQIECBAgQIAAAQIECBAgQIAAAQIECBAgQIAAAQIECBAgQIAAAQIECBAgQIAAAQIECBAgQIAAAQIECBAgQIAAAQIECBAgQIAAAQIECBAgQIAAAQIECBAgQIAAAQIECBAgQIAAAQIECBAgQIAAAQIECBAgQIAAAQIECBAgQIAAAQIECBAgQIAAAQIECBAgQIAAAQIECBAgQIAAAQIECBAgQIAAAQIECBAgQIAAAQIECBAgQIAAAQIECBAgQIAAAQIECBAgQIAAAQIECBAgQIAAAQIECBAgQIAAAQIECBAgQIAAAQIECBAgQIAAAQIECBAgQIAAAQIECBAgQIAAAQIECBAgQIAAAQIECBAgQIAAAQIECBAgQIAAAQIECBAgQIAAAQIECBAgQIAAAQIECBAgQIAAAQIECBAgQIAAAQIECBAgQIAAAQIECBAgQIAAAQIECBAgQIAAAQIECBAgQIAAAQIECBAgQIAAAQIECBAgQIAAAQIECBAgQIAAAQIECBAgQIAAAQIECBAgQIAAAQIECBAgQIAAAQIECBAgQIAAAQIECBAgQIAAAQIECBAgQIAAAQIECBAgQIAAAQIECBAgQIAAAQIECBAgQIAAAQIECBAgQIAAAQIECBAgQIAAAQIECBAgQIAAAQIECBAgQIAAAQIECBAgQIAAAQIECBAgQIAAAQIECPROIIRwcghhnctUDJ7VuwPGDhEgQIAAAQIECBAgQIAAAQIECBAgUI5ACGFN8GdaAgeU85M2EgIECBAgQIAAAQIECBAgQIAAAQIEeicQA++ffeLz4Q2vPN8lgcGNN9wRg7HA27sZY4cIECBAgAABAgQIECBAgAABAgQIFCQQQji3q5Hnnf0XYd8fOsklgcE/XbMpBt4VBf2oDYUAAQIECBAgQIAAAQIECBAgQIAAgb4JCLzpo7bA27dZYn8IECBAgAABAgQIECBAgAABAgQIFCog8Aq8hR6ahkWAAAECBAgQIECAAAECBAgQIECAwCgBgVfgHXWMuJ8AAQIECBAgQIAAAQIECBAgQIAAgUIFBF6Bt9BD07AIECBAgAABAgQIECBAgAABAgQIEBglIPAKvKOOEfcTIECAAAECBAgQIECAAAECBAgQIFCogMAr8BZ6aBoWAQIECBAgQIAAAQIECBAgQIAAAQKjBARegXfUMeJ+AgQIECBAgAABAgQIECBAgAABAgQKFRB4Bd5CD03DIkCAAAECBAgQIECAAAECBAgQIEBglIDAK/COOkbcT4AAAQIECBAgQIAAAQIECBAgQIBAoQICr8Bb6KFpWAQIECBAgAABAgQIECBAgAABAgQIjBIQeAXeUceI+wkQIECAAAECBAgQIECAAAECBAgQKFRA4BV4Cz00DYsAAQIECBAgQIAAAQIECBAgQIAAgVECAq/AO+oYcT8BAgQIECBAgAABAgQIECBAgAABAoUKCLwCb6GHpmERIECAAAECBAgQIECAAAECBAgQIDBKQOAVeEcdI+4nQIAAAQIECBAgQIAAAQIECBAgQKBQAYFX4C300DQsAgQIECBAgAABAgQIECBAgAABAgRGCQi8Au+oY8T9BAgQIECAAAECBAgQIECAAAECBAgUKiDwCryFHpqGRYAAAQIECBAgQIAAAQIECBAgQIDAKAGBV+AddYy4nwABAgQIECBAgAABAgQIECBAgACBQgUEXoG30EPTsAgQIECAAAECBAgQIECAAAECBAgQGCUg8Aq8o44R9xMgQIAAAQIECBAgQIAAAQIECBAgUKiAwCvwFnpoGhYBAgQIECBAgAABAgQIECBAgAABAqMEBF6Bd9Qx4n4CBAgQIECAAAECBAgQIECAAAECBAoVEHgF3kIPTcMiQIAAAQIECBAgQIAAAQIECBAgQGCUgMAr8I46RtxPgAABAgQIECBAgAABAgQIECBAgEChAgKvwFvooWlYBAgQIECAAAECBAgQIECAAAECBAiMEhB4Bd5Rx4j7CRAgQIAAAQIECBAgQIAAAQIECBAoVEDgFXgLPTQNiwABAgQIECBAgAABAgQIECBAgACBUQICr8A76hhxPwECBAgQIECAAAECBAgQIECAAAEChQoIvAJvoYemYREgQIAAAQIECBAgQIAAAQIECBAgMEpA4BV4Rx0j7idAgAABAgQIECBAgAABAgQIECBAoFABgVfgLfTQNCwCBAgQIECAAAECBAgQIECAAAECBEYJCLwC76hjxP0ECBAgQIAAAQIECBAgQIAAAQIECBQqIPAKvIUemoZFgAABAgQIECBAgAABAgQIECBAgMAoAYFX4B11jLifAAECBAgQIECAAAECBAgQIECAAIFCBQRegbfQQ9OwCBAgQIAAAQIECBAgQIAAAQIECBAYJSDwCryjjhH3EyBAgAABAgQIECBAgAABAgQIECBQqEAIYU0IIfzZJz4f3vDK810SGNx4wx0daffngEJ/7IZFgAABAgQIECBAgAABAgQIECBAgEAfBGLg3RUkXaUVEHj7MEnsAwECBAgQIECAAAECBAgQIECAAIFSBUIIJ4cQ1rlMxeBZpf7cjYsAAQIECBAgQIAAAQIECBAgQIAAAQIECBAgQIAAAQIECBAgQIAAAQIECBAgQIAAAQIECBAgQIAAAQIECBAgQIAAAQIECBAgQIAAAQIECBAgQIAAAQIECBAgQIAAgdkKhBDemvb3XdnakMDq+NMNIZw7dLsv0wqsiM6uCRAgQIAAAQIECBAgQIAAAQIECDQlIPCmLY17bE3g3QNkSn8VeJtatewsAQIECBAgQIAAAQIECBAgQIDAboEYeDdt3BguX7vWJYHBHZs3x445J/Cu+8yOcPFZj7gkMLjz1seis8C7e0b7ggABAgQIECBAgAABAgQIECBAoCkBgTd91BZ48wRsgbeppcrOEiBAgAABAgQIECBAgAABAgQIzCcg8Aq8tb6jWOCdb0a7jQABAgQIECBAgAABAgQIECBAoCkBgVfgFXibmvJ2lgABAgQIECBAgAABAgQIECBAoE8CAq/AK/D2aUbbFwIECBAgQIAAAQIECBAgQIAAgaYEBF6BV+BtasrbWQIECBAgQIAAAQIECBAgQIAAgT4JCLwCr8DbpxltXwgQIECAAAECBAgQIECAAAECBJoSEHgFXoG3qSlvZwkQIECAAAECBAgQIECAAAECBPokIPAKvAJvn2a0fSFAgAABAgQIECBAgAABAgQIEGhKQOAVeAXepqa8nSVAgAABAgQIECBAgAABAgQIEOiTgMAr8Aq8fZrR9oUAAQIECBAgQIAAAQIECBAgQKApAYFX4BV4m5rydpYAAQIECBAgQIAAAQIECBAgQKBPAgKvwCvw9mlG2xcCBAgQIECAAAECBAgQIECAAIGmBARegVfgbWrK21kCBAgQIECAAAECBAgQIECAAIE+CQi8Aq/A26cZbV8IECBAgAABAgQIECBAgAABAgSaEhB4BV6Bt6kpb2cJECBAgAABAgQIECBAgAABAgT6JCDwCrwCb59mtH0hQIAAAQIECBAgQIAAAQIECBBoSkDgFXgF3qamvJ0lQIAAAQIECBAgQIAAAQIECBDok4DAK/AKvH2a0faFAAECBAgQIECAAAECBAgQIECgKQGBV+AVeJua8naWAAECBAgQIECAAAECBAgQIECgTwICr8Ar8PZpRtsXAgQIECBAgAABAgQIECBAgACBpgQEXoFX4G1qyttZAgQIECBAgAABAgQIECBAgACBPgkIvAKvwNunGW1fCBAgQIAAAQIECBAgQIAAAQIEmhIQeAVegbepKW9nCRAgQIAAAQIECBAgQIAAAQIE+iQg8Aq8Am+fZrR9IUCAAAECBAgQIECAAAECBAgQaEpA4BV4Bd6mprydJUCAAAECBAgQIECAAAECBAgQ6JOAwCvwCrx9mtH2hQABAgQIECBAgAABAgQIECBAoCkBgVfgFXibmvJ2lgABAgQIECBAgAABAgQIECBAoE8CAq/AK/D2aUbbFwIECBAgQIAAAQIECBAgQIAAgaYEBF6BV+BtasrbWQIECBAgQIAAAQIECBAgQIAAgT4JCLwCr8DbpxltXwgQIECAAAECBAgQIECAAAECBJoSEHgFXoG3qSlvZwkQIECAAAECBAgQIECAAAECBPokIPAKvAJvn2a0fSFAgAABAgQIECBAgAABAgQIEGhKQOAVeAXepqa8nSVAgAABAgQIECBAgAABAgQIEOiTgMAr8Aq8fZrR9oUAAQIECBAgQIAAAQIECBAgQKApAYFX4BV4m5rydpYAAQIECBAgQIAAAQIECBAgQKBPAgKvwCvw9mlG2xcCBAgQIECAAAECBAgQIECAAIGmBARegVfgbWrK21kCBAgQIECAAAEC/RYIIewX/JmWwEX9PnrsHQECBOoUEHgFXoG3zrlr1AQIECBAgAABAgQIzCMg8E6r7T6+XYF3nmPOTQQIEJi1QAjhLd0qfc/3vheu37DBJYHB/fffH/+Dujr+fEMI53Q33vStneHKz+5wSWDw4H2PRefnRGfXBAgQIECAAAECBAg0LhAD743fviPs+0MnuSQw+PUz/iS++BJ4G59fdp8AgTIF4jt442LtOqnAnMCbdOs2FgUE3jKXF6MiQIAAAQIECBAgkF9A4E0ftQXe/MexZyRAgMBSBEII7wgh3OwyFYPj488ihHA+46kYd8fugdHZNQECBAgQIECAAAECjQsIvAJv41PA7hMg0KCAd/DGN4FO5Xr4HbxrpvIMNtoJHNDg1LXLBAgQIECAAAECBAjMJyDwCrzzHRduI0CAQJ8F4mfw3r55c1i/bp1LAoO7t26N2fXYeOyEEB4PvN/4yo7w6Y9td0lgcM9duz+DV+CNB5prAgQIECBAgAABAq0LCLwCb+tzwP4TINCeQHwH76aNG8Pla9e6JDC4Y/PmGHiH38F7bnfjus/sCBef9YhLAoM7b90deFe0N3PtMQECBAgQIECAAAEC8woIvALvvAeGGwkQINBjAYE3fdQWePMEbIG3xwuTXSNAgAABAgQIECCwXAGBV+Bd7rHj+wgQIFCrgMAr8Nb6jmKBt9ZVx7gJECBAgAABAgQITFFA4BV4p3h42TQBAgSKFBB4BV6Bt8ipaVAECBAgQIAAAQIECCxHQOAVeJdz3PgeAgQI1Cwg8Aq8Am/NM9jYCRAgQIAAAQIECBB4goDAK/A+4YDwFwIECDQgIPAKvAJvAxPdLhIgQIAAAQIECBBoRUDgFXhbOdbtJwECBKKAwCvwCrxxNrgmQIAAAQIECBAgQKB6AYFX4K3+ILYDBAgQWKKAwCvwCrxLnDQeToAAAQIECBAgQIBAuQICr8Bb7tFpZAQIEJiOgMAr8Aq805lbtkqAAAECBAgQIECAwAwEBF6BdwaHnackQIDATAUEXoFX4J3pFPTkBAgQIECAAAECBAikFBB4Bd6Ux5NtESBAoAYBgVfgFXhrmKnGSIAAAQIECBAgQIDAWAICr8A71oHiQQQIEOiRgMAr8Aq8PZrQdoUAAQIECBAgQIBA6wICr8Db+hyw/wQItCcg8Aq8Am97894eEyBAgAABAgQIEOitgMAr8Pb24LZjBAgQWEBA4BV4Bd4FJoebCRAgQIAAAQIECBCoT0DgFXjrO2qNmAABApMJCLwCr8A72Rzy3QQIECBAgAABAgQIFCQg8Aq8BR2OhkKAAIEsAgKvwCvwZplqnoQAAQIECBAgQIAAgRwCAq/Am+M48xwECBAoSUDgFXgF3pJmpLEQIECAAAECBAgQIDCRgMAr8E50APlmAgQIVCgg8Aq8Am+FE9eQCRAgQIAAAQIECBCYX0DgFXjnPzLcSoAAgf4KCLwCr8Db3/ltzwgQIECAAAECBAg0JyDwCrzNHfR2mACB5gUEXoFX4G1+GQBAgAABAgQIECBAoD8CAq/A25+j2Z4QIEBgPAGBV+AVeMebKx5FgAABAgQIECBAgEAFAgKvwFvBYWqIBAgQSCog8Aq8Am/SKWVjBAgQIECAAAECBAjMUkDgFXhnefx5bgIECMxCQOAVeAXeWcw8z0mAAAECBAgQIECAwFQEBF6BdyoHlo0SIECgYAGBV+AVeAueoIZGgAABAgQIECBAgMDSBARegXdpR4xHEyBAoH4BgVfgFXjrn8f2gAABAgQIECBAgACBXQICr8BrMhAgQKA1AYFX4BV4W5v19pcAAQIECBAgQIBAjwUEXoG3x4e3XSNAgMC8AgKvwCvwzjs13EiAAAECBAgQIECAQI0CAq/AW+Nxa8wECBCYREDgFXgF3klmkO8lQIAAAQIECBAgQKAoAYFX4C3qgDQYAgQIZBAQeAVegTfDRPMUBAgQIECAAAECBAjkERB4Bd48R5pnIUCAQDkCAq/AK/CWMx+NhAABAgQIECBAgACBCQUEXoF3wkPItxMgQKA6AYFX4BV4q5u2BkyAAAECBAgQIECAwEICAq/Au9Cx4XYCBAj0VUDgFXgF3r7ObvtFgAABAgQIECBAoEEBgVfgbfCwt8sECDQuIPAKvAJv44uA3SdAgAABAgQIECDQJwGBV+Dt0/FsXwgQIDCOgMAr8Aq848wUjyFAgAABAgQIECBAoAoBgVfgreJANUgCBAgkFBB4BV6BN+GEsikCBAgQIECAAAECBGYrEEJ4Zggh3HP3A+Ej51/mksDgir//ekfa/blotj9dz06AAAEC8wkIvAKvwDvfzHAbAQIECBAgQIAAAQJVCsR38O4Kkq7SCgi8Vc4KgyZAoO8CAq/AK/D2fZbbPwIECBAgQIAAAQINCYQQnhpCOM9lKgbHNXQo2VUCBAhUIyDwCrwCbzXT1UAJECBAgAABAgQIECBAgAABAgQIPFEghPCW7n/YuH3z5rB+3TqXBAZ3b90a/x+YY6N2CGFNd+M3vrIjfPpj210SGNxz12PR+YDo7JoAAQIECBAgQIAAAQIECBAgQIBAUwLxHbyxlLlOKrA6Hkwx8Cbduo1FAYE3HmiuCRAgQIAAAQIEyhYIIRwdQjjGJbnBQcM/eb7JfeMx+5xhZ18TIECAQBkCIYQTQwjrXKZicHT8KYcQ3sl4KsbdsSvwxgPNNQECBAgQIECAQNkCIYQfxLcpuE4qcGn8yfsla0ld99yYX7IWDzTXBAgQKEjAO3j3/M9V0r8Pv4P3nKRbtrFhAf+IXNCaYigECBAgQIAAAQKLCMSz2K1btgSXyQ3u27Ytkl4S2UMI+3Y3bn80hFs37nRJYHDPlt2fjyfwxgPNNQECBAoS8Bm86T932Gfw5vmMYZ/BW9BCYigECBAgQIAAAQLjCXTv4N25c2e4fG363/bc4javWr8+Bt457+DtXjDU+hulSxv3FX+5PToLvONNdY8iQIBAVoH4Dt5NGzc6x0h0jnXH5s3xv33D7+A9t7tx3Wd2OMc465EkBnfeuvsfkVdknTSejAABAgQIECBAgMByBQTetGFb4E3z4mpUUBZ4lzvjfR8BAgTyCAi8ac8vun80F3jznGMIvHnWCM9CgAABAgQIECCQUEDgTfsCTODN8+JL4E24CNgUAQIEpiAg8KY9vxB485xfdP/ALPBOYUGwSQIECBAgQIAAgekKCLxpX4AJvHlegAm8010XbJ0AAQKTCgi8ac8vBN485xcC76Qz3/cTIECAAAECBAjMREDgTfsCTODN8wJM4J3JcuFJCRAgMLaAwJv2/ELgzXN+IfCOPcU9kAABAgQIECBAoCQBgTftCzCBN88LMIG3pFXEWAgQIDBXQOBNe34h8OY5vxB4585ltxAgQIAAAQIECFQgIPCmfQEm8OZ5ASbwVrC4GCIBAk0LCLxpzy8E3jznFwJv08uWnSdAgAABAgQI1Csg8KZ9ASbw5nkBJvDWu+YYOQECbQgIvGnPLwTePOcXAm8b65O9JECAAAECBAj0TkDgTfsCTODN8wJM4O3dUmSHCBDomYDAm/b8QuDNc34h8PZsIbI7BAgQIECAAIFWBATetC/ABN48L8AE3lZWKPtJgECtAgJv2vMLgTfP+YXAW+uKY9wECBAgQIAAgcYFBN60L8AE3jwvwATexhcuu0+AQPECAm/a8wuBN8/5hcBb/NJigAQIECBAgAABAvMJCLxpX4AJvHlegAm8881mtxEgQKAcAYE37fmFwJvn/ELgLWcNMRICBAgQIECAAIElCAi8aV+ACbx5XoAJvEuY5B5KgACBGQgIvGnPLwTePOcXAu8MFgtPSYAAAQIECBAgMLmAwJv2BZjAm+cFmMA7+dy3BQIECExTQOBNe34h8OY5vxB4p7kq2DYBAgQIECBAgMDUBATetC/ABN48L8AE3qktCTZMgACBJAICb9rzC4E3z/mFwJtk+tsIAQIECBAgQIBAbgGBN+0LMIE3zwswgTf3SuH5CBAgsDQBgTft+YXAm+f8QuBd2jz3aAIECBAgQIAAgUIEBN60L8AE3jwvwATeQhYQwyBAgMACAgJv2vMLgTfP+YXAu8CEdjMBAgQIEFhAIITwxuDPtASOX4DdzQTmCgi8aV+ACbx5XoAJvHPnslsIECBQkoDAm/b8QuDNc34h8Ja0ihgLAQIECNQgIPBOq+0+vl2Bt4ZJUMoYBd60L8AE3jwvwATeUlYQ4yBAgMD8AgJv2vMLgTfP+YXAO/98disBAgQIEFhIIAbem2+6KXTnKy6TG9x6yy2xGgu8Cx14bp8rIPBOPvmGFzCBN88LMIF37lx2CwECBEoSEHjTnl8IvHnOLwTeklYRYyFAgACBGgQE3vTnfAJvDUd+gWMUeNNORoE3zwswgbfAxcSQCBAgMCQg8KY9vxB485xfCLxDk9iXBAgQIEBgDAGBN/05n8A7xoHnIXMFBN60k1HgzfMCTOCdO5fdQoAAgZIEBN605xcCb57zC4G3pFXEWAgQIECgBgGBN/05n8Bbw5Ff4BgF3rSTUeDN8wJM4C1wMTEkAgQIDAkIvGnPLwTePOcXAu/QJPYlAQIECBAYQ0DgTX/OJ/COceB5yFwBgTftZBR487wAE3jnzmW3ECBAoCQBgTft+YXAm+f8QuAtaRUxFgIECBCoQUDgTX/OJ/DWcOQXOEaBN+1kFHjzvAATeAtcTAyJAAECQwICb9rzC4E3z/mFwDs0iX1JgAABAgTGEBB405/zCbxjHHgeMldA4E07GQXePC/ABN65c9ktBAgQKElA4E17fiHw5jm/EHhLWkWMhQABAgRqEBB405/zCbw1HPkFjlHgTTsZBd48L8AE3gIXE0MiQIDAkIDAm/b8QuDNc34h8A5NYl8SIECAAIExBATe9Od8Au8YB56HzBUQeNNORoE3zwswgXfuXHYLAQIEShIQeNOeXwi8ec4vBN6SVhFjIUCAAIEaBATe9Od8Am8NR36BYxR4005GgTfPCzCBt8DFxJAIECAwJCDwpj2/EHjznF8IvEOT2JcECBAgQGAMAYE3/TmfwDvGgechcwUE3rSTUeDN8wJM4J07l91CgACBkgQE3rTnFwJvnvMLgbekVcRYCBAgQKAGAYE3/TmfwFvDkV/gGAXetJNR4M3zAkzgLXAxMSQCBAgMCQi8ac8vBN485xcC79Ak9iUBAgQIEBhDQOBNf84n8I5x4HnIXAGBN+1kFHjzvAATeOfOZbcQIECgJAGBN+35hcCb5/xC4C1pFTEWAgQIEKhBQOBNf84n8NZw5Bc4RoE37WQUePO8ABN4C1xMDIkAAQJDAgJv2vMLgTfP+YXAOzSJfUmAAAECBMYQEHjTn/MJvGMceB4yV0DgTTsZBd48L8AE3rlz2S0ECBAoSUDgTXt+IfDmOb8QeEtaRYyFAAECBGoQEHjTn/MJvDUc+QWOUeBNOxkF3jwvwATeAhcTQyJAgMCQgMCb9vxC4M1zfiHwDk1iXxIgQIAAgTEEBN7053wC7xgHnofMFRB4005GgTfPCzCBd+5cdgsBAgRKEhB4055fCLx5zi8E3pJWEWMhQIAAgRoEBN7053wCbw1HfoFjFHjTTkaBN88LMIG3wMXEkAgQIDAkIPCmPb8QePOcXwi8Q5PYlwQIECBAYAwBgTf9OZ/AO8aB5yFzBQTetJNR4M3zAkzgnTuX3UKAAIGSBATetOcXAm+e8wuBt6RVxFgIECBAoAYBgTf9OZ/AW8ORX+AYBd60k1HgzfMCTOAtcDExJAIECAwJCLxpzy8E3jznFwLv0CT2JQECBAgQGENA4E1/zifwjnHgechcgbDrz9YtW4LL5Ab3bdsWSS+J2iGEfbsbtz8awq0bd7okMLhny2PR+aLo7JoAAQIEyhGIgTcu1q6TCqyOP+kQwrlJt2xjwwIrorNrAgQIECBAYH4BgVfgnf/IcGt2ge4dvMNnsr5OJnBp/GGGEPZLtlUb2lNA4I0HmmsCBAgUJBBCeFUIYZ3LVAwOiz/qEMLJjKdi3B27z4rOrgkQIECAAIH5BQRegXf+I8Ot2QVCCI/sWcz8PYnA38UfpsCbxHOhjfxhdHZNgAABAgQIECBAgAABAgQI5BMQeAXefEebZ1pUwDt4F+qGE9/uHbwTE461Ae/gXXSGu5MAAQIECBAgQIAAAQIECExHQOAVeKdzZNnqkgX8krW0k3GxX7J20w0PhAP3vswlgcEHz/x6rL8C75JnvW8gQIAAAQIECBAgQIAAAQKTCwi8aZtS94t1/SZKShcAACAASURBVJK1yY/LJrcg8KadjAJvnoAt8Da5XNlpAgQIECBAgAABAgQIEChIQOBN25QE3oIO7tqGIvCmnYwCr8Bb2xpgvAQIECBAgAABAgQIECBAYDkCAm/apiTwLuco9D2PCwi8aSejwCvwWloIECBAgAABAgQIECBAgEALAgJv2qYk8LYwa6a0jwJv2sko8Aq8U5qqNkuAAAECBAgQIECAAAECBIoSEHjTNiWBt6jDu67BCLxpJ6PAK/DWtQIYLQECBAgQIECAAAECBAgQWJ6AwJu2KQm8yzsOfddgMBB4005GgVfgtbAQIECAAAECBAgQIECAAIEWBATetE1J4G1h1kxpHwXetJNR4BV4pzRVbZYAAQIECBAgQIAAAQIECBQlIPCmbUoCb1GHd12DEXjTTkaBV+CtawUwWgIECBAgQIAAAQIECBAgsDwBgTdtUxJ4l3cc+i4f0RC6yZPyIvAKvBYWAgQIECBAgAABAgQIECDQgoDAm7YpCbwtzJop7aN38KadjAKvwDulqWqzBAgQIECAAAECBAgQIECgKAGBN21TEniLOrzrGozAm3YyCrwCb10rgNESIECAAAECBAgQIECAAIHlCQi8aZuSwLu849B3+YiGpB/P0E1EgVfgtbAQIECAAAECBAgQIECAAIEWBARegbeF47yKffQO3rSTUeAVeKuY+AZJgAABAgQIECBAgAABAgQmFBB40zYl7+Cd8IBs+dsF3rSTUeAVeFteT+w7AQIECBAgQIAAAQIECLQjEEI4IYQQ7r333nD9hg0uCQzu27atI+3+HN/OkWRPJxYQeAXeA/fOE2VTPs8Hz/z6rvUuXDTxJLABAgQIECBAgAABAgQIECBAYMkC8R288QW666QCAu+Sj8iGv0HgFXhThtdc2xJ4G1607DoBAgQIECBAgAABAgQIFCEQQjgohHCey1QMnlfED9kg6hAQeAXeXFE25fMIvHWsL0ZJgAABAgQIECBAgAABAgQIECAwZQGBV+BNGV5zbUvgnfLCYPMECBAgQIAAAQIECBAgQIAAAQJ1CAi8Am+uKJvyeQTeOtYXoyRAgAABAgQIECBAgMAsBEIITwshHOMyFYP94880hPAjjKdi3B27z4jOrgmMFBB4Bd6U4TXXtgTekVPbAwgQIECAAAECBAgQINCsQAjh8KS/7srGhgVOjweWX7I2zJL8a79kLR5orkcLCLwCb64om/J5BN7Rc9sjCBAgQIAAAQIECBAg0KpADLz33v1YuPKzO1wSGGzetDMWzDPicRVCOKG7ceddD93yg89u+luXyQ12bn1o8y5ogTceaK5HCwi8Am/K8JprWwLv6LntEQQIECBAgAABAgQIEGhVIISwqotkN3/rsXDxWY+4JDC4+ood8wXeN3Y3Pnrtd9ff/m8+dIrL5Abb/3nLPwq8ra5cE+y3wCvw5oqyKZ9H4J1g0vtWAgQIECBAgAABAgQI9FxA4E0ftQXeyePtOAFc4O354jSt3RN4Bd6U4TXXtgTeaa0ItkuAAAECBAgQIECAAIH6BQRegXecmFriYwTe+tefmeyBwCvw5oqyKZ9H4J3JcuFJCRAgQIAAAQIECBAgUIWAwCvwlhhvxxmTwFvFElPeIAVegTdleM21LYG3vLXEiAgQIECAAAECBAgQIFCKgMAr8I4TU0t8jMBbyipS2TgEXoE3V5RN+TwCb2ULjeESIECAAAECBAgQIEAgo4DA227gvWavc951wY+++Q/efOBxX1x98EtvWfXilY+uXLkydJeXHfqSrW866JXr/+CZv/zhWwa/farAm3FSeqrpCgi8Am/K8JprWwLvdNcFWydAgAABAgQIECBAgEDNAgJvm4H3uif/5hknvODYq2PQXez6DS885mtffspv/Gppkdc7eGteeWY4doFX4M0VZVM+j8A7w0XDUxMgQIAAAQIECBAgQKBwAYG33cB78vNe/fl3HfBzn750n9M/8I0nv/+dMeDe8KTfesdlTz/z3JMOPG7dqpWH7+ji72tedNT1pUVegbfwxaXU4Qm8Am/K8JprWwJvqSuKcREgQIAAAQIECBAgQGD2AgJvm4E3xtzFrruPZnjvj7/hv8d39/7aAb/wF4s9Pvd9Au/s148qRyDwCry5omzK5xF4q1xuDJoAAQIECBAgQIAAAQJZBARegXexMPuFp773vasPPvKmLvK+/oWv+MbwO30X+74c9wm8WZaI/j2JwCvwpgyvubYl8PZvLbJHBOYR2GcwGHxwMBj8xDz3uYkAAQIECBAgkEPgvMFgcGiOJ/IcaQUEXoF3sRj7rSedd9qJB62+qgu8xx181KavPOV971ns8TnvE3jTrgXNbE3gFXhzRdmUzyPwNrNE2dG2BbrA++BgMAiDwWDjYDA4azAYdLf5Q4AAAQIECBDIJfDtXecid+06F/EPz7nkJ3wegVfgXSzK3ja48JS3Pfc1nxN4J5xovr0cAYFX4E0ZXnNtS+AtZw0xEgJTFnjPYDDYuuuF1UO7rv/XYDD4+Sk/r80TIECAAAECBDqBY4b+wfmRwWDwg8Fg8LXBYPCL/uG57ANE4BV4Fwu81z35N894wwuO+WoXeLt38nbv6F3s8Tnv8w7esteWYkcn8Aq8uaJsyucReItdUgyMwDQE7t4Vdrt38sbL9weDQRd8L/G/TU6D3DYJECBAgACBIYGrh85B4rnItsFg0J2PrPUPz0NSBX0p8Aq8i0XZ//Yjbz//pYeuurcLvB/8sTd9YrHH5r5P4C1oIalpKAKvwJsyvObalsBb0ypjrAQmFvileV5UxRdX3fUDg8HA/zY5MbMNECBAgAABAgsIvGHoXbzD5yDx6+4fnbv/4+ijfnfAAoIzuFngFXgXCrPdL1jrfrFafPduSb9grRuzwDuDBaMPTynwCry5omzK5xF4+7D62AcCYwt0v9hkvnfxxhdV8dr/Njk2qQcSIECAAAECSxSIHxkVzzvmu+4+vqE7H/G7A5aIO42HC7wC73Dg7T6S4TNPf/ea01a87q+PPOyIbatWHr7j5Oe9+vPXPvncM4cfV8LXAu80VoQGtinwCrwpw2uubQm8DSxOdpHAEwXuHPEu3j1fZPnfJp/o528ECBAgQIDAZAJLPRcZ/t0B3ef1+pNZQOBtO/Cu3eed7z/q0CPu7t6lO3xZ9eKVj/77g165/tJ93vGB7hetlRB09xyDwJt5sejL04Vdf67fsCG4TG5w2y23RNJL4zESQnhmd+O933skfPyCDS4JDNb9wx3R+aLo7LoogfcuMcbtGef8/f9/1iyLNBa3FTVDDIYAAQIEpi3wOuciuz+33rlEmnOJSR3v80vZpj3tn7h9gVfgnS/wdrG3e/fuz/zUy67/nf1P/v2SfrlaDL0C7xPnsr+NKdC9gzeWMtdJBYYD735Jt2xjwwIC75hzPfPDjhwMBue5MEh4DDy4jBfq8SMb/tAvYsu8Ang6AgQIzF7guQn/G+Scxnlddwx0/3fQUiNvdy7SXS4bDAbHzH5atDUCgbftwBtjaby+4Um/9Y7PPe097+t+odpxBx+1Kb6r98SDVl911V5nnxUfV8K1wNvWWpVsb0MIG0MIN7skN/hU/CGFEPbnm9w3HrPdLzLwhwCBfgv8xJifwdu96Ir/O+QVg8Gg+4Uo/hAgQIAAAQIEUgh0n687TuDtfvlr99hrBoNB94ti90nx5LaxdAGBV+BdKNZ279r91Z/4+Uu6d/J2ofdNB67+SvcZvQs9PvftAu/S57vv6P4L5R28w+8GTfm1d/Cm1Fx4W97BayUj0H+B7h0v9y/yoiq+O+bbXkj1/2CwhwQIECBAYAYC3T82j3oHbxd2twwGg/cMBoPu8f7MWEDgFXgXC7M3Ds5/+y8992f+Pn5kw8XPeutHF3t8zvsE3hkvHrU+fexm69etCy6TG2z45jcj6SXxmAgh7NvdeP+9j4VPf2y7SwKDr31xR3QWeOOB5ppAfwW6d8DM946Z7t26dw8Gg9/1Qqq/P3x7RoAAAQIEChDoXnPMdy7SRd3vDwYDHwdVwA9pzyEIvALvqCg7/IvY3vbc13yulF+6JvDuOZv9fSyB7h28O3fuDJevXeuSwOCq9etjeJzzDt577nosXHxW+kW2xW1e8Zfbo7PAO9ZM9yAC1Qp0794d/vzd7oXUw4PBoFtjfZZdtT9WAydAgAABAtUIdO/G7c49YuD1cVCV/OgE3vTt4eordr/R6ox4GIQQ3ti9OH/02u+uHxVUS7v/mr3OeddrX/TyDd27eE94wbFXl/IxDQJvPLpcL0lA4E0btgXe9P8RmS9gC7xLmuYeTKBmge7du9t3vaj6oo9gqPlHaewECBAgQKBKge4flXfu+mVpPg6qoh+hwJv+tXnfAm8XdLuwK/BWNLENdWEBgVfgnS+gln6bwLvwnHYPgR4JdO+Yudpn2fXoJ2pXCBAgQIBAfQLduYiPg6rv59b9vqFV3TtLb/6W/5M21ev7vgXe4XfwnnjQ6qu6X75WwruMvYO3wgWnhCELvAJvqsU+53YE3hJWD2MgQIAAAQIECBAgQIBAmQICr3fwjoq1w5/Be9qK1/31qMfnul/gLXNNKX5UAq/AmzPMpnougbf4pcUACRAgQIAAAQIECBAgMDMBgVfgXSzI3jg4/+2n/uTP/k338QwvPXTVvX/+w6edt9jjc94n8M5s2aj7iQVegTdVdM25HYG37nXH6AkQIECAAAECBAgQIDBNAYFX4F0oyt4y+O1Tz372CZ9c9eKVj3aBtwu9XfBd6PG5bxd4p7ky9HjbAq/AmzPMpnougbfHi5JdI0CAAAECBAgQIECAwIQCAm97gbf7pWknP/9VXzj1J1/7mT/e95QL/3GvNe8eDrfd/X+47y996PUvfMXXu7DbXd7y/Fd94RtPfv87c0fcxZ5P4J1w8rf67QKvwJsquubcjsDb6oplvwkQIECAAAECBAgQIDBaQOBtM/Ce8IJjr47xdrHrIw87YtuaHz/xT4cD8GLRNed9Au/o+e0R8wgIvAJvzjCb6rkE3nkms5sIECBAgAABAgQIECBA4HEBgbe9wNtF2Gv2OuddF/zom//gxINWX3XsIUfetmrl4Tti6H3ZoS/Z+voXvOLa7v7ucTmj7VKeS+C1iC1LQOAVeFNF15zbEXiXNd19EwECBAgQIECAAAECBJoQEHjbDLxLCamlPlbgbWKJSr+TAq/AmzPMpnougTf9WmCLBAgQIECAAAECBAgQ6IuAwCvwlhpwR41L4O3LKpR5PwRegTdVdM25HYE380Lh6QgQIECAAAECBAgQIFCRgMAr8I4KqaXeL/BWtNCUNFSBV+DNGWZTPZfAW9IqYiwECBAgQIAAAQIECBAoS0DgFXhLDbijxiXwlrWWVDMagVfgTRVdc25H4K1miTFQAgQIECBAgAABAgQIZBcQeAXeUSG11PsF3uzLRT+eUOAVeHOG2VTPJfD2Y/2xFwQIECBAgAABAgQIEJiGgMAr8JYacEeNS+CdxorQwDYFXoE3VXTNuR2Bt4HFyS4SIECAAAECBAgQIEBgmQICr8A7KqSWer/Au8xJ3/q3CbwCb84wm+q5BN7WVy77T4AAAQIECBAgQIAAgYUFBF6Bt9SAO2pcAu/C89o9iwgIvAJvquiaczsC7yKT2l0ECBAgQIAAAQIECBBoXCCEcHgIITz8UAi3btzpksDgvnse60i7P6fHwyuE8AvdDY89tH3b9lvv+7bL5AaPfX/7/f/KHI6Pzq4JjBQQeAXenGE21XMJvCOntgcQIECAAAECBAgQIECgWYEYeHeFMldpBYYD7xvTbtrWhgQE3mZXsGXsuMAr8KaKrjm3I/AuY7L7FgIECBAgQIAAAQIECDQiED+iYSiW+TKdwBnxMAohCLzpXPfcksAbDzTXowUEXoE3Z5hN9VwC7+i57REECBAgQIAAAQIECBBoVSC+g/e+ex8JX/3yFpcEBnfc+lAMkMPv4PURDYk/msJHNLS6ak243wKvwJsquubcjsA74cT37QQIECBAgAABAgQIEOixQHwH75X/+65w4N6XuSQw+MSHr4+Bd847eB+99rvrR/3yMPd/6JRxDPyStR4vTNPcNYFX4M0ZZlM9l8A7zVXBtgkQIECAAAECBAgQIFC3gMCbPmoLvOMF2nEi7mKPEXjrXntmNnqBV+BNFV1zbkfgndmS4YkJECBAgAABAgQIECBQvIDAK/AuFlFLvk/gLX55KXOAAq/AmzPMpnougbfM9cSoCBAgQIAAAQIECBAgUIKAwCvwlhxxFxubwFvCClLhGARegTdVdM25HYG3wsXGkAkQIECAAAECBAgQIJBJQOAVeBeLqCXfJ/BmWiT69jQCr8CbM8ymei6Bt28rkf0hQIAAAQIECBAgQIBAOgGBt+3A+80nfeD0D+9/8u+deNDqq15xyE9/d+XKlaG7vOSwwx967Qtfdt2F+5/08e4xJYZegTfdOtDUlgRegTdVdM25HYG3qWXKzhIgQIAAAQIECBAgQGBJAgJvm4H3xsH5b1/z4yf+6ZGHHbEtRt2Frl9xyJG3/8kzTrmgtMgr8C5pqntwFBB4Bd6cYTbVcwm8cQa7JkCAAAECBAgQIECAAIE9BQTeNgPv2n3e+f6jDj3i7i7qHnvIkbed/ewTPvmVp7zvPbcNLjylu3zhqe9976k/+bN/s+rFKx/tHtM99s9++NTfKinyCrx7zmZ/H0tA4BV4U0XXnNsReMea3h5EgAABAgQIECBAgACBJgUE3nYD78sPecldv37AL/z5t5503mkLhdvf/Xe/+J+7j2voIu9rf+rl1/3jXmvevdBjc98u8Da5ZE2+0wKvwJszzKZ6LoF38rlvCwQIECBAgAABAgQIEOirgMDbZuD9zNPfvea/7PcrF3Xv1l0szHb3n77i5/5HF3hXrTx8x8XPeutHF3t8zvsE3r6uSlPeL4FX4E0VXXNuR+Cd8sJg8wQIECBAgAABAgQIEKhYQOBtM/AuJcR2H81w5GGr7usi768897X/cynfO83HCrwVLzyzHLrAK/DmDLOpnkvgneWq4bkJECBAgAABAgQIECBQtoDAK/COirDdZ/Med/BRm7rAe/LzX/WF7he0jfqeHPcLvGWvLcWOTuAVeFNF15zbEXiLXVIMjAABAgQIECBAgAABAjMXEHgF3lExdjjwnnjQ6qsW+8zeUdtKeb/AO/Plo84BCLwCb84wm+q5BN461xujJkCAAAECBAgQIECAQA4BgVfgHRVdP//UX/v1Yw9+6a3dO3h/+Xmv+YdRj891v8CbY4Xo4XMIvAJvquiaczsCbw8XI7tEgAABAgQIECBAgACBRAICr8A7Ksj+8b6nXHjEiw9/uAu8Zz/7hE+Oenyu+wXeRItAa5sReAXenGE21XMJvK2tVPaXAAECBAgQIECAAAEC4wsIvALvYkG2+7zd7herdXH3pYeuuvfPf/i08xZ7fM77BN7x57lHDgkIvAJvquiaczsC79Ak9iUBAgQIECBAgAABAgQIPEFA4BV4F4uyf7Tvf/ydlxx2+ENd4D3pwOPWlfL5u92YBd4nTGV/GVcg7Pqzft264DK5wYZvfjOSXhJ/BiGEfbsb77/3sfDpj213SWDwtS/uiM4XRWfXBAgQIECAAAECBAgQIECgExB4Bd6FAu9lTz/j3OMOPuo7Xdw9+pCfvvPSfU7/wEKPncXtAq81bFkC3Tt4YylznVTg0vgDCSHsl3TLNjYsIPDGA801AQIECBAgQIAAAQIECDwuIPAKvPPF2S7mxrjbvYP3wv1P+vhtgwtPme+xs7pN4LWILUsghHBjCOEml+QGn4o/kBDC/nyT+8Zj9qPR2TUBAgQIECBAgAABAgQIEOgEBF6BdzjQ3jL47VMv/LH/8PEjDztiW/fO3S7ufvDH3vSJ0uJuN2aB1xq2LAHv4B1+M2jSr72DNynnghvzDt5lzXzfRIAAAQIECBAgQIAAgf4KCLwCbwy8V+119llvfv5x/2fVysN3dHH3qEOPuPv3n/m2j5QYdwXe/q5JU9+zmM2u37AhuExucNstt0TS4cD7zO7G7z/4WLjysztcEhhs2rAzOgu8U18lPAEBAgQIECBAgAABAgTqEhB4Bd4ulv7JM0654BWHHHl7F3a7y/EvOvr/fu5p73lfjL8lXnsHb11rTTGj7d7Bu3PnznD52rUuCQyuWr8+hsfhwPv4Z/Dec9dj4eKzHnFJYHDFX26PzgJvMauJgRAgQIAAAQIECBAgQKAMAYG37cDbfSTD2c8+4ZOrXrzy0S7sdtdnrnj9X33rSeedVmLUHR6TwFvGGlLdKATetGFb4M0TsAXe6pYaAyZAgAABAgQIECBAgEA2AYG33cB74+D8t5+54uf+qpaPZBiOu93XAm+2ZaJfTyTwCrw1vqtY4O3XOmRvCBAgQIAAAQIECBAgkFJA4G0z8Hafq/v4O3d3fd7uq3/qqI1/+7R3/6c9I2rJfxd4U64EDW1L4BV4Bd6GJrxdJUCAAAECBAgQIECAQAMCAm+bgXftPu98f/dL1LqPZTj6kJ++89J9Tv9AyTF3vrEJvA0sUNPYRYFX4BV4pzGzbJMAAQIECBAgQIAAAQIEZiUg8LYXeLt3775jxev++vHP3F15+I4P73/y780XUEu/TeCd1apR+fMKvAKvwFv5JDZ8AgQIECBAgAABAgQIEHiCgMDbXuC9Zq9z3vXaF718Qxd4Vx985E1ffspv/GrpMXe+8Qm8T5jK/jKugMAr8Aq8484WjyNAgAABAgQIECBAgACBGgQE3vYCb/dZu0cf8pI7usB7wguOvfq6J//mGfMF1NJvE3hrWGEKHKPAK/AKvAVOTEMiQIAAAQIECBAgQIAAgWULCLztBd7hz9/tIu9SL7//zLd9pIT4K/Aue9q3/Y0Cr8Ar8La9Bth7AgQIECBAgAABAgQI9E1A4BV4Bd6+zWr7s6iAwCvwCryLThF3EiBAgAABAgQIECBAgEBlAgJve4G3hHffphiDd/BWttiUMlyBV+AVeEuZjcZBgAABAgQIECBAgAABAikEBF6BN0VsncU2BN4UK0CD2xB4BV6Bt8GJb5cJECBAgAABAgQIECDQYwGBV+CdRZxN8ZwCb48XpmnumsAr8Aq805xhtk2AAAECBAgQIECAAAECuQUEXoE3RWydxTYE3tyrRU+eT+AVeAXenkxmu0GAAAECBAgQIECAAAECjwsIvALvLOJsiucUeC1iyxIQeAVegXdZU8c3ESBAgAABAgQIECBAgEChAgKvwJsits5iGwJvoYtK6cMSeAVegbf0WWp8BAgQIECAAAECBAgQILAUAYFX4J1FnE3xnALvUma6x+4WEHgFXoF393TwBQECBAgQIECAAAECBAj0QEDgFXhTxNZZbEPg7cECNItdEHgFXoF3FjPPcxIgQIAAAQIECBAgQIDAtARCCIeHEMKt33kwfPyCDS4JDK65cmtH2v05I/7cQggndDfsvOuhW37w2U1/6zK5wc6tD23+V+ZwfHR2TWCkgMAr8Aq8I6eJBxAgQIAAAQIECBAgQIBARQLxHby7QpmrtALDgfeNaTdta0MCAm9Fa87MhyrwCrwC78ynoQEQIECAAAECBAgQIECAQEKBEMLTQgjHuEzFYP/4owoh/AjjqRh3x+4zorNrAiMFBF6BV+AdOU08gAABAgQIECBAgAABAgQIECBAgECZAgKvwCvwljk3jYoAAQIECBAgQIAAAQIECBAgQIDASAGBV+AVeEdOEw8gQIAAAQIECBAgQIAAAQIECBAgUKaAwCvwCrxlzk2jIkCAAAECBAgQIECAAAECBAgQIDBSQOAVeAXekdPEAwgQIECAAAECBAgQIECAAAECBAiUKSDwCrwCb5lz06gIECBAgAABAgQIECBAgAABAgQIjBQQeAVegXfkNPEAAgQIECBAgAABAgQIECBAgAABAmUKCLwCr8Bb5tw0KgIECBAgQIAAAQIECBAgQIAAAQIjBQRegVfgHTlNPIAAAQIECBAgQIAAAQIECBAgQIBAmQICr8Ar8JY5N42KAAECBAgQIECAAAECBAgQIECAwEgBgVfgFXhHThMPIECAAAECBAgQIECAAAECBAgQIFCmgMAr8Aq8Zc5NoyJAgAABAgQIECBAgAABAgQIECAwUkDgFXgF3pHTxAMIECBAgAABAgQIECBAgAABAgQIlCkg8Aq8Am+Zc9OoCBAgQIAAAQIECBAgQIAAAQIECIwUEHgFXoF35DTxAAIECBAgQIAAAQIECBAgQIAAAQJlCgi8Aq/AW+bcNCoCBAgQIECAAAECBAgQIECAAAECIwUEXoFX4B05TTyAAAECBAgQIECAAAECBAgQIECAQJkCAq/AK/CWOTeNigABAgQIjBIIITw7hHCMy1QM9h7l734CBAgQIECAAAECRQgIvAKvwFvEVDQIAgQIECCwZIEQwprgz7QEDljyD8Q3ECBAgAABAgQIEJiFQBd4p3VW3Ph2L40/zxDCfo1bTHP3L4rOrgkQIECAQGsCMfDe/J27wpVf+heXBAYPPvBwPG8ReFubUPaXAAECBAgQIFCrQAjh0XgW6zqpwN/FY0LgTeq658b+a3R2TYAAAQIEWhMIIZzb/YfxvLP/Iuz7Qye5JDD4p2s2xXONFa0dT/aXAAECBAgQIECgUgHv4I3n8MmvvYM3Oem8G/QO3krXHsMmQIAAgckFBN70UVvgnfy4tAUCBAgQIECAAIHMAjGZbd2yJbhMbnDftm2R9JL4owwh7Nvd+PD3d4SvfnmLSwKDmzc+EJ0F3niguSZAgACB5gQEXoG3uYPeDhMgQIAAAQIECMwV8EvW8v2StZtueCAcuPdlLgkMPnjm1wXeudPZLQQIECDQmIDAK/A2dsjbXQIECBAgQIAAgfkEBF6Bt8boLPDON5vdRoAAAQKtCQi8Am9rx7z9JUCAxO0L3QAAE0xJREFUAAECBAgQmEdA4BV4Bd55JoabCBAgQIBABQICr8BbwWFqiAQIECBAgAABAtMWEHgFXoF32rPM9gkQIECAwHQEBF6BdzpHlq0SIECAAAECBAhUJSDwCrwCb1VT1mAJECBAgMBuAYFX4N19MPiCAAECBAgQIECgXQGBV+AVeNud//acAAECBOoWEHgF3rqPYKMnQIAAAQIECBBIIiDwCrwCb5KpZCMECBAgQCC7gMAr8GY/6DwhAQIECBAgQIBAeQICr8Ar8JY3L42IAAECBAiMIyDwCrzjHCceQ4AAAQIECBAg0HMBgVfgFXh7PsntHgECBAj0VkDgFXh7e3DbMQIECBAgQIAAgfEFBF6BV+Adf754JAECBAgQKElA4BV4SzoejYUAAQIECBAgQGBGAgKvwCvwzmjyeVoCBAgQIDChgMAr8E54CPl2AgQIECBAgACBPggIvAKvwNuHmWwfCBAgQKBFAYFX4G3xuLfPBAgQIECAAAECewgIvAKvwLvHpPBXAgQIECBQiYDAK/BWcqgaJgECBAgQIECAwDQFBF6BV+Cd5gyzbQIECBAgMD0BgVfgnd7RZcsECBAgQIAAAQLVCAi8Aq/AW810NVACBAgQIPAEAYFX4H3CAeEvBAgQIECAAAECbQoIvAKvwNvm3LfXBAgQIFC/gMAr8NZ/FNsDAgQIECBAgACBiQUEXoFX4J14GtkAAQIECBCYiYDAK/DO5MDzpAQIECBAgAABAmUJCLwCr8Bb1pw0GgIECBAgMK6AwCvwjnuseBwBAgQIECBAgECPBQRegVfg7fEEt2sECBAg0GsBgVfg7fUBbucIECBAgAABAgTGExB4BV6Bd7y54lEECBAgQKA0AYFX4C3tmDQeAgQIECBAgACBGQgIvAKvwDuDiecpCRAgQIBAAgGBV+BNcBjZBAECBAgQIECAQO0CAq/AK/DWPouNnwABAgRaFRB4Bd5Wj337TYAAAQIECBAgMCQg8Aq8Au/QhPAlAQIECBCoSEDgFXgrOlwNlQABAgQIECBAYFoCAq/AK/BOa3bZLgECBAgQmK6AwCvwTvcIs3UCBAgQIECAAIEqBARegVfgrWKqGiQBAgQIEJgjIPAKvHMOCjcQIECAAAECBAi0JyDwCrwCb3vz3h4TIECAQD8EBF6Btx9Hsr0gQIAAAQIECBCYSEDgFXgF3ommkG8mQIAAAQIzExB4Bd6ZHXyemAABAgQIECBAoBwBgVfgFXjLmY9GQoAAAQIEliIg8Aq8SzlePJYAAQIECBAgQKCnAgKvwCvw9nRy2y0CBAgQ6L2AwCvw9v4gt4MECBAgQIAAAQKjBQRegVfgHT1PPIIAAQIECJQoIPAKvCUel8ZEgAABAgQIECCQWUDgFXgF3syTztMRIECAAIFEAgKvwJvoULIZAgQIECBAgACBmgUEXoFX4K15Bhs7AQIECLQsIPAKvC0f//adAAECBAgQIEBgl4DAK/AKvJYDAgQIECBQp4DAK/DWeeQaNQECBAgQIECAQFIBgVfgFXiTTikbI0CAAAEC2QQEXoE328HmiQgQIECAAAECBMoVEHgFXoG33PlpZAQIECBAYDEBgVfgXez4cB8BAgQIECBAgEAjAgKvwCvwNjLZ7SYBAgQI9E5A4BV4e3dQ2yECBAgQIECAAIGlCwi8Aq/Au/R54zsIECBAgEAJAiGENSGEcPN37gpXfulfXBIYPPjAwx1p9+eAEn7GxkCAAAECBAgQIEBgpIDAK/AKvCOniQcQIECAAIEiBWLg3RUkXaUVEHiLPOoNigABAgQIECBAYI6AwCvwCrxzpoUbCBAgQIAAAQIECBAgQIAAAQIECNQhEN/osHXLluAyucF927ZF0kviERBC2Le78eHv7whf/fIWlwQGN298IDpfFJ1dEyBAgAABAgQIECBAgAABAgQIEGhOoHsHbyxlrpMKXBoPphDCfkm3bGPDAgJvPNBcEyBAgAABAgQIECBAgAABAgQItCcQQjg6hHCMS3KDg4aPJr7JfeMx+5xhZ18TIECAQBkCIYSDQwjnuUzFYPdnw4YQXs54Ksbdsftvy5hNRkGAAAECBAgQIECAAAECBAgQIEAgs0AI4a3D/7uFr5MKrI4/Tr9kLanrnhvbHdKjt2sCBAgQIECAAAECBAgQIECAAAECTQiEEN7S1bLbN28O69etc0lgcPfWrTFAHhsPohh4P/VHm8LbXv0llwQGN92w+3P+Bd54oLkmQIAAAQIECBAgQIAAAQIECBBoSyC+g3fTxo3h8rVrXRIY3LF5cwy8w+/gPbe78SNr/jkcuPdlLgkMrrv2nui8oq1Za28JECBAgAABAgQIECBAgAABAgQI7BIQeNNHbYE3T8AWeC1jBAgQIECAAAECBAgQIECAAAECzQsIvAJvre8oFnibX74AECBAgAABAgQIECBAgAABAgQICLwCr8BrHSBAgAABAgQIECBAgAABAgQIECBQqYDAK/AKvJVOXsMmQIAAAQIECBAgQIAAAQIECBAgIPAKvAKvdYAAAQIECBAgQIAAAQIECBAgQIBApQICr8Ar8FY6eQ2bAAECBAgQIECAAAECBAgQIECAgMAr8Aq81gECBAgQIECAAAECBAgQIECAAAEClQoIvAKvwFvp5DVsAgQIECBAgAABAgQIECBAgAABAgKvwCvwWgcIECBAgAABAgQIECBAgAABAgQIVCog8Aq8Am+lk9ewCRAgQIAAAQIECBAgQIAAAQIECAi8Aq/Aax0gQIAAAQIECBAgQIAAAQIECBAgUKmAwCvwCryVTl7DJkCAAAECBAgQIECAAAECBAgQICDwCrwCr3WAAAECBAgQIECAAAECBAgQIECAQKUCAq/AK/BWOnkNmwABAgQIECBAgAABAgQIECBAgIDAK/AKvNYBAgQIECBAgAABAgQIECBAgAABApUKCLwCr8Bb6eQ1bAIECBAgQIAAAQIECBAgQIAAAQICr8Ar8FoHCBAgQIAAAQIECBAgQIAAAQIECFQqIPAKvAJvpZPXsAkQIECAAAECBAgQIECAAAECBAgIvAKvwGsdIECAAAECBAgQIECAAAECBAgQIFCpgMAr8Aq8lU5ewyZAgAABAgQIECBAgAABAgQIECAg8Aq8Aq91gAABAgQIECBAgAABAgQIECBAgEClAgKvwCvwVjp5DZsAAQIECBAgQIAAAQIECBAgQICAwCvwCrzWAQIECBAgQIAAAQIECBAgQIAAAQKVCgi8Aq/AW+nkNWwCBAgQIECAAAECBAgQIECAAAECAq/AK/BaBwgQIECAAAECBAgQIECAAAECBAhUKiDwCrwCb6WT17AJECBAgAABAgQIECBAgAABAgQICLwCr8BrHSBAgAABAgQIECBAgAABAgQIECBQqYDAK/AKvJVOXsMmQIAAAQIECBAgQIAAAQIECBAgIPAKvAKvdYAAAQIECBAgQIAAAQIECBAgQIBApQICr8Ar8FY6eQ2bAAECBAgQIECAAAECBAgQIECAgMAr8Aq81gECBAgQIECAAAECBAgQIECAAAEClQoIvAKvwFvp5DVsAgQIECBAgAABAgQIECBAgAABAgKvwCvwWgcIECBAgAABAgQIECBAgAABAgQIVCog8Aq8Am+lk9ewCRAgQIAAAQIECBAgQIAAAQIECAi8Aq/Aax0gQIAAAQIECBAgQIAAAQIECBAgUKmAwCvwCryVTl7DJkCAAAECBAgQIECAAAECBAgQICDwCrwCr3WAAAECBAgQIECAAAECBAgQIECAQKUCIYS3hBDC7Zs3h/Xr1rkkMLh769aOtPtzbDwsQghruhs+9Uebwtte/SWXBAY33fDAvyqHcEB0dk2AAAECBAgQIECAAAECBAgQIECgKYH4Dt5YylwnFVgdD6YYeJNu3caigMAbDzTXBAgQIECAAAECBAgQIECAAAECbQmEEN4RQrjJZSoGx8ejKYRwPuOpGHfH7oHR2TUBAgQIECBAgAABAgQIECBAgACBpgS8gze+CXQq18Pv4D1nKs9go53Ac5qatHaWAAECBAgQIECAAAECBAgQIECAQBSIn8F7z/e+F67fsMElgcH9998fs+ucwHvlF+4MH79gg0sCgy3ffTg6C7xxQrsmQIAAAQIECBAgQIAAAQIECBBoSyC+g3fTxo3h8rVrXRIY3LF5cwyPw4H33O7Gj6z553Dg3pe5JDC47tp7ovOKtmatvSVAgAABAgQIECBAgAABAgQIECCwS0DgTR+1Bd48AVvgtYwRIECAAAECBAgQIECAAAECBAg0LyDwCry1vqNY4G1++QJAgAABAgQIECBAgAABAgQIECAg8Aq8Aq91gAABAgQIECBAgAABAgQIECBAgEClAgKvwCvwVjp5DZsAAQIECBAgQIAAAQIECBAgQICAwCvwCrzWAQIECBAgQIAAAQIECBAgQIAAAQKVCgi8Aq/AW+nkNWwCBAgQIECAAAECBAgQIECAAAECAq/AK/BaBwgQIECAAAECBAgQIECAAAECBAhUKiDwCrwCb6WT17AJECBAgAABAgQIECBAgAABAgQICLwCr8BrHSBAgAABAgQIECBAgAABAgQIECBQqYDAK/AKvJVOXsMmQIAAAQIECBAgQIAAAQIECBAgIPAKvAKvdYAAAQIECBAgQIAAAQIECBAgQIBApQICr8Ar8FY6eQ2bAAECBAgQIECAAAECBAgQIECAgMAr8Aq81gECBAgQIECAAAECBAgQIECAAAEClQoIvAKvwFvp5DVsAgQIECBAgAABAgQIECBAgAABAgKvwCvwWgcIECBAgAABAgQIECBAgAABAgQIVCog8Aq8Am+lk9ewCRAgQIAAAQIECBAgQIAAAQIECAi8Aq/Aax0gQIAAAQIECBAgQIAAAQIECBAgUKmAwCvwCryVTl7DJkCAAAECBAgQIECAAAECBAgQICDwCrwCr3WAAAECBAgQIECAAAECBAgQIECAQKUCAq/AK/BWOnkNmwABAgQIECBAgAABAgQIECBAgIDAK/AKvNYBAgQIECBAgAABAgQIECBAgAABApUKCLwCr8Bb6eQ1bAIECBAgQIAAAQIECBAgQIAAAQICr8Ar8FoHCBAgQIAAAQIECBAgQIAAAQIECFQqIPAKvAJvpZPXsAkQIECAAAECBAgQIECAAAECBAgIvAKvwGsdIECAAAECBAgQIECAAAECBAgQIFCpgMAr8Aq8lU5ewyZAgAABAgQIECBAgAABAgQIECAg8Aq8Aq91gAABAgQIECBAgAABAgQIECBAgEClAgKvwCvwVjp5DZsAAQIECBAgQIAAAQIECBAgQICAwCvwCrzWAQIECBAgQIAAAQIECBAgQIAAAQKVCgi8Aq/AW+nkNWwCBAgQIECAAAECBAgQIECAAAECAq/AK/BaBwgQIECAAAECBAgQIECAAAECBAhUKiDwCrwCb6WT17AJECBAgAABAgQIECBAgAABAgQICLwCr8BrHSBAgAABAgQIECBAgAABAgQIECBQqYDAK/AKvJVOXsMmQIAAAQIECBAgQIAAAQIECBAgIPAKvAKvdYAAAQIECBAgQIAAAQIECBAgQIBApQICr8Ar8FY6eQ2bAAECBAgQIECAAAECBAgQIECAgMAr8Aq81gECBAgQIECAAAECBAgQIECAAAEClQoIvAKvwFvp5DVsAgQIECBAgAABAgQIECBAgAABAjHwBn+mIbA6HmEhhHOn8QS2+bjAiujsmgABAgQIECBAgAABAgQIECBAgEBTAgLvVBOpwDtV3t0bF3ibWrXsLAECBAgQIECAAAECBAgQIECAAAECBAgQIECAAAECBAgQIECAAAECBAgQIECAAAECBAgQIECAAAECBAgQIECAAAECBAgQIECAAAECBAgQIECAAAECBAgQIECAAAECBAgQIECAAAECBAgQIECAAAECBAgQIECAAAECBAgQIECAAAECBAgQIECAAAECBAgQIECAAAECBAgQIECAAAECBAgQIECAAAECBAgQIECAAAECBAgQIECAAAECBAgQIECAAAECBAgQIECAAAECBAgQIECAAAECBAgQIECAAAECBAgQIECAAAECBAgQIECAAAECBAgQIECAAAECBAgQIECAAAECBAgQIECAAAECBAgQIECAAAECBAgQIECAAAECBAgQIECAAAECBAgQIECAAAECBAgQIECAAAECBAgQIECAAAECBAgQIECAAAECBAgQIECAAAECBAgQIECAAAECBAgQIECAAAECBAgQIECAAAECBAgQIECAAAECBAgQIECAAAECBAgQIECAAAECBAgQIECAAAECBAgQIECAAAECBAgQIECAAAECBAgQIECAAAECBAgQIECAAAECBAgQIECAAAECBAgQIECAAAECBAgQIECAAAECBAgQIECAAAECBAgQIECAAAECBAgQIECAAAECBAgQIECAAAECBAgQIECAAAECBAgQIECAAAECBAgQIECAAAECBAgQIECAAAECBAgQIECAAAECBAgQIECAAAECBAgQIECAAAECBAgQIECAAAECBAgQIECAAAECBAgQIECAAAECBAgQIECgHoH/B9l2vuPiM2m6AAAAAElFTkSuQmCC)"
      ]
    },
    {
      "cell_type": "code",
      "metadata": {
        "colab": {
          "base_uri": "https://localhost:8080/"
        },
        "id": "oEdE78m7jxpv",
        "outputId": "9521eef6-c677-4644-e7bf-3fb4a483680b"
      },
      "source": [
        "df[\"Pclass\"].value_counts()"
      ],
      "execution_count": 17,
      "outputs": [
        {
          "output_type": "execute_result",
          "data": {
            "text/plain": [
              "3    491\n",
              "1    216\n",
              "2    184\n",
              "Name: Pclass, dtype: int64"
            ]
          },
          "metadata": {
            "tags": []
          },
          "execution_count": 17
        }
      ]
    },
    {
      "cell_type": "code",
      "metadata": {
        "colab": {
          "base_uri": "https://localhost:8080/"
        },
        "id": "-HdsOSVFkbzY",
        "outputId": "66a9bdad-62c4-48ee-f91c-49e0aba98227"
      },
      "source": [
        "df[\"Sex\"].value_counts()"
      ],
      "execution_count": 18,
      "outputs": [
        {
          "output_type": "execute_result",
          "data": {
            "text/plain": [
              "male      577\n",
              "female    314\n",
              "Name: Sex, dtype: int64"
            ]
          },
          "metadata": {
            "tags": []
          },
          "execution_count": 18
        }
      ]
    },
    {
      "cell_type": "code",
      "metadata": {
        "colab": {
          "base_uri": "https://localhost:8080/"
        },
        "id": "DxHNBnJukdmI",
        "outputId": "f3f1e805-9e38-4ed7-c97b-b9171d1e97c7"
      },
      "source": [
        "df.groupby(\"Pclass\")[\"Pclass\"].count()"
      ],
      "execution_count": 19,
      "outputs": [
        {
          "output_type": "execute_result",
          "data": {
            "text/plain": [
              "Pclass\n",
              "1    216\n",
              "2    184\n",
              "3    491\n",
              "Name: Pclass, dtype: int64"
            ]
          },
          "metadata": {
            "tags": []
          },
          "execution_count": 19
        }
      ]
    },
    {
      "cell_type": "markdown",
      "metadata": {
        "id": "Rj8sC6mrk-HY"
      },
      "source": [
        "##How to reshape the layout of tables?"
      ]
    },
    {
      "cell_type": "markdown",
      "metadata": {
        "id": "qTwAuur-lDb4"
      },
      "source": [
        "###Sort table rows"
      ]
    },
    {
      "cell_type": "code",
      "metadata": {
        "colab": {
          "base_uri": "https://localhost:8080/",
          "height": 262
        },
        "id": "eE5q1b_dk77Y",
        "outputId": "ccb74e41-1074-462c-84f0-d78822a928f9"
      },
      "source": [
        "#리스트.sort()  - 리스트 안에 값을 변경하여 정렬\n",
        "#sorted(리스트) - 리스트 안에 값을 변경하지 않고 return 값만 정렬. 즉 원본을 만지냐 못만지느냐의 차이\n",
        "\n",
        "df.sort_values(by=\"Age\").head()   # 리스트의 원본을 변경하지 앟고 정렬, 오름차순\n",
        "df.sort_values(by=['Pclass', 'Age'], ascending=False).head()   # ascendign 오름차순인지 아닌지, false면 내림차순, true면 오름차순\n"
      ],
      "execution_count": 24,
      "outputs": [
        {
          "output_type": "execute_result",
          "data": {
            "text/html": [
              "<div>\n",
              "<style scoped>\n",
              "    .dataframe tbody tr th:only-of-type {\n",
              "        vertical-align: middle;\n",
              "    }\n",
              "\n",
              "    .dataframe tbody tr th {\n",
              "        vertical-align: top;\n",
              "    }\n",
              "\n",
              "    .dataframe thead th {\n",
              "        text-align: right;\n",
              "    }\n",
              "</style>\n",
              "<table border=\"1\" class=\"dataframe\">\n",
              "  <thead>\n",
              "    <tr style=\"text-align: right;\">\n",
              "      <th></th>\n",
              "      <th>PassengerId</th>\n",
              "      <th>Survived</th>\n",
              "      <th>Pclass</th>\n",
              "      <th>Name</th>\n",
              "      <th>Sex</th>\n",
              "      <th>Age</th>\n",
              "      <th>SibSp</th>\n",
              "      <th>Parch</th>\n",
              "      <th>Ticket</th>\n",
              "      <th>Fare</th>\n",
              "      <th>Cabin</th>\n",
              "      <th>Embarked</th>\n",
              "    </tr>\n",
              "  </thead>\n",
              "  <tbody>\n",
              "    <tr>\n",
              "      <th>851</th>\n",
              "      <td>852</td>\n",
              "      <td>0</td>\n",
              "      <td>3</td>\n",
              "      <td>Svensson, Mr. Johan</td>\n",
              "      <td>male</td>\n",
              "      <td>74.0</td>\n",
              "      <td>0</td>\n",
              "      <td>0</td>\n",
              "      <td>347060</td>\n",
              "      <td>7.7750</td>\n",
              "      <td>NaN</td>\n",
              "      <td>S</td>\n",
              "    </tr>\n",
              "    <tr>\n",
              "      <th>116</th>\n",
              "      <td>117</td>\n",
              "      <td>0</td>\n",
              "      <td>3</td>\n",
              "      <td>Connors, Mr. Patrick</td>\n",
              "      <td>male</td>\n",
              "      <td>70.5</td>\n",
              "      <td>0</td>\n",
              "      <td>0</td>\n",
              "      <td>370369</td>\n",
              "      <td>7.7500</td>\n",
              "      <td>NaN</td>\n",
              "      <td>Q</td>\n",
              "    </tr>\n",
              "    <tr>\n",
              "      <th>280</th>\n",
              "      <td>281</td>\n",
              "      <td>0</td>\n",
              "      <td>3</td>\n",
              "      <td>Duane, Mr. Frank</td>\n",
              "      <td>male</td>\n",
              "      <td>65.0</td>\n",
              "      <td>0</td>\n",
              "      <td>0</td>\n",
              "      <td>336439</td>\n",
              "      <td>7.7500</td>\n",
              "      <td>NaN</td>\n",
              "      <td>Q</td>\n",
              "    </tr>\n",
              "    <tr>\n",
              "      <th>483</th>\n",
              "      <td>484</td>\n",
              "      <td>1</td>\n",
              "      <td>3</td>\n",
              "      <td>Turkula, Mrs. (Hedwig)</td>\n",
              "      <td>female</td>\n",
              "      <td>63.0</td>\n",
              "      <td>0</td>\n",
              "      <td>0</td>\n",
              "      <td>4134</td>\n",
              "      <td>9.5875</td>\n",
              "      <td>NaN</td>\n",
              "      <td>S</td>\n",
              "    </tr>\n",
              "    <tr>\n",
              "      <th>326</th>\n",
              "      <td>327</td>\n",
              "      <td>0</td>\n",
              "      <td>3</td>\n",
              "      <td>Nysveen, Mr. Johan Hansen</td>\n",
              "      <td>male</td>\n",
              "      <td>61.0</td>\n",
              "      <td>0</td>\n",
              "      <td>0</td>\n",
              "      <td>345364</td>\n",
              "      <td>6.2375</td>\n",
              "      <td>NaN</td>\n",
              "      <td>S</td>\n",
              "    </tr>\n",
              "  </tbody>\n",
              "</table>\n",
              "</div>"
            ],
            "text/plain": [
              "     PassengerId  Survived  Pclass  ...    Fare Cabin  Embarked\n",
              "851          852         0       3  ...  7.7750   NaN         S\n",
              "116          117         0       3  ...  7.7500   NaN         Q\n",
              "280          281         0       3  ...  7.7500   NaN         Q\n",
              "483          484         1       3  ...  9.5875   NaN         S\n",
              "326          327         0       3  ...  6.2375   NaN         S\n",
              "\n",
              "[5 rows x 12 columns]"
            ]
          },
          "metadata": {
            "tags": []
          },
          "execution_count": 24
        }
      ]
    },
    {
      "cell_type": "markdown",
      "metadata": {
        "id": "f4HOh2bImhdQ"
      },
      "source": [
        "###Long to wide table format"
      ]
    },
    {
      "cell_type": "code",
      "metadata": {
        "colab": {
          "base_uri": "https://localhost:8080/",
          "height": 380
        },
        "id": "FRVl0GyrmgAw",
        "outputId": "da47105f-b202-45a4-bbcd-f8b2a585a10e"
      },
      "source": [
        "여성 = df[df[\"Sex\"] == \"female\"]\n",
        "여성.head()"
      ],
      "execution_count": 26,
      "outputs": [
        {
          "output_type": "execute_result",
          "data": {
            "text/html": [
              "<div>\n",
              "<style scoped>\n",
              "    .dataframe tbody tr th:only-of-type {\n",
              "        vertical-align: middle;\n",
              "    }\n",
              "\n",
              "    .dataframe tbody tr th {\n",
              "        vertical-align: top;\n",
              "    }\n",
              "\n",
              "    .dataframe thead th {\n",
              "        text-align: right;\n",
              "    }\n",
              "</style>\n",
              "<table border=\"1\" class=\"dataframe\">\n",
              "  <thead>\n",
              "    <tr style=\"text-align: right;\">\n",
              "      <th></th>\n",
              "      <th>PassengerId</th>\n",
              "      <th>Survived</th>\n",
              "      <th>Pclass</th>\n",
              "      <th>Name</th>\n",
              "      <th>Sex</th>\n",
              "      <th>Age</th>\n",
              "      <th>SibSp</th>\n",
              "      <th>Parch</th>\n",
              "      <th>Ticket</th>\n",
              "      <th>Fare</th>\n",
              "      <th>Cabin</th>\n",
              "      <th>Embarked</th>\n",
              "    </tr>\n",
              "  </thead>\n",
              "  <tbody>\n",
              "    <tr>\n",
              "      <th>1</th>\n",
              "      <td>2</td>\n",
              "      <td>1</td>\n",
              "      <td>1</td>\n",
              "      <td>Cumings, Mrs. John Bradley (Florence Briggs Th...</td>\n",
              "      <td>female</td>\n",
              "      <td>38.0</td>\n",
              "      <td>1</td>\n",
              "      <td>0</td>\n",
              "      <td>PC 17599</td>\n",
              "      <td>71.2833</td>\n",
              "      <td>C85</td>\n",
              "      <td>C</td>\n",
              "    </tr>\n",
              "    <tr>\n",
              "      <th>2</th>\n",
              "      <td>3</td>\n",
              "      <td>1</td>\n",
              "      <td>3</td>\n",
              "      <td>Heikkinen, Miss. Laina</td>\n",
              "      <td>female</td>\n",
              "      <td>26.0</td>\n",
              "      <td>0</td>\n",
              "      <td>0</td>\n",
              "      <td>STON/O2. 3101282</td>\n",
              "      <td>7.9250</td>\n",
              "      <td>NaN</td>\n",
              "      <td>S</td>\n",
              "    </tr>\n",
              "    <tr>\n",
              "      <th>3</th>\n",
              "      <td>4</td>\n",
              "      <td>1</td>\n",
              "      <td>1</td>\n",
              "      <td>Futrelle, Mrs. Jacques Heath (Lily May Peel)</td>\n",
              "      <td>female</td>\n",
              "      <td>35.0</td>\n",
              "      <td>1</td>\n",
              "      <td>0</td>\n",
              "      <td>113803</td>\n",
              "      <td>53.1000</td>\n",
              "      <td>C123</td>\n",
              "      <td>S</td>\n",
              "    </tr>\n",
              "    <tr>\n",
              "      <th>8</th>\n",
              "      <td>9</td>\n",
              "      <td>1</td>\n",
              "      <td>3</td>\n",
              "      <td>Johnson, Mrs. Oscar W (Elisabeth Vilhelmina Berg)</td>\n",
              "      <td>female</td>\n",
              "      <td>27.0</td>\n",
              "      <td>0</td>\n",
              "      <td>2</td>\n",
              "      <td>347742</td>\n",
              "      <td>11.1333</td>\n",
              "      <td>NaN</td>\n",
              "      <td>S</td>\n",
              "    </tr>\n",
              "    <tr>\n",
              "      <th>9</th>\n",
              "      <td>10</td>\n",
              "      <td>1</td>\n",
              "      <td>2</td>\n",
              "      <td>Nasser, Mrs. Nicholas (Adele Achem)</td>\n",
              "      <td>female</td>\n",
              "      <td>14.0</td>\n",
              "      <td>1</td>\n",
              "      <td>0</td>\n",
              "      <td>237736</td>\n",
              "      <td>30.0708</td>\n",
              "      <td>NaN</td>\n",
              "      <td>C</td>\n",
              "    </tr>\n",
              "  </tbody>\n",
              "</table>\n",
              "</div>"
            ],
            "text/plain": [
              "   PassengerId  Survived  Pclass  ...     Fare Cabin  Embarked\n",
              "1            2         1       1  ...  71.2833   C85         C\n",
              "2            3         1       3  ...   7.9250   NaN         S\n",
              "3            4         1       1  ...  53.1000  C123         S\n",
              "8            9         1       3  ...  11.1333   NaN         S\n",
              "9           10         1       2  ...  30.0708   NaN         C\n",
              "\n",
              "[5 rows x 12 columns]"
            ]
          },
          "metadata": {
            "tags": []
          },
          "execution_count": 26
        }
      ]
    },
    {
      "cell_type": "code",
      "metadata": {
        "colab": {
          "base_uri": "https://localhost:8080/",
          "height": 906
        },
        "id": "ndPKdFMRnH1w",
        "outputId": "60b94077-d685-4b9f-df38-4132c519dfbe"
      },
      "source": [
        "# 정렬하는 방법은 Sort_values와 sort_index가 있습니다.\n",
        "\n",
        "여성.sort_index().groupby([\"Age\"]).head(5)\n",
        "여성.sort_index(ascending=False).groupby([\"Age\"]).head(5)\n",
        "\n",
        "여성[::-1]\n",
        "여성[:]"
      ],
      "execution_count": 37,
      "outputs": [
        {
          "output_type": "execute_result",
          "data": {
            "text/html": [
              "<div>\n",
              "<style scoped>\n",
              "    .dataframe tbody tr th:only-of-type {\n",
              "        vertical-align: middle;\n",
              "    }\n",
              "\n",
              "    .dataframe tbody tr th {\n",
              "        vertical-align: top;\n",
              "    }\n",
              "\n",
              "    .dataframe thead th {\n",
              "        text-align: right;\n",
              "    }\n",
              "</style>\n",
              "<table border=\"1\" class=\"dataframe\">\n",
              "  <thead>\n",
              "    <tr style=\"text-align: right;\">\n",
              "      <th></th>\n",
              "      <th>PassengerId</th>\n",
              "      <th>Survived</th>\n",
              "      <th>Pclass</th>\n",
              "      <th>Name</th>\n",
              "      <th>Sex</th>\n",
              "      <th>Age</th>\n",
              "      <th>SibSp</th>\n",
              "      <th>Parch</th>\n",
              "      <th>Ticket</th>\n",
              "      <th>Fare</th>\n",
              "      <th>Cabin</th>\n",
              "      <th>Embarked</th>\n",
              "    </tr>\n",
              "  </thead>\n",
              "  <tbody>\n",
              "    <tr>\n",
              "      <th>1</th>\n",
              "      <td>2</td>\n",
              "      <td>1</td>\n",
              "      <td>1</td>\n",
              "      <td>Cumings, Mrs. John Bradley (Florence Briggs Th...</td>\n",
              "      <td>female</td>\n",
              "      <td>38.0</td>\n",
              "      <td>1</td>\n",
              "      <td>0</td>\n",
              "      <td>PC 17599</td>\n",
              "      <td>71.2833</td>\n",
              "      <td>C85</td>\n",
              "      <td>C</td>\n",
              "    </tr>\n",
              "    <tr>\n",
              "      <th>2</th>\n",
              "      <td>3</td>\n",
              "      <td>1</td>\n",
              "      <td>3</td>\n",
              "      <td>Heikkinen, Miss. Laina</td>\n",
              "      <td>female</td>\n",
              "      <td>26.0</td>\n",
              "      <td>0</td>\n",
              "      <td>0</td>\n",
              "      <td>STON/O2. 3101282</td>\n",
              "      <td>7.9250</td>\n",
              "      <td>NaN</td>\n",
              "      <td>S</td>\n",
              "    </tr>\n",
              "    <tr>\n",
              "      <th>3</th>\n",
              "      <td>4</td>\n",
              "      <td>1</td>\n",
              "      <td>1</td>\n",
              "      <td>Futrelle, Mrs. Jacques Heath (Lily May Peel)</td>\n",
              "      <td>female</td>\n",
              "      <td>35.0</td>\n",
              "      <td>1</td>\n",
              "      <td>0</td>\n",
              "      <td>113803</td>\n",
              "      <td>53.1000</td>\n",
              "      <td>C123</td>\n",
              "      <td>S</td>\n",
              "    </tr>\n",
              "    <tr>\n",
              "      <th>8</th>\n",
              "      <td>9</td>\n",
              "      <td>1</td>\n",
              "      <td>3</td>\n",
              "      <td>Johnson, Mrs. Oscar W (Elisabeth Vilhelmina Berg)</td>\n",
              "      <td>female</td>\n",
              "      <td>27.0</td>\n",
              "      <td>0</td>\n",
              "      <td>2</td>\n",
              "      <td>347742</td>\n",
              "      <td>11.1333</td>\n",
              "      <td>NaN</td>\n",
              "      <td>S</td>\n",
              "    </tr>\n",
              "    <tr>\n",
              "      <th>9</th>\n",
              "      <td>10</td>\n",
              "      <td>1</td>\n",
              "      <td>2</td>\n",
              "      <td>Nasser, Mrs. Nicholas (Adele Achem)</td>\n",
              "      <td>female</td>\n",
              "      <td>14.0</td>\n",
              "      <td>1</td>\n",
              "      <td>0</td>\n",
              "      <td>237736</td>\n",
              "      <td>30.0708</td>\n",
              "      <td>NaN</td>\n",
              "      <td>C</td>\n",
              "    </tr>\n",
              "    <tr>\n",
              "      <th>...</th>\n",
              "      <td>...</td>\n",
              "      <td>...</td>\n",
              "      <td>...</td>\n",
              "      <td>...</td>\n",
              "      <td>...</td>\n",
              "      <td>...</td>\n",
              "      <td>...</td>\n",
              "      <td>...</td>\n",
              "      <td>...</td>\n",
              "      <td>...</td>\n",
              "      <td>...</td>\n",
              "      <td>...</td>\n",
              "    </tr>\n",
              "    <tr>\n",
              "      <th>880</th>\n",
              "      <td>881</td>\n",
              "      <td>1</td>\n",
              "      <td>2</td>\n",
              "      <td>Shelley, Mrs. William (Imanita Parrish Hall)</td>\n",
              "      <td>female</td>\n",
              "      <td>25.0</td>\n",
              "      <td>0</td>\n",
              "      <td>1</td>\n",
              "      <td>230433</td>\n",
              "      <td>26.0000</td>\n",
              "      <td>NaN</td>\n",
              "      <td>S</td>\n",
              "    </tr>\n",
              "    <tr>\n",
              "      <th>882</th>\n",
              "      <td>883</td>\n",
              "      <td>0</td>\n",
              "      <td>3</td>\n",
              "      <td>Dahlberg, Miss. Gerda Ulrika</td>\n",
              "      <td>female</td>\n",
              "      <td>22.0</td>\n",
              "      <td>0</td>\n",
              "      <td>0</td>\n",
              "      <td>7552</td>\n",
              "      <td>10.5167</td>\n",
              "      <td>NaN</td>\n",
              "      <td>S</td>\n",
              "    </tr>\n",
              "    <tr>\n",
              "      <th>885</th>\n",
              "      <td>886</td>\n",
              "      <td>0</td>\n",
              "      <td>3</td>\n",
              "      <td>Rice, Mrs. William (Margaret Norton)</td>\n",
              "      <td>female</td>\n",
              "      <td>39.0</td>\n",
              "      <td>0</td>\n",
              "      <td>5</td>\n",
              "      <td>382652</td>\n",
              "      <td>29.1250</td>\n",
              "      <td>NaN</td>\n",
              "      <td>Q</td>\n",
              "    </tr>\n",
              "    <tr>\n",
              "      <th>887</th>\n",
              "      <td>888</td>\n",
              "      <td>1</td>\n",
              "      <td>1</td>\n",
              "      <td>Graham, Miss. Margaret Edith</td>\n",
              "      <td>female</td>\n",
              "      <td>19.0</td>\n",
              "      <td>0</td>\n",
              "      <td>0</td>\n",
              "      <td>112053</td>\n",
              "      <td>30.0000</td>\n",
              "      <td>B42</td>\n",
              "      <td>S</td>\n",
              "    </tr>\n",
              "    <tr>\n",
              "      <th>888</th>\n",
              "      <td>889</td>\n",
              "      <td>0</td>\n",
              "      <td>3</td>\n",
              "      <td>Johnston, Miss. Catherine Helen \"Carrie\"</td>\n",
              "      <td>female</td>\n",
              "      <td>NaN</td>\n",
              "      <td>1</td>\n",
              "      <td>2</td>\n",
              "      <td>W./C. 6607</td>\n",
              "      <td>23.4500</td>\n",
              "      <td>NaN</td>\n",
              "      <td>S</td>\n",
              "    </tr>\n",
              "  </tbody>\n",
              "</table>\n",
              "<p>314 rows × 12 columns</p>\n",
              "</div>"
            ],
            "text/plain": [
              "     PassengerId  Survived  Pclass  ...     Fare Cabin  Embarked\n",
              "1              2         1       1  ...  71.2833   C85         C\n",
              "2              3         1       3  ...   7.9250   NaN         S\n",
              "3              4         1       1  ...  53.1000  C123         S\n",
              "8              9         1       3  ...  11.1333   NaN         S\n",
              "9             10         1       2  ...  30.0708   NaN         C\n",
              "..           ...       ...     ...  ...      ...   ...       ...\n",
              "880          881         1       2  ...  26.0000   NaN         S\n",
              "882          883         0       3  ...  10.5167   NaN         S\n",
              "885          886         0       3  ...  29.1250   NaN         Q\n",
              "887          888         1       1  ...  30.0000   B42         S\n",
              "888          889         0       3  ...  23.4500   NaN         S\n",
              "\n",
              "[314 rows x 12 columns]"
            ]
          },
          "metadata": {
            "tags": []
          },
          "execution_count": 37
        }
      ]
    },
    {
      "cell_type": "code",
      "metadata": {
        "colab": {
          "base_uri": "https://localhost:8080/",
          "height": 431
        },
        "id": "7yVRxIiLoNlq",
        "outputId": "c76807df-90ef-4595-d92f-e2c03817e336"
      },
      "source": [
        "여성.pivot(columns=\"Survived\", values=\"Pclass\")\n",
        "여성.pivot(index=\"PassengerId\", columns=\"Pclass\", values=\"Fare\")"
      ],
      "execution_count": 40,
      "outputs": [
        {
          "output_type": "execute_result",
          "data": {
            "text/html": [
              "<div>\n",
              "<style scoped>\n",
              "    .dataframe tbody tr th:only-of-type {\n",
              "        vertical-align: middle;\n",
              "    }\n",
              "\n",
              "    .dataframe tbody tr th {\n",
              "        vertical-align: top;\n",
              "    }\n",
              "\n",
              "    .dataframe thead th {\n",
              "        text-align: right;\n",
              "    }\n",
              "</style>\n",
              "<table border=\"1\" class=\"dataframe\">\n",
              "  <thead>\n",
              "    <tr style=\"text-align: right;\">\n",
              "      <th>Pclass</th>\n",
              "      <th>1</th>\n",
              "      <th>2</th>\n",
              "      <th>3</th>\n",
              "    </tr>\n",
              "    <tr>\n",
              "      <th>PassengerId</th>\n",
              "      <th></th>\n",
              "      <th></th>\n",
              "      <th></th>\n",
              "    </tr>\n",
              "  </thead>\n",
              "  <tbody>\n",
              "    <tr>\n",
              "      <th>2</th>\n",
              "      <td>71.2833</td>\n",
              "      <td>NaN</td>\n",
              "      <td>NaN</td>\n",
              "    </tr>\n",
              "    <tr>\n",
              "      <th>3</th>\n",
              "      <td>NaN</td>\n",
              "      <td>NaN</td>\n",
              "      <td>7.9250</td>\n",
              "    </tr>\n",
              "    <tr>\n",
              "      <th>4</th>\n",
              "      <td>53.1000</td>\n",
              "      <td>NaN</td>\n",
              "      <td>NaN</td>\n",
              "    </tr>\n",
              "    <tr>\n",
              "      <th>9</th>\n",
              "      <td>NaN</td>\n",
              "      <td>NaN</td>\n",
              "      <td>11.1333</td>\n",
              "    </tr>\n",
              "    <tr>\n",
              "      <th>10</th>\n",
              "      <td>NaN</td>\n",
              "      <td>30.0708</td>\n",
              "      <td>NaN</td>\n",
              "    </tr>\n",
              "    <tr>\n",
              "      <th>...</th>\n",
              "      <td>...</td>\n",
              "      <td>...</td>\n",
              "      <td>...</td>\n",
              "    </tr>\n",
              "    <tr>\n",
              "      <th>881</th>\n",
              "      <td>NaN</td>\n",
              "      <td>26.0000</td>\n",
              "      <td>NaN</td>\n",
              "    </tr>\n",
              "    <tr>\n",
              "      <th>883</th>\n",
              "      <td>NaN</td>\n",
              "      <td>NaN</td>\n",
              "      <td>10.5167</td>\n",
              "    </tr>\n",
              "    <tr>\n",
              "      <th>886</th>\n",
              "      <td>NaN</td>\n",
              "      <td>NaN</td>\n",
              "      <td>29.1250</td>\n",
              "    </tr>\n",
              "    <tr>\n",
              "      <th>888</th>\n",
              "      <td>30.0000</td>\n",
              "      <td>NaN</td>\n",
              "      <td>NaN</td>\n",
              "    </tr>\n",
              "    <tr>\n",
              "      <th>889</th>\n",
              "      <td>NaN</td>\n",
              "      <td>NaN</td>\n",
              "      <td>23.4500</td>\n",
              "    </tr>\n",
              "  </tbody>\n",
              "</table>\n",
              "<p>314 rows × 3 columns</p>\n",
              "</div>"
            ],
            "text/plain": [
              "Pclass             1        2        3\n",
              "PassengerId                           \n",
              "2            71.2833      NaN      NaN\n",
              "3                NaN      NaN   7.9250\n",
              "4            53.1000      NaN      NaN\n",
              "9                NaN      NaN  11.1333\n",
              "10               NaN  30.0708      NaN\n",
              "...              ...      ...      ...\n",
              "881              NaN  26.0000      NaN\n",
              "883              NaN      NaN  10.5167\n",
              "886              NaN      NaN  29.1250\n",
              "888          30.0000      NaN      NaN\n",
              "889              NaN      NaN  23.4500\n",
              "\n",
              "[314 rows x 3 columns]"
            ]
          },
          "metadata": {
            "tags": []
          },
          "execution_count": 40
        }
      ]
    },
    {
      "cell_type": "markdown",
      "metadata": {
        "id": "2l4jT9sYvAv2"
      },
      "source": [
        "##How to combine data from multiple tables?"
      ]
    },
    {
      "cell_type": "markdown",
      "metadata": {
        "id": "81pWmVxMvEZK"
      },
      "source": [
        "###Concatenating objects"
      ]
    },
    {
      "cell_type": "markdown",
      "metadata": {
        "id": "qs-EyA_XvG2H"
      },
      "source": [
        "![image.png](data:image/png;base64,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)"
      ]
    },
    {
      "cell_type": "code",
      "metadata": {
        "id": "CxaGMcz2u3TR"
      },
      "source": [
        "data = {\n",
        "    '수학' : [90, 80],\n",
        "    '영어' : [70, 60]\n",
        "}\n",
        "\n",
        "data2 = {\n",
        "    '언어' : [20, 70],\n",
        "    '과학' : [30, 60]\n",
        "}\n",
        "\n",
        "data = pd.DataFrame(data)\n",
        "data2 = pd.DataFrame(data2)"
      ],
      "execution_count": 54,
      "outputs": []
    },
    {
      "cell_type": "code",
      "metadata": {
        "colab": {
          "base_uri": "https://localhost:8080/",
          "height": 106
        },
        "id": "uRkIP5crwFmM",
        "outputId": "9979c2ba-53a3-45d4-b033-a9cc0d05a4c1"
      },
      "source": [
        "data\n",
        "data2"
      ],
      "execution_count": 55,
      "outputs": [
        {
          "output_type": "execute_result",
          "data": {
            "text/html": [
              "<div>\n",
              "<style scoped>\n",
              "    .dataframe tbody tr th:only-of-type {\n",
              "        vertical-align: middle;\n",
              "    }\n",
              "\n",
              "    .dataframe tbody tr th {\n",
              "        vertical-align: top;\n",
              "    }\n",
              "\n",
              "    .dataframe thead th {\n",
              "        text-align: right;\n",
              "    }\n",
              "</style>\n",
              "<table border=\"1\" class=\"dataframe\">\n",
              "  <thead>\n",
              "    <tr style=\"text-align: right;\">\n",
              "      <th></th>\n",
              "      <th>언어</th>\n",
              "      <th>과학</th>\n",
              "    </tr>\n",
              "  </thead>\n",
              "  <tbody>\n",
              "    <tr>\n",
              "      <th>0</th>\n",
              "      <td>20</td>\n",
              "      <td>30</td>\n",
              "    </tr>\n",
              "    <tr>\n",
              "      <th>1</th>\n",
              "      <td>70</td>\n",
              "      <td>60</td>\n",
              "    </tr>\n",
              "  </tbody>\n",
              "</table>\n",
              "</div>"
            ],
            "text/plain": [
              "   언어  과학\n",
              "0  20  30\n",
              "1  70  60"
            ]
          },
          "metadata": {
            "tags": []
          },
          "execution_count": 55
        }
      ]
    },
    {
      "cell_type": "code",
      "metadata": {
        "colab": {
          "base_uri": "https://localhost:8080/",
          "height": 166
        },
        "id": "rl_CL1tUwKNp",
        "outputId": "f3c3da82-12e7-45a1-9c6a-1b8549a90392"
      },
      "source": [
        "pd.concat([data, data2], axis=0)    # 합치기"
      ],
      "execution_count": 56,
      "outputs": [
        {
          "output_type": "execute_result",
          "data": {
            "text/html": [
              "<div>\n",
              "<style scoped>\n",
              "    .dataframe tbody tr th:only-of-type {\n",
              "        vertical-align: middle;\n",
              "    }\n",
              "\n",
              "    .dataframe tbody tr th {\n",
              "        vertical-align: top;\n",
              "    }\n",
              "\n",
              "    .dataframe thead th {\n",
              "        text-align: right;\n",
              "    }\n",
              "</style>\n",
              "<table border=\"1\" class=\"dataframe\">\n",
              "  <thead>\n",
              "    <tr style=\"text-align: right;\">\n",
              "      <th></th>\n",
              "      <th>수학</th>\n",
              "      <th>영어</th>\n",
              "      <th>언어</th>\n",
              "      <th>과학</th>\n",
              "    </tr>\n",
              "  </thead>\n",
              "  <tbody>\n",
              "    <tr>\n",
              "      <th>0</th>\n",
              "      <td>90.0</td>\n",
              "      <td>70.0</td>\n",
              "      <td>NaN</td>\n",
              "      <td>NaN</td>\n",
              "    </tr>\n",
              "    <tr>\n",
              "      <th>1</th>\n",
              "      <td>80.0</td>\n",
              "      <td>60.0</td>\n",
              "      <td>NaN</td>\n",
              "      <td>NaN</td>\n",
              "    </tr>\n",
              "    <tr>\n",
              "      <th>0</th>\n",
              "      <td>NaN</td>\n",
              "      <td>NaN</td>\n",
              "      <td>20.0</td>\n",
              "      <td>30.0</td>\n",
              "    </tr>\n",
              "    <tr>\n",
              "      <th>1</th>\n",
              "      <td>NaN</td>\n",
              "      <td>NaN</td>\n",
              "      <td>70.0</td>\n",
              "      <td>60.0</td>\n",
              "    </tr>\n",
              "  </tbody>\n",
              "</table>\n",
              "</div>"
            ],
            "text/plain": [
              "     수학    영어    언어    과학\n",
              "0  90.0  70.0   NaN   NaN\n",
              "1  80.0  60.0   NaN   NaN\n",
              "0   NaN   NaN  20.0  30.0\n",
              "1   NaN   NaN  70.0  60.0"
            ]
          },
          "metadata": {
            "tags": []
          },
          "execution_count": 56
        }
      ]
    },
    {
      "cell_type": "code",
      "metadata": {
        "id": "m_RqRTyFw5jR"
      },
      "source": [
        "# data + data2  수학, 영어 스트링을 더할 수가 없어서 에러 발생!\n",
        "\n",
        "# data['언어'] = data2['언어']\n",
        "# data['과학'] = data2['과학']\n",
        "\n",
        "# data[['언어', '과학']] = data2[['언어', '과학']]"
      ],
      "execution_count": 57,
      "outputs": []
    },
    {
      "cell_type": "code",
      "metadata": {
        "colab": {
          "base_uri": "https://localhost:8080/",
          "height": 106
        },
        "id": "EcvGN7WjxcNa",
        "outputId": "0a9e5d00-0b93-4e22-a7f0-360be1ba051f"
      },
      "source": [
        "data"
      ],
      "execution_count": 58,
      "outputs": [
        {
          "output_type": "execute_result",
          "data": {
            "text/html": [
              "<div>\n",
              "<style scoped>\n",
              "    .dataframe tbody tr th:only-of-type {\n",
              "        vertical-align: middle;\n",
              "    }\n",
              "\n",
              "    .dataframe tbody tr th {\n",
              "        vertical-align: top;\n",
              "    }\n",
              "\n",
              "    .dataframe thead th {\n",
              "        text-align: right;\n",
              "    }\n",
              "</style>\n",
              "<table border=\"1\" class=\"dataframe\">\n",
              "  <thead>\n",
              "    <tr style=\"text-align: right;\">\n",
              "      <th></th>\n",
              "      <th>수학</th>\n",
              "      <th>영어</th>\n",
              "    </tr>\n",
              "  </thead>\n",
              "  <tbody>\n",
              "    <tr>\n",
              "      <th>0</th>\n",
              "      <td>90</td>\n",
              "      <td>70</td>\n",
              "    </tr>\n",
              "    <tr>\n",
              "      <th>1</th>\n",
              "      <td>80</td>\n",
              "      <td>60</td>\n",
              "    </tr>\n",
              "  </tbody>\n",
              "</table>\n",
              "</div>"
            ],
            "text/plain": [
              "   수학  영어\n",
              "0  90  70\n",
              "1  80  60"
            ]
          },
          "metadata": {
            "tags": []
          },
          "execution_count": 58
        }
      ]
    },
    {
      "cell_type": "code",
      "metadata": {
        "colab": {
          "base_uri": "https://localhost:8080/",
          "height": 106
        },
        "id": "4ThvPdl9x34B",
        "outputId": "99650ced-225d-4209-e59f-4c4b5b4f57fd"
      },
      "source": [
        "pd.concat([data, data2], axis=1)    # 합치기"
      ],
      "execution_count": 62,
      "outputs": [
        {
          "output_type": "execute_result",
          "data": {
            "text/html": [
              "<div>\n",
              "<style scoped>\n",
              "    .dataframe tbody tr th:only-of-type {\n",
              "        vertical-align: middle;\n",
              "    }\n",
              "\n",
              "    .dataframe tbody tr th {\n",
              "        vertical-align: top;\n",
              "    }\n",
              "\n",
              "    .dataframe thead th {\n",
              "        text-align: right;\n",
              "    }\n",
              "</style>\n",
              "<table border=\"1\" class=\"dataframe\">\n",
              "  <thead>\n",
              "    <tr style=\"text-align: right;\">\n",
              "      <th></th>\n",
              "      <th>수학</th>\n",
              "      <th>영어</th>\n",
              "      <th>언어</th>\n",
              "      <th>과학</th>\n",
              "    </tr>\n",
              "  </thead>\n",
              "  <tbody>\n",
              "    <tr>\n",
              "      <th>0</th>\n",
              "      <td>90</td>\n",
              "      <td>70</td>\n",
              "      <td>20</td>\n",
              "      <td>30</td>\n",
              "    </tr>\n",
              "    <tr>\n",
              "      <th>1</th>\n",
              "      <td>80</td>\n",
              "      <td>60</td>\n",
              "      <td>70</td>\n",
              "      <td>60</td>\n",
              "    </tr>\n",
              "  </tbody>\n",
              "</table>\n",
              "</div>"
            ],
            "text/plain": [
              "   수학  영어  언어  과학\n",
              "0  90  70  20  30\n",
              "1  80  60  70  60"
            ]
          },
          "metadata": {
            "tags": []
          },
          "execution_count": 62
        }
      ]
    },
    {
      "cell_type": "code",
      "metadata": {
        "id": "jGuhysa8yJgi"
      },
      "source": [
        "data = {\n",
        "    '수학' : [90, 80],\n",
        "    '영어' : [70, 60]\n",
        "}\n",
        "\n",
        "data2 = {\n",
        "    '언어' : [20, 70],\n",
        "    '과학' : [30, 60]\n",
        "}\n",
        "\n",
        "data3 = {\n",
        "    '수학' : [38, 60],\n",
        "    '영어' : [30, 90]\n",
        "}\n",
        "\n",
        "data = pd.DataFrame(data)\n",
        "data2 = pd.DataFrame(data2)\n",
        "data3 = pd.DataFrame(data3)"
      ],
      "execution_count": 64,
      "outputs": []
    },
    {
      "cell_type": "code",
      "metadata": {
        "colab": {
          "base_uri": "https://localhost:8080/",
          "height": 106
        },
        "id": "nRZEMBBfyWyy",
        "outputId": "deafbbc6-a61a-4264-b321-3204608fe991"
      },
      "source": [
        "pd.concat([data, data3], axis=1)    # 옆으로 합치기"
      ],
      "execution_count": 65,
      "outputs": [
        {
          "output_type": "execute_result",
          "data": {
            "text/html": [
              "<div>\n",
              "<style scoped>\n",
              "    .dataframe tbody tr th:only-of-type {\n",
              "        vertical-align: middle;\n",
              "    }\n",
              "\n",
              "    .dataframe tbody tr th {\n",
              "        vertical-align: top;\n",
              "    }\n",
              "\n",
              "    .dataframe thead th {\n",
              "        text-align: right;\n",
              "    }\n",
              "</style>\n",
              "<table border=\"1\" class=\"dataframe\">\n",
              "  <thead>\n",
              "    <tr style=\"text-align: right;\">\n",
              "      <th></th>\n",
              "      <th>수학</th>\n",
              "      <th>영어</th>\n",
              "      <th>수학</th>\n",
              "      <th>영어</th>\n",
              "    </tr>\n",
              "  </thead>\n",
              "  <tbody>\n",
              "    <tr>\n",
              "      <th>0</th>\n",
              "      <td>90</td>\n",
              "      <td>70</td>\n",
              "      <td>38</td>\n",
              "      <td>30</td>\n",
              "    </tr>\n",
              "    <tr>\n",
              "      <th>1</th>\n",
              "      <td>80</td>\n",
              "      <td>60</td>\n",
              "      <td>60</td>\n",
              "      <td>90</td>\n",
              "    </tr>\n",
              "  </tbody>\n",
              "</table>\n",
              "</div>"
            ],
            "text/plain": [
              "   수학  영어  수학  영어\n",
              "0  90  70  38  30\n",
              "1  80  60  60  90"
            ]
          },
          "metadata": {
            "tags": []
          },
          "execution_count": 65
        }
      ]
    },
    {
      "cell_type": "code",
      "metadata": {
        "colab": {
          "base_uri": "https://localhost:8080/",
          "height": 166
        },
        "id": "0pJo8kiMyeOh",
        "outputId": "8ec5d124-4479-4019-ba71-154bea5a7067"
      },
      "source": [
        "pd.concat([data, data3], axis=0)    # 아래로 합치기. 그러나 아래로 합칠때 열제목이 같은때는 같은 열에 자동으로 합쳐줌"
      ],
      "execution_count": 67,
      "outputs": [
        {
          "output_type": "execute_result",
          "data": {
            "text/html": [
              "<div>\n",
              "<style scoped>\n",
              "    .dataframe tbody tr th:only-of-type {\n",
              "        vertical-align: middle;\n",
              "    }\n",
              "\n",
              "    .dataframe tbody tr th {\n",
              "        vertical-align: top;\n",
              "    }\n",
              "\n",
              "    .dataframe thead th {\n",
              "        text-align: right;\n",
              "    }\n",
              "</style>\n",
              "<table border=\"1\" class=\"dataframe\">\n",
              "  <thead>\n",
              "    <tr style=\"text-align: right;\">\n",
              "      <th></th>\n",
              "      <th>수학</th>\n",
              "      <th>영어</th>\n",
              "    </tr>\n",
              "  </thead>\n",
              "  <tbody>\n",
              "    <tr>\n",
              "      <th>0</th>\n",
              "      <td>90</td>\n",
              "      <td>70</td>\n",
              "    </tr>\n",
              "    <tr>\n",
              "      <th>1</th>\n",
              "      <td>80</td>\n",
              "      <td>60</td>\n",
              "    </tr>\n",
              "    <tr>\n",
              "      <th>0</th>\n",
              "      <td>38</td>\n",
              "      <td>30</td>\n",
              "    </tr>\n",
              "    <tr>\n",
              "      <th>1</th>\n",
              "      <td>60</td>\n",
              "      <td>90</td>\n",
              "    </tr>\n",
              "  </tbody>\n",
              "</table>\n",
              "</div>"
            ],
            "text/plain": [
              "   수학  영어\n",
              "0  90  70\n",
              "1  80  60\n",
              "0  38  30\n",
              "1  60  90"
            ]
          },
          "metadata": {
            "tags": []
          },
          "execution_count": 67
        }
      ]
    },
    {
      "cell_type": "markdown",
      "metadata": {
        "id": "2hA-6AFPzFWh"
      },
      "source": [
        "###Join tables using a common identifier"
      ]
    },
    {
      "cell_type": "markdown",
      "metadata": {
        "id": "CybnedkozFEq"
      },
      "source": [
        "![image.png](data:image/png;base64,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)"
      ]
    },
    {
      "cell_type": "code",
      "metadata": {
        "id": "azkovUTvyfeC"
      },
      "source": [
        "data = {\n",
        "    '이름' : ['영희', '철수', '호준'],\n",
        "    '수학' : [70, 90, 80]\n",
        "}\n",
        "\n",
        "data2 = {\n",
        "    '이름' : ['영희', '호준'],\n",
        "    '과학' : [30, 60],\n",
        "    '언어' : [90, 60]\n",
        "}\n",
        "\n",
        "\n",
        "\n",
        "data = pd.DataFrame(data)\n",
        "data2 = pd.DataFrame(data2)"
      ],
      "execution_count": 71,
      "outputs": []
    },
    {
      "cell_type": "code",
      "metadata": {
        "colab": {
          "base_uri": "https://localhost:8080/",
          "height": 106
        },
        "id": "3N_-EkOG0XQK",
        "outputId": "3c0632fe-d131-4143-8c26-d37ce0ea8582"
      },
      "source": [
        "data2"
      ],
      "execution_count": 74,
      "outputs": [
        {
          "output_type": "execute_result",
          "data": {
            "text/html": [
              "<div>\n",
              "<style scoped>\n",
              "    .dataframe tbody tr th:only-of-type {\n",
              "        vertical-align: middle;\n",
              "    }\n",
              "\n",
              "    .dataframe tbody tr th {\n",
              "        vertical-align: top;\n",
              "    }\n",
              "\n",
              "    .dataframe thead th {\n",
              "        text-align: right;\n",
              "    }\n",
              "</style>\n",
              "<table border=\"1\" class=\"dataframe\">\n",
              "  <thead>\n",
              "    <tr style=\"text-align: right;\">\n",
              "      <th></th>\n",
              "      <th>이름</th>\n",
              "      <th>과학</th>\n",
              "      <th>언어</th>\n",
              "    </tr>\n",
              "  </thead>\n",
              "  <tbody>\n",
              "    <tr>\n",
              "      <th>0</th>\n",
              "      <td>영희</td>\n",
              "      <td>30</td>\n",
              "      <td>90</td>\n",
              "    </tr>\n",
              "    <tr>\n",
              "      <th>1</th>\n",
              "      <td>호준</td>\n",
              "      <td>60</td>\n",
              "      <td>60</td>\n",
              "    </tr>\n",
              "  </tbody>\n",
              "</table>\n",
              "</div>"
            ],
            "text/plain": [
              "   이름  과학  언어\n",
              "0  영희  30  90\n",
              "1  호준  60  60"
            ]
          },
          "metadata": {
            "tags": []
          },
          "execution_count": 74
        }
      ]
    },
    {
      "cell_type": "code",
      "metadata": {
        "colab": {
          "base_uri": "https://localhost:8080/",
          "height": 136
        },
        "id": "IbANE6Vb3e9S",
        "outputId": "e1b3c9c8-eb5a-45d9-fe36-46250169de7f"
      },
      "source": [
        "merge = pd.merge(data, data2, how = \"left\", on=\"이름\")\n",
        "merge"
      ],
      "execution_count": 76,
      "outputs": [
        {
          "output_type": "execute_result",
          "data": {
            "text/html": [
              "<div>\n",
              "<style scoped>\n",
              "    .dataframe tbody tr th:only-of-type {\n",
              "        vertical-align: middle;\n",
              "    }\n",
              "\n",
              "    .dataframe tbody tr th {\n",
              "        vertical-align: top;\n",
              "    }\n",
              "\n",
              "    .dataframe thead th {\n",
              "        text-align: right;\n",
              "    }\n",
              "</style>\n",
              "<table border=\"1\" class=\"dataframe\">\n",
              "  <thead>\n",
              "    <tr style=\"text-align: right;\">\n",
              "      <th></th>\n",
              "      <th>이름</th>\n",
              "      <th>수학</th>\n",
              "      <th>과학</th>\n",
              "      <th>언어</th>\n",
              "    </tr>\n",
              "  </thead>\n",
              "  <tbody>\n",
              "    <tr>\n",
              "      <th>0</th>\n",
              "      <td>영희</td>\n",
              "      <td>70</td>\n",
              "      <td>30.0</td>\n",
              "      <td>90.0</td>\n",
              "    </tr>\n",
              "    <tr>\n",
              "      <th>1</th>\n",
              "      <td>철수</td>\n",
              "      <td>90</td>\n",
              "      <td>NaN</td>\n",
              "      <td>NaN</td>\n",
              "    </tr>\n",
              "    <tr>\n",
              "      <th>2</th>\n",
              "      <td>호준</td>\n",
              "      <td>80</td>\n",
              "      <td>60.0</td>\n",
              "      <td>60.0</td>\n",
              "    </tr>\n",
              "  </tbody>\n",
              "</table>\n",
              "</div>"
            ],
            "text/plain": [
              "   이름  수학    과학    언어\n",
              "0  영희  70  30.0  90.0\n",
              "1  철수  90   NaN   NaN\n",
              "2  호준  80  60.0  60.0"
            ]
          },
          "metadata": {
            "tags": []
          },
          "execution_count": 76
        }
      ]
    },
    {
      "cell_type": "code",
      "metadata": {
        "id": "tzK_VmRw4Pla"
      },
      "source": [
        "df = pd.DataFrame({'year' : [2021, 2021],\n",
        "                   'month' : [7, 7],\n",
        "                  'day' : [9, 10]\n",
        "                   })"
      ],
      "execution_count": 79,
      "outputs": []
    },
    {
      "cell_type": "code",
      "metadata": {
        "colab": {
          "base_uri": "https://localhost:8080/",
          "height": 106
        },
        "id": "mAqa3ont4jhz",
        "outputId": "a836ef98-783c-4c58-ad94-31a956fe21c8"
      },
      "source": [
        "df"
      ],
      "execution_count": 81,
      "outputs": [
        {
          "output_type": "execute_result",
          "data": {
            "text/html": [
              "<div>\n",
              "<style scoped>\n",
              "    .dataframe tbody tr th:only-of-type {\n",
              "        vertical-align: middle;\n",
              "    }\n",
              "\n",
              "    .dataframe tbody tr th {\n",
              "        vertical-align: top;\n",
              "    }\n",
              "\n",
              "    .dataframe thead th {\n",
              "        text-align: right;\n",
              "    }\n",
              "</style>\n",
              "<table border=\"1\" class=\"dataframe\">\n",
              "  <thead>\n",
              "    <tr style=\"text-align: right;\">\n",
              "      <th></th>\n",
              "      <th>year</th>\n",
              "      <th>month</th>\n",
              "      <th>day</th>\n",
              "    </tr>\n",
              "  </thead>\n",
              "  <tbody>\n",
              "    <tr>\n",
              "      <th>0</th>\n",
              "      <td>2021</td>\n",
              "      <td>7</td>\n",
              "      <td>9</td>\n",
              "    </tr>\n",
              "    <tr>\n",
              "      <th>1</th>\n",
              "      <td>2021</td>\n",
              "      <td>7</td>\n",
              "      <td>10</td>\n",
              "    </tr>\n",
              "  </tbody>\n",
              "</table>\n",
              "</div>"
            ],
            "text/plain": [
              "   year  month  day\n",
              "0  2021      7    9\n",
              "1  2021      7   10"
            ]
          },
          "metadata": {
            "tags": []
          },
          "execution_count": 81
        }
      ]
    },
    {
      "cell_type": "code",
      "metadata": {
        "colab": {
          "base_uri": "https://localhost:8080/"
        },
        "id": "7-JZU2l04gcS",
        "outputId": "201fc9c4-5039-4b19-c1bb-b142208cc556"
      },
      "source": [
        "data = pd.to_datetime(df)\n",
        "\n",
        "data"
      ],
      "execution_count": 83,
      "outputs": [
        {
          "output_type": "execute_result",
          "data": {
            "text/plain": [
              "0   2021-07-09\n",
              "1   2021-07-10\n",
              "dtype: datetime64[ns]"
            ]
          },
          "metadata": {
            "tags": []
          },
          "execution_count": 83
        }
      ]
    },
    {
      "cell_type": "code",
      "metadata": {
        "colab": {
          "base_uri": "https://localhost:8080/"
        },
        "id": "TpczVer35L86",
        "outputId": "7bdd07b7-45f8-45f7-9c09-bdfcd8941923"
      },
      "source": [
        "data.dt.year"
      ],
      "execution_count": 84,
      "outputs": [
        {
          "output_type": "execute_result",
          "data": {
            "text/plain": [
              "0    2021\n",
              "1    2021\n",
              "dtype: int64"
            ]
          },
          "metadata": {
            "tags": []
          },
          "execution_count": 84
        }
      ]
    },
    {
      "cell_type": "code",
      "metadata": {
        "colab": {
          "base_uri": "https://localhost:8080/"
        },
        "id": "iI17Pp8f5Vez",
        "outputId": "0135c913-0c6f-459f-e31b-fba02c82f2c4"
      },
      "source": [
        "data.dt.month"
      ],
      "execution_count": 87,
      "outputs": [
        {
          "output_type": "execute_result",
          "data": {
            "text/plain": [
              "0    7\n",
              "1    7\n",
              "dtype: int64"
            ]
          },
          "metadata": {
            "tags": []
          },
          "execution_count": 87
        }
      ]
    },
    {
      "cell_type": "code",
      "metadata": {
        "colab": {
          "base_uri": "https://localhost:8080/"
        },
        "id": "0DF6_eHU5f5K",
        "outputId": "59b8bef1-8b5a-44c0-c892-33025b5a2eba"
      },
      "source": [
        "data.dt.day"
      ],
      "execution_count": 88,
      "outputs": [
        {
          "output_type": "execute_result",
          "data": {
            "text/plain": [
              "0     9\n",
              "1    10\n",
              "dtype: int64"
            ]
          },
          "metadata": {
            "tags": []
          },
          "execution_count": 88
        }
      ]
    },
    {
      "cell_type": "code",
      "metadata": {
        "colab": {
          "base_uri": "https://localhost:8080/"
        },
        "id": "GamuJ7mL5X2q",
        "outputId": "65126f61-052e-4acf-f633-d47d7f99dc90"
      },
      "source": [
        "data.dt.weekday   # 요일 0-월, 1-화.....5-토, 6-일"
      ],
      "execution_count": 90,
      "outputs": [
        {
          "output_type": "execute_result",
          "data": {
            "text/plain": [
              "0    4\n",
              "1    5\n",
              "dtype: int64"
            ]
          },
          "metadata": {
            "tags": []
          },
          "execution_count": 90
        }
      ]
    },
    {
      "cell_type": "code",
      "metadata": {
        "colab": {
          "base_uri": "https://localhost:8080/"
        },
        "id": "FbsKnzLs5-WD",
        "outputId": "edbf96a3-31d6-4b92-a2ff-d2a3d31a848a"
      },
      "source": [
        "data.dt.day_name()   # Series에서는 day_name(), weekday_name() - 버전업 되면서 삭제됨"
      ],
      "execution_count": 92,
      "outputs": [
        {
          "output_type": "execute_result",
          "data": {
            "text/plain": [
              "0      Friday\n",
              "1    Saturday\n",
              "dtype: object"
            ]
          },
          "metadata": {
            "tags": []
          },
          "execution_count": 92
        }
      ]
    },
    {
      "cell_type": "code",
      "metadata": {
        "colab": {
          "base_uri": "https://localhost:8080/"
        },
        "id": "B3tjew4t6roq",
        "outputId": "58938015-8fa6-4c5b-fd56-644f14cd9e66"
      },
      "source": [
        "pd.to_datetime('now')   # UTC 시간\n",
        "pd.to_datetime('today') # 우리나라 시간"
      ],
      "execution_count": 95,
      "outputs": [
        {
          "output_type": "execute_result",
          "data": {
            "text/plain": [
              "Timestamp('2021-07-09 06:20:48.807405')"
            ]
          },
          "metadata": {
            "tags": []
          },
          "execution_count": 95
        }
      ]
    },
    {
      "cell_type": "code",
      "metadata": {
        "colab": {
          "base_uri": "https://localhost:8080/"
        },
        "id": "PGf2Sz5S7PyD",
        "outputId": "78610a5f-d68c-4a78-d393-4343f0ea5a24"
      },
      "source": [
        "import pytz\n",
        "\n",
        "pytz.timezone('Asia/Seoul')\n"
      ],
      "execution_count": 96,
      "outputs": [
        {
          "output_type": "execute_result",
          "data": {
            "text/plain": [
              "<DstTzInfo 'Asia/Seoul' LMT+8:28:00 STD>"
            ]
          },
          "metadata": {
            "tags": []
          },
          "execution_count": 96
        }
      ]
    },
    {
      "cell_type": "markdown",
      "metadata": {
        "id": "4ELhgibW78O8"
      },
      "source": [
        "* 요일 출력하는 것이 중요함!!"
      ]
    },
    {
      "cell_type": "markdown",
      "metadata": {
        "id": "yv09ZxQh8G16"
      },
      "source": [
        "##How to manipulate textual data?"
      ]
    },
    {
      "cell_type": "code",
      "metadata": {
        "colab": {
          "base_uri": "https://localhost:8080/",
          "height": 330
        },
        "id": "cohDcqqO8KAq",
        "outputId": "209f29ab-ca60-4256-a30f-2621a73cd31e"
      },
      "source": [
        "df = pd.read_csv('train.csv')\n",
        "df.head()\n"
      ],
      "execution_count": 98,
      "outputs": [
        {
          "output_type": "execute_result",
          "data": {
            "text/html": [
              "<div>\n",
              "<style scoped>\n",
              "    .dataframe tbody tr th:only-of-type {\n",
              "        vertical-align: middle;\n",
              "    }\n",
              "\n",
              "    .dataframe tbody tr th {\n",
              "        vertical-align: top;\n",
              "    }\n",
              "\n",
              "    .dataframe thead th {\n",
              "        text-align: right;\n",
              "    }\n",
              "</style>\n",
              "<table border=\"1\" class=\"dataframe\">\n",
              "  <thead>\n",
              "    <tr style=\"text-align: right;\">\n",
              "      <th></th>\n",
              "      <th>PassengerId</th>\n",
              "      <th>Survived</th>\n",
              "      <th>Pclass</th>\n",
              "      <th>Name</th>\n",
              "      <th>Sex</th>\n",
              "      <th>Age</th>\n",
              "      <th>SibSp</th>\n",
              "      <th>Parch</th>\n",
              "      <th>Ticket</th>\n",
              "      <th>Fare</th>\n",
              "      <th>Cabin</th>\n",
              "      <th>Embarked</th>\n",
              "    </tr>\n",
              "  </thead>\n",
              "  <tbody>\n",
              "    <tr>\n",
              "      <th>0</th>\n",
              "      <td>1</td>\n",
              "      <td>0</td>\n",
              "      <td>3</td>\n",
              "      <td>Braund, Mr. Owen Harris</td>\n",
              "      <td>male</td>\n",
              "      <td>22.0</td>\n",
              "      <td>1</td>\n",
              "      <td>0</td>\n",
              "      <td>A/5 21171</td>\n",
              "      <td>7.2500</td>\n",
              "      <td>NaN</td>\n",
              "      <td>S</td>\n",
              "    </tr>\n",
              "    <tr>\n",
              "      <th>1</th>\n",
              "      <td>2</td>\n",
              "      <td>1</td>\n",
              "      <td>1</td>\n",
              "      <td>Cumings, Mrs. John Bradley (Florence Briggs Th...</td>\n",
              "      <td>female</td>\n",
              "      <td>38.0</td>\n",
              "      <td>1</td>\n",
              "      <td>0</td>\n",
              "      <td>PC 17599</td>\n",
              "      <td>71.2833</td>\n",
              "      <td>C85</td>\n",
              "      <td>C</td>\n",
              "    </tr>\n",
              "    <tr>\n",
              "      <th>2</th>\n",
              "      <td>3</td>\n",
              "      <td>1</td>\n",
              "      <td>3</td>\n",
              "      <td>Heikkinen, Miss. Laina</td>\n",
              "      <td>female</td>\n",
              "      <td>26.0</td>\n",
              "      <td>0</td>\n",
              "      <td>0</td>\n",
              "      <td>STON/O2. 3101282</td>\n",
              "      <td>7.9250</td>\n",
              "      <td>NaN</td>\n",
              "      <td>S</td>\n",
              "    </tr>\n",
              "    <tr>\n",
              "      <th>3</th>\n",
              "      <td>4</td>\n",
              "      <td>1</td>\n",
              "      <td>1</td>\n",
              "      <td>Futrelle, Mrs. Jacques Heath (Lily May Peel)</td>\n",
              "      <td>female</td>\n",
              "      <td>35.0</td>\n",
              "      <td>1</td>\n",
              "      <td>0</td>\n",
              "      <td>113803</td>\n",
              "      <td>53.1000</td>\n",
              "      <td>C123</td>\n",
              "      <td>S</td>\n",
              "    </tr>\n",
              "    <tr>\n",
              "      <th>4</th>\n",
              "      <td>5</td>\n",
              "      <td>0</td>\n",
              "      <td>3</td>\n",
              "      <td>Allen, Mr. William Henry</td>\n",
              "      <td>male</td>\n",
              "      <td>35.0</td>\n",
              "      <td>0</td>\n",
              "      <td>0</td>\n",
              "      <td>373450</td>\n",
              "      <td>8.0500</td>\n",
              "      <td>NaN</td>\n",
              "      <td>S</td>\n",
              "    </tr>\n",
              "  </tbody>\n",
              "</table>\n",
              "</div>"
            ],
            "text/plain": [
              "   PassengerId  Survived  Pclass  ...     Fare Cabin  Embarked\n",
              "0            1         0       3  ...   7.2500   NaN         S\n",
              "1            2         1       1  ...  71.2833   C85         C\n",
              "2            3         1       3  ...   7.9250   NaN         S\n",
              "3            4         1       1  ...  53.1000  C123         S\n",
              "4            5         0       3  ...   8.0500   NaN         S\n",
              "\n",
              "[5 rows x 12 columns]"
            ]
          },
          "metadata": {
            "tags": []
          },
          "execution_count": 98
        }
      ]
    },
    {
      "cell_type": "code",
      "metadata": {
        "colab": {
          "base_uri": "https://localhost:8080/"
        },
        "id": "ehy1fQ348g6M",
        "outputId": "48a90126-716c-4523-fa6c-4c34544f5bdd"
      },
      "source": [
        "df[\"Name\"].str.lower()    # 소문자로 바꾸기"
      ],
      "execution_count": 100,
      "outputs": [
        {
          "output_type": "execute_result",
          "data": {
            "text/plain": [
              "0                                braund, mr. owen harris\n",
              "1      cumings, mrs. john bradley (florence briggs th...\n",
              "2                                 heikkinen, miss. laina\n",
              "3           futrelle, mrs. jacques heath (lily may peel)\n",
              "4                               allen, mr. william henry\n",
              "                             ...                        \n",
              "886                                montvila, rev. juozas\n",
              "887                         graham, miss. margaret edith\n",
              "888             johnston, miss. catherine helen \"carrie\"\n",
              "889                                behr, mr. karl howell\n",
              "890                                  dooley, mr. patrick\n",
              "Name: Name, Length: 891, dtype: object"
            ]
          },
          "metadata": {
            "tags": []
          },
          "execution_count": 100
        }
      ]
    },
    {
      "cell_type": "code",
      "metadata": {
        "colab": {
          "base_uri": "https://localhost:8080/"
        },
        "id": "8bbfK_IB80bz",
        "outputId": "49731c92-408d-462c-fcb1-a301a7cedcae"
      },
      "source": [
        "df[\"Name\"].str.split(\",\")"
      ],
      "execution_count": 102,
      "outputs": [
        {
          "output_type": "execute_result",
          "data": {
            "text/plain": [
              "0                             [Braund,  Mr. Owen Harris]\n",
              "1      [Cumings,  Mrs. John Bradley (Florence Briggs ...\n",
              "2                              [Heikkinen,  Miss. Laina]\n",
              "3        [Futrelle,  Mrs. Jacques Heath (Lily May Peel)]\n",
              "4                            [Allen,  Mr. William Henry]\n",
              "                             ...                        \n",
              "886                             [Montvila,  Rev. Juozas]\n",
              "887                      [Graham,  Miss. Margaret Edith]\n",
              "888          [Johnston,  Miss. Catherine Helen \"Carrie\"]\n",
              "889                             [Behr,  Mr. Karl Howell]\n",
              "890                               [Dooley,  Mr. Patrick]\n",
              "Name: Name, Length: 891, dtype: object"
            ]
          },
          "metadata": {
            "tags": []
          },
          "execution_count": 102
        }
      ]
    },
    {
      "cell_type": "code",
      "metadata": {
        "colab": {
          "base_uri": "https://localhost:8080/"
        },
        "id": "zVNBsqrJ85Lz",
        "outputId": "0adb49ad-21bd-4e47-add5-b593b4616b9b"
      },
      "source": [
        "df[\"Name\"].str.contains(\"Mr\")   # 포함하고 있느냐?"
      ],
      "execution_count": 104,
      "outputs": [
        {
          "output_type": "execute_result",
          "data": {
            "text/plain": [
              "0       True\n",
              "1       True\n",
              "2      False\n",
              "3       True\n",
              "4       True\n",
              "       ...  \n",
              "886    False\n",
              "887    False\n",
              "888    False\n",
              "889     True\n",
              "890     True\n",
              "Name: Name, Length: 891, dtype: bool"
            ]
          },
          "metadata": {
            "tags": []
          },
          "execution_count": 104
        }
      ]
    },
    {
      "cell_type": "code",
      "metadata": {
        "colab": {
          "base_uri": "https://localhost:8080/"
        },
        "id": "DSw-eYnj9XOr",
        "outputId": "fa33e99c-285b-4ac9-eb81-8265fc22d09e"
      },
      "source": [
        "df[\"Name\"].str.contains(\"Mr\").value_counts()"
      ],
      "execution_count": 107,
      "outputs": [
        {
          "output_type": "execute_result",
          "data": {
            "text/plain": [
              "True     647\n",
              "False    244\n",
              "Name: Name, dtype: int64"
            ]
          },
          "metadata": {
            "tags": []
          },
          "execution_count": 107
        }
      ]
    },
    {
      "cell_type": "code",
      "metadata": {
        "colab": {
          "base_uri": "https://localhost:8080/",
          "height": 788
        },
        "id": "iBWw7jYM-AMx",
        "outputId": "7368831e-47b7-4141-cc33-5c3713b966ca"
      },
      "source": [
        "df[df[\"Name\"].str.contains(\"Mr\")]"
      ],
      "execution_count": 108,
      "outputs": [
        {
          "output_type": "execute_result",
          "data": {
            "text/html": [
              "<div>\n",
              "<style scoped>\n",
              "    .dataframe tbody tr th:only-of-type {\n",
              "        vertical-align: middle;\n",
              "    }\n",
              "\n",
              "    .dataframe tbody tr th {\n",
              "        vertical-align: top;\n",
              "    }\n",
              "\n",
              "    .dataframe thead th {\n",
              "        text-align: right;\n",
              "    }\n",
              "</style>\n",
              "<table border=\"1\" class=\"dataframe\">\n",
              "  <thead>\n",
              "    <tr style=\"text-align: right;\">\n",
              "      <th></th>\n",
              "      <th>PassengerId</th>\n",
              "      <th>Survived</th>\n",
              "      <th>Pclass</th>\n",
              "      <th>Name</th>\n",
              "      <th>Sex</th>\n",
              "      <th>Age</th>\n",
              "      <th>SibSp</th>\n",
              "      <th>Parch</th>\n",
              "      <th>Ticket</th>\n",
              "      <th>Fare</th>\n",
              "      <th>Cabin</th>\n",
              "      <th>Embarked</th>\n",
              "    </tr>\n",
              "  </thead>\n",
              "  <tbody>\n",
              "    <tr>\n",
              "      <th>0</th>\n",
              "      <td>1</td>\n",
              "      <td>0</td>\n",
              "      <td>3</td>\n",
              "      <td>Braund, Mr. Owen Harris</td>\n",
              "      <td>male</td>\n",
              "      <td>22.0</td>\n",
              "      <td>1</td>\n",
              "      <td>0</td>\n",
              "      <td>A/5 21171</td>\n",
              "      <td>7.2500</td>\n",
              "      <td>NaN</td>\n",
              "      <td>S</td>\n",
              "    </tr>\n",
              "    <tr>\n",
              "      <th>1</th>\n",
              "      <td>2</td>\n",
              "      <td>1</td>\n",
              "      <td>1</td>\n",
              "      <td>Cumings, Mrs. John Bradley (Florence Briggs Th...</td>\n",
              "      <td>female</td>\n",
              "      <td>38.0</td>\n",
              "      <td>1</td>\n",
              "      <td>0</td>\n",
              "      <td>PC 17599</td>\n",
              "      <td>71.2833</td>\n",
              "      <td>C85</td>\n",
              "      <td>C</td>\n",
              "    </tr>\n",
              "    <tr>\n",
              "      <th>3</th>\n",
              "      <td>4</td>\n",
              "      <td>1</td>\n",
              "      <td>1</td>\n",
              "      <td>Futrelle, Mrs. Jacques Heath (Lily May Peel)</td>\n",
              "      <td>female</td>\n",
              "      <td>35.0</td>\n",
              "      <td>1</td>\n",
              "      <td>0</td>\n",
              "      <td>113803</td>\n",
              "      <td>53.1000</td>\n",
              "      <td>C123</td>\n",
              "      <td>S</td>\n",
              "    </tr>\n",
              "    <tr>\n",
              "      <th>4</th>\n",
              "      <td>5</td>\n",
              "      <td>0</td>\n",
              "      <td>3</td>\n",
              "      <td>Allen, Mr. William Henry</td>\n",
              "      <td>male</td>\n",
              "      <td>35.0</td>\n",
              "      <td>0</td>\n",
              "      <td>0</td>\n",
              "      <td>373450</td>\n",
              "      <td>8.0500</td>\n",
              "      <td>NaN</td>\n",
              "      <td>S</td>\n",
              "    </tr>\n",
              "    <tr>\n",
              "      <th>5</th>\n",
              "      <td>6</td>\n",
              "      <td>0</td>\n",
              "      <td>3</td>\n",
              "      <td>Moran, Mr. James</td>\n",
              "      <td>male</td>\n",
              "      <td>NaN</td>\n",
              "      <td>0</td>\n",
              "      <td>0</td>\n",
              "      <td>330877</td>\n",
              "      <td>8.4583</td>\n",
              "      <td>NaN</td>\n",
              "      <td>Q</td>\n",
              "    </tr>\n",
              "    <tr>\n",
              "      <th>...</th>\n",
              "      <td>...</td>\n",
              "      <td>...</td>\n",
              "      <td>...</td>\n",
              "      <td>...</td>\n",
              "      <td>...</td>\n",
              "      <td>...</td>\n",
              "      <td>...</td>\n",
              "      <td>...</td>\n",
              "      <td>...</td>\n",
              "      <td>...</td>\n",
              "      <td>...</td>\n",
              "      <td>...</td>\n",
              "    </tr>\n",
              "    <tr>\n",
              "      <th>883</th>\n",
              "      <td>884</td>\n",
              "      <td>0</td>\n",
              "      <td>2</td>\n",
              "      <td>Banfield, Mr. Frederick James</td>\n",
              "      <td>male</td>\n",
              "      <td>28.0</td>\n",
              "      <td>0</td>\n",
              "      <td>0</td>\n",
              "      <td>C.A./SOTON 34068</td>\n",
              "      <td>10.5000</td>\n",
              "      <td>NaN</td>\n",
              "      <td>S</td>\n",
              "    </tr>\n",
              "    <tr>\n",
              "      <th>884</th>\n",
              "      <td>885</td>\n",
              "      <td>0</td>\n",
              "      <td>3</td>\n",
              "      <td>Sutehall, Mr. Henry Jr</td>\n",
              "      <td>male</td>\n",
              "      <td>25.0</td>\n",
              "      <td>0</td>\n",
              "      <td>0</td>\n",
              "      <td>SOTON/OQ 392076</td>\n",
              "      <td>7.0500</td>\n",
              "      <td>NaN</td>\n",
              "      <td>S</td>\n",
              "    </tr>\n",
              "    <tr>\n",
              "      <th>885</th>\n",
              "      <td>886</td>\n",
              "      <td>0</td>\n",
              "      <td>3</td>\n",
              "      <td>Rice, Mrs. William (Margaret Norton)</td>\n",
              "      <td>female</td>\n",
              "      <td>39.0</td>\n",
              "      <td>0</td>\n",
              "      <td>5</td>\n",
              "      <td>382652</td>\n",
              "      <td>29.1250</td>\n",
              "      <td>NaN</td>\n",
              "      <td>Q</td>\n",
              "    </tr>\n",
              "    <tr>\n",
              "      <th>889</th>\n",
              "      <td>890</td>\n",
              "      <td>1</td>\n",
              "      <td>1</td>\n",
              "      <td>Behr, Mr. Karl Howell</td>\n",
              "      <td>male</td>\n",
              "      <td>26.0</td>\n",
              "      <td>0</td>\n",
              "      <td>0</td>\n",
              "      <td>111369</td>\n",
              "      <td>30.0000</td>\n",
              "      <td>C148</td>\n",
              "      <td>C</td>\n",
              "    </tr>\n",
              "    <tr>\n",
              "      <th>890</th>\n",
              "      <td>891</td>\n",
              "      <td>0</td>\n",
              "      <td>3</td>\n",
              "      <td>Dooley, Mr. Patrick</td>\n",
              "      <td>male</td>\n",
              "      <td>32.0</td>\n",
              "      <td>0</td>\n",
              "      <td>0</td>\n",
              "      <td>370376</td>\n",
              "      <td>7.7500</td>\n",
              "      <td>NaN</td>\n",
              "      <td>Q</td>\n",
              "    </tr>\n",
              "  </tbody>\n",
              "</table>\n",
              "<p>647 rows × 12 columns</p>\n",
              "</div>"
            ],
            "text/plain": [
              "     PassengerId  Survived  Pclass  ...     Fare Cabin  Embarked\n",
              "0              1         0       3  ...   7.2500   NaN         S\n",
              "1              2         1       1  ...  71.2833   C85         C\n",
              "3              4         1       1  ...  53.1000  C123         S\n",
              "4              5         0       3  ...   8.0500   NaN         S\n",
              "5              6         0       3  ...   8.4583   NaN         Q\n",
              "..           ...       ...     ...  ...      ...   ...       ...\n",
              "883          884         0       2  ...  10.5000   NaN         S\n",
              "884          885         0       3  ...   7.0500   NaN         S\n",
              "885          886         0       3  ...  29.1250   NaN         Q\n",
              "889          890         1       1  ...  30.0000  C148         C\n",
              "890          891         0       3  ...   7.7500   NaN         Q\n",
              "\n",
              "[647 rows x 12 columns]"
            ]
          },
          "metadata": {
            "tags": []
          },
          "execution_count": 108
        }
      ]
    },
    {
      "cell_type": "code",
      "metadata": {
        "colab": {
          "base_uri": "https://localhost:8080/"
        },
        "id": "AYrKQOn_9qUl",
        "outputId": "a0fc4d76-bb5a-4a81-fc86-cc01e44482fc"
      },
      "source": [
        " # 자주 사용한다!!\n",
        " \n",
        " df[\"Sex\"].replace({\"male\": \"1\", \"female\": \"0\"})"
      ],
      "execution_count": 105,
      "outputs": [
        {
          "output_type": "execute_result",
          "data": {
            "text/plain": [
              "0      1\n",
              "1      0\n",
              "2      0\n",
              "3      0\n",
              "4      1\n",
              "      ..\n",
              "886    1\n",
              "887    0\n",
              "888    0\n",
              "889    1\n",
              "890    1\n",
              "Name: Sex, Length: 891, dtype: object"
            ]
          },
          "metadata": {
            "tags": []
          },
          "execution_count": 105
        }
      ]
    },
    {
      "cell_type": "markdown",
      "metadata": {
        "id": "IRzWIX1agYug"
      },
      "source": [
        "##참조문헌\n",
        "\n",
        "* [판다스 공식 홈페이지](http://pandas.pydata.org/)\n"
      ]
    },
    {
      "cell_type": "markdown",
      "metadata": {
        "id": "EgXWfMtJ46GV"
      },
      "source": [
        "##추천자료"
      ]
    },
    {
      "cell_type": "markdown",
      "metadata": {
        "id": "bR8A5TQK5NKq"
      },
      "source": [
        "* 데이터분석의 플로우를 살펴볼려면, 유투브 허민석 채널 추천"
      ]
    }
  ]
}