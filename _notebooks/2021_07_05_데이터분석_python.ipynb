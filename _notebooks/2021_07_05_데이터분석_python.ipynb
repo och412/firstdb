{
  "nbformat": 4,
  "nbformat_minor": 0,
  "metadata": {
    "colab": {
      "name": "2021_07_05_데이터분석_python.ipynb",
      "provenance": [],
      "collapsed_sections": [],
      "toc_visible": true
    },
    "kernelspec": {
      "name": "python3",
      "display_name": "Python 3"
    },
    "language_info": {
      "name": "python"
    }
  },
  "cells": [
    {
      "cell_type": "markdown",
      "metadata": {
        "id": "gUVLyw8_MYgn"
      },
      "source": [
        "# \"데이터 분석 Python 기초 문법 노트북\"\n",
        "> \"2021년 여름방학 데이터분석을 위한 python 기초문법\"\n",
        "\n",
        "- toc:true\n",
        "- branch: master\n",
        "- badges: true\n",
        "- comments: true\n",
        "- author: OH CHUNGHYEON\n",
        "- categories: [python, 데이터분석]"
      ]
    },
    {
      "cell_type": "code",
      "metadata": {
        "colab": {
          "base_uri": "https://localhost:8080/"
        },
        "id": "Z1qN6pXeXdTY",
        "outputId": "4c0f6a49-7a1f-404c-b441-8cb4cba0e730"
      },
      "source": [
        "x=3\n",
        "y=7\n",
        "x+y"
      ],
      "execution_count": null,
      "outputs": [
        {
          "output_type": "execute_result",
          "data": {
            "text/plain": [
              "10"
            ]
          },
          "metadata": {
            "tags": []
          },
          "execution_count": 1
        }
      ]
    },
    {
      "cell_type": "markdown",
      "metadata": {
        "id": "-9-QyDh6YQal"
      },
      "source": [
        "# 마크다운\n",
        "## 마크다운\n",
        "### 마크다운\n",
        "\n",
        "* hello world\n",
        "* hello world\n",
        "* hello world\n",
        "\n",
        "1. hello world\n",
        "1. hello world\n",
        "1. hello world\n",
        "\n"
      ]
    },
    {
      "cell_type": "markdown",
      "metadata": {
        "id": "DydLE3sOa40F"
      },
      "source": [
        "## 변수"
      ]
    },
    {
      "cell_type": "markdown",
      "metadata": {
        "id": "FZmDsHP7bFwe"
      },
      "source": [
        "* 대문자와 소문자는 다릅니다!\n",
        "* 변수명에 띄어쓰기를 쓰지 않습니다.\n",
        "* 맨 앞에 숫자를 사용하지 않습니다.\n",
        "* 카멜 표기법(대문자)이나 스네이크 표기법(아래빼기, 아래바) 중에 일반 변수는 스네이크 표기법을 사용합니다.\n",
        "* for, if, print, sum 등 이미 예약되어 있는 것은 변수로 사용하지 않습니다.\n"
      ]
    },
    {
      "cell_type": "code",
      "metadata": {
        "colab": {
          "base_uri": "https://localhost:8080/"
        },
        "id": "QLic1AFea2It",
        "outputId": "ff6d8807-87b8-4291-859b-fb2ad69974f8"
      },
      "source": [
        "x=3\n",
        "y=7\n",
        "x+y\n",
        "x-y\n",
        "x*y\n",
        "x//y"
      ],
      "execution_count": null,
      "outputs": [
        {
          "output_type": "execute_result",
          "data": {
            "text/plain": [
              "0"
            ]
          },
          "metadata": {
            "tags": []
          },
          "execution_count": 4
        }
      ]
    },
    {
      "cell_type": "code",
      "metadata": {
        "colab": {
          "base_uri": "https://localhost:8080/"
        },
        "id": "XaN_ClLxbrQ0",
        "outputId": "9c852c72-24c3-4c00-8651-8d2bed6f1cbb"
      },
      "source": [
        "x=3\n",
        "y=7\n",
        "print(x+y)\n",
        "print(x-y)\n",
        "print(x*y)\n",
        "print(x//y)"
      ],
      "execution_count": null,
      "outputs": [
        {
          "output_type": "stream",
          "text": [
            "10\n",
            "-4\n",
            "21\n",
            "0\n"
          ],
          "name": "stdout"
        }
      ]
    },
    {
      "cell_type": "code",
      "metadata": {
        "colab": {
          "base_uri": "https://localhost:8080/"
        },
        "id": "B2ysq21BcXid",
        "outputId": "af251c64-c453-4299-8682-eadb50f8d2ac"
      },
      "source": [
        "a=10\n",
        "b='10'\n",
        "print(a+a)\n",
        "print(b+b)\n"
      ],
      "execution_count": null,
      "outputs": [
        {
          "output_type": "stream",
          "text": [
            "20\n",
            "1010\n"
          ],
          "name": "stdout"
        }
      ]
    },
    {
      "cell_type": "code",
      "metadata": {
        "id": "_xoczMqWdO8c"
      },
      "source": [
        "a=10 #int : 정수\n",
        "b='10' #str : 문자\n",
        "c='oh'\n",
        "d='chunghyeon'\n",
        "e=True #bool : 블리언\n",
        "f=10.1 #float : 실수\n",
        "\n",
        "<class 'int'>\n"
      ],
      "execution_count": null,
      "outputs": []
    },
    {
      "cell_type": "code",
      "metadata": {
        "colab": {
          "base_uri": "https://localhost:8080/"
        },
        "id": "moczlArIee1F",
        "outputId": "51ce5ca2-4344-4546-d26f-f3e8bad968e3"
      },
      "source": [
        "a=[10, 20, 30, 10.1, 20.1, 30.1, 'chunghyeon'] #list\n",
        "b={10, 20, 30} #tuple\n",
        "c={10, 20, 30, 30, 30} #set\n",
        "d={'one':1, 'two':2} #dict\n",
        "\n",
        "print(type(a))"
      ],
      "execution_count": null,
      "outputs": [
        {
          "output_type": "stream",
          "text": [
            "<class 'list'>\n"
          ],
          "name": "stdout"
        }
      ]
    },
    {
      "cell_type": "code",
      "metadata": {
        "colab": {
          "base_uri": "https://localhost:8080/"
        },
        "id": "EJH3C9tkfhRF",
        "outputId": "a2a3fa27-a060-4073-b6c8-ab41be087780"
      },
      "source": [
        "a.pop() #pop의 의미:맨마지막 것을 뺀다\n",
        "sum(a)"
      ],
      "execution_count": null,
      "outputs": [
        {
          "output_type": "execute_result",
          "data": {
            "text/plain": [
              "120.29999999999998"
            ]
          },
          "metadata": {
            "tags": []
          },
          "execution_count": 10
        }
      ]
    },
    {
      "cell_type": "markdown",
      "metadata": {
        "id": "wM804yqAgXjU"
      },
      "source": [
        "## 형변환"
      ]
    },
    {
      "cell_type": "code",
      "metadata": {
        "colab": {
          "base_uri": "https://localhost:8080/"
        },
        "id": "kLSNjF0Pere1",
        "outputId": "3b4be966-00e8-4dec-ac06-c26bb3260d9b"
      },
      "source": [
        "a=10\n",
        "b='10'\n",
        "print(str(a)+b)\n",
        "print(a+int(b))\n"
      ],
      "execution_count": null,
      "outputs": [
        {
          "output_type": "stream",
          "text": [
            "1010\n",
            "20\n"
          ],
          "name": "stdout"
        }
      ]
    },
    {
      "cell_type": "code",
      "metadata": {
        "id": "wolddcp6kvxt"
      },
      "source": [
        "a=10\n",
        "b='10a'\n",
        "print(a+int(b))"
      ],
      "execution_count": null,
      "outputs": []
    },
    {
      "cell_type": "markdown",
      "metadata": {
        "id": "nh-XD8aGkz3k"
      },
      "source": [
        "##산술연산(사칙연산)\n"
      ]
    },
    {
      "cell_type": "code",
      "metadata": {
        "colab": {
          "base_uri": "https://localhost:8080/"
        },
        "id": "HbU76tzhk2pN",
        "outputId": "ec58a8c6-0ea2-42d1-e899-96c26a57cbea"
      },
      "source": [
        "a=7\n",
        "b=3\n",
        "print(a+b)\n",
        "print(a-b)\n",
        "print(a*b)\n",
        "print(a/b)\n",
        "print(a//b)\n",
        "print(a**b)\n",
        "print(a%b)\n",
        "\n"
      ],
      "execution_count": null,
      "outputs": [
        {
          "output_type": "stream",
          "text": [
            "10\n",
            "4\n",
            "21\n",
            "2.3333333333333335\n",
            "2\n",
            "343\n",
            "1\n"
          ],
          "name": "stdout"
        }
      ]
    },
    {
      "cell_type": "markdown",
      "metadata": {
        "id": "ccdMjSd5mBQ8"
      },
      "source": [
        "##비교연산\n"
      ]
    },
    {
      "cell_type": "code",
      "metadata": {
        "colab": {
          "base_uri": "https://localhost:8080/"
        },
        "id": "Hh1zEtNAmDCL",
        "outputId": "2e0e3233-8bba-4baa-f36c-a936041b5261"
      },
      "source": [
        "a=3\n",
        "b=5\n",
        "print(a>b)\n",
        "print(a>=b)\n",
        "print(a<b)\n",
        "print(a<=b)\n",
        "print(a==b)\n",
        "print(a!=b)\n",
        "\n"
      ],
      "execution_count": null,
      "outputs": [
        {
          "output_type": "stream",
          "text": [
            "False\n",
            "False\n",
            "True\n",
            "True\n",
            "False\n",
            "True\n"
          ],
          "name": "stdout"
        }
      ]
    },
    {
      "cell_type": "markdown",
      "metadata": {
        "id": "3_EEBu2Jo_Mt"
      },
      "source": [
        "##논리연산\n"
      ]
    },
    {
      "cell_type": "code",
      "metadata": {
        "colab": {
          "base_uri": "https://localhost:8080/"
        },
        "id": "AqaUZajipBuy",
        "outputId": "6891a0a2-2cdd-4988-e92b-ad875f316f3c"
      },
      "source": [
        "#주석입니다. 주석은 실행하지 않습니다.\n",
        "\n",
        "a=10\n",
        "b=20\n",
        "a+b"
      ],
      "execution_count": null,
      "outputs": [
        {
          "output_type": "execute_result",
          "data": {
            "text/plain": [
              "30"
            ]
          },
          "metadata": {
            "tags": []
          },
          "execution_count": 16
        }
      ]
    },
    {
      "cell_type": "code",
      "metadata": {
        "colab": {
          "base_uri": "https://localhost:8080/"
        },
        "id": "ExEkFq5ypJfL",
        "outputId": "cf469ef2-aba6-48b4-98bf-9c6e885b56fc"
      },
      "source": [
        "a=True #1\n",
        "b=False #0\n",
        "\n",
        "print(a and b) #곱하기개념. 그렇기 때문에 1*0=0 false가 됨\n",
        "print(a or b) #더하기개념. 0 외의 다른 숫자는 다 1이 됨\n",
        "print(not a) #a가 아닌 것. 그러므로 0이 됨\n",
        "\n"
      ],
      "execution_count": null,
      "outputs": [
        {
          "output_type": "stream",
          "text": [
            "False\n",
            "True\n",
            "False\n"
          ],
          "name": "stdout"
        }
      ]
    },
    {
      "cell_type": "code",
      "metadata": {
        "colab": {
          "base_uri": "https://localhost:8080/"
        },
        "id": "4E0L4Tl-phpz",
        "outputId": "1b01b8db-2bb6-41d8-d0a9-38b96081fb96"
      },
      "source": [
        "result = 0\n",
        "for i in range(1001): #반복문\n",
        "  if i % 3 == 0 or i % 5 == 0:  #%는 나머지를 출력함  #가정문\n",
        "    result = result + i\n",
        "\n",
        "print(result)"
      ],
      "execution_count": null,
      "outputs": [
        {
          "output_type": "stream",
          "text": [
            "234168\n"
          ],
          "name": "stdout"
        }
      ]
    },
    {
      "cell_type": "markdown",
      "metadata": {
        "id": "PBO0Xs6Uw8BT"
      },
      "source": [
        "##문자열\n"
      ]
    },
    {
      "cell_type": "code",
      "metadata": {
        "id": "qGZJnN8mw7Ij"
      },
      "source": [
        "s='paullab CEO leehojun'"
      ],
      "execution_count": null,
      "outputs": []
    },
    {
      "cell_type": "code",
      "metadata": {
        "colab": {
          "base_uri": "https://localhost:8080/"
        },
        "id": "lyfClUsLxH9a",
        "outputId": "7b7011d3-10cf-4d83-fc9f-839268ce761a"
      },
      "source": [
        "s.count('l')"
      ],
      "execution_count": null,
      "outputs": [
        {
          "output_type": "execute_result",
          "data": {
            "text/plain": [
              "3"
            ]
          },
          "metadata": {
            "tags": []
          },
          "execution_count": 47
        }
      ]
    },
    {
      "cell_type": "code",
      "metadata": {
        "colab": {
          "base_uri": "https://localhost:8080/"
        },
        "id": "6ZxFAPiIxilS",
        "outputId": "db00878a-a98f-4509-9733-577fe29a3dda"
      },
      "source": [
        "s.count(' ')\n"
      ],
      "execution_count": null,
      "outputs": [
        {
          "output_type": "execute_result",
          "data": {
            "text/plain": [
              "2"
            ]
          },
          "metadata": {
            "tags": []
          },
          "execution_count": 48
        }
      ]
    },
    {
      "cell_type": "code",
      "metadata": {
        "colab": {
          "base_uri": "https://localhost:8080/",
          "height": 35
        },
        "id": "VCCJLa9Txkzy",
        "outputId": "5e9143d7-bb81-489a-f862-696224141fd6"
      },
      "source": [
        "s.upper()"
      ],
      "execution_count": null,
      "outputs": [
        {
          "output_type": "execute_result",
          "data": {
            "application/vnd.google.colaboratory.intrinsic+json": {
              "type": "string"
            },
            "text/plain": [
              "'PAULLAB CEO LEEHOJUN'"
            ]
          },
          "metadata": {
            "tags": []
          },
          "execution_count": 49
        }
      ]
    },
    {
      "cell_type": "code",
      "metadata": {
        "colab": {
          "base_uri": "https://localhost:8080/",
          "height": 35
        },
        "id": "zY0aSrIEx7lL",
        "outputId": "73d17741-abea-4df7-c695-e991ef934ee5"
      },
      "source": [
        "s.lower()"
      ],
      "execution_count": null,
      "outputs": [
        {
          "output_type": "execute_result",
          "data": {
            "application/vnd.google.colaboratory.intrinsic+json": {
              "type": "string"
            },
            "text/plain": [
              "'paullab ceo leehojun'"
            ]
          },
          "metadata": {
            "tags": []
          },
          "execution_count": 50
        }
      ]
    },
    {
      "cell_type": "code",
      "metadata": {
        "colab": {
          "base_uri": "https://localhost:8080/"
        },
        "id": "Ybh-vTz4x9Ry",
        "outputId": "382fcb33-5155-43d6-c47c-61c40e615d4b"
      },
      "source": [
        "s.split(' ')"
      ],
      "execution_count": null,
      "outputs": [
        {
          "output_type": "execute_result",
          "data": {
            "text/plain": [
              "['paullab', 'CEO', 'leehojun']"
            ]
          },
          "metadata": {
            "tags": []
          },
          "execution_count": 51
        }
      ]
    },
    {
      "cell_type": "code",
      "metadata": {
        "colab": {
          "base_uri": "https://localhost:8080/",
          "height": 35
        },
        "id": "h2bMrmPQyCwT",
        "outputId": "8caf128a-4316-47bb-f0be-996d7214aed7"
      },
      "source": [
        "'-'.join(['a', 'b', 'c']) #전화번호, 우편번호와 같은 데이터 가공시 사용\n"
      ],
      "execution_count": null,
      "outputs": [
        {
          "output_type": "execute_result",
          "data": {
            "application/vnd.google.colaboratory.intrinsic+json": {
              "type": "string"
            },
            "text/plain": [
              "'a-b-c'"
            ]
          },
          "metadata": {
            "tags": []
          },
          "execution_count": 55
        }
      ]
    },
    {
      "cell_type": "code",
      "metadata": {
        "colab": {
          "base_uri": "https://localhost:8080/",
          "height": 35
        },
        "id": "MocP3tRYy5z7",
        "outputId": "6e835ac0-795c-4d87-dfaf-e85e7c586c8f"
      },
      "source": [
        "d = s.split(' ')\n",
        "'-'.join(d)\n"
      ],
      "execution_count": null,
      "outputs": [
        {
          "output_type": "execute_result",
          "data": {
            "application/vnd.google.colaboratory.intrinsic+json": {
              "type": "string"
            },
            "text/plain": [
              "'paullab-CEO-leehojun'"
            ]
          },
          "metadata": {
            "tags": []
          },
          "execution_count": 57
        }
      ]
    },
    {
      "cell_type": "code",
      "metadata": {
        "colab": {
          "base_uri": "https://localhost:8080/"
        },
        "id": "IAR_1APSzuXi",
        "outputId": "a2185435-dc9a-429c-d2d4-012774142eb0"
      },
      "source": [
        "dir(s)"
      ],
      "execution_count": null,
      "outputs": [
        {
          "output_type": "execute_result",
          "data": {
            "text/plain": [
              "['__add__',\n",
              " '__class__',\n",
              " '__contains__',\n",
              " '__delattr__',\n",
              " '__dir__',\n",
              " '__doc__',\n",
              " '__eq__',\n",
              " '__format__',\n",
              " '__ge__',\n",
              " '__getattribute__',\n",
              " '__getitem__',\n",
              " '__getnewargs__',\n",
              " '__gt__',\n",
              " '__hash__',\n",
              " '__init__',\n",
              " '__init_subclass__',\n",
              " '__iter__',\n",
              " '__le__',\n",
              " '__len__',\n",
              " '__lt__',\n",
              " '__mod__',\n",
              " '__mul__',\n",
              " '__ne__',\n",
              " '__new__',\n",
              " '__reduce__',\n",
              " '__reduce_ex__',\n",
              " '__repr__',\n",
              " '__rmod__',\n",
              " '__rmul__',\n",
              " '__setattr__',\n",
              " '__sizeof__',\n",
              " '__str__',\n",
              " '__subclasshook__',\n",
              " 'capitalize',\n",
              " 'casefold',\n",
              " 'center',\n",
              " 'count',\n",
              " 'encode',\n",
              " 'endswith',\n",
              " 'expandtabs',\n",
              " 'find',\n",
              " 'format',\n",
              " 'format_map',\n",
              " 'index',\n",
              " 'isalnum',\n",
              " 'isalpha',\n",
              " 'isascii',\n",
              " 'isdecimal',\n",
              " 'isdigit',\n",
              " 'isidentifier',\n",
              " 'islower',\n",
              " 'isnumeric',\n",
              " 'isprintable',\n",
              " 'isspace',\n",
              " 'istitle',\n",
              " 'isupper',\n",
              " 'join',\n",
              " 'ljust',\n",
              " 'lower',\n",
              " 'lstrip',\n",
              " 'maketrans',\n",
              " 'partition',\n",
              " 'replace',\n",
              " 'rfind',\n",
              " 'rindex',\n",
              " 'rjust',\n",
              " 'rpartition',\n",
              " 'rsplit',\n",
              " 'rstrip',\n",
              " 'split',\n",
              " 'splitlines',\n",
              " 'startswith',\n",
              " 'strip',\n",
              " 'swapcase',\n",
              " 'title',\n",
              " 'translate',\n",
              " 'upper',\n",
              " 'zfill']"
            ]
          },
          "metadata": {
            "tags": []
          },
          "execution_count": 59
        }
      ]
    },
    {
      "cell_type": "code",
      "metadata": {
        "colab": {
          "base_uri": "https://localhost:8080/"
        },
        "id": "BYSSgX2C0NCi",
        "outputId": "57b87f2b-df12-4296-af93-4288a4e892dd"
      },
      "source": [
        "s='            hello world'\n",
        "print(s)\n",
        "print(s.strip())  \n",
        "print(s.replace(' ',''))"
      ],
      "execution_count": null,
      "outputs": [
        {
          "output_type": "stream",
          "text": [
            "            hello world\n",
            "hello world\n",
            "helloworld\n"
          ],
          "name": "stdout"
        }
      ]
    },
    {
      "cell_type": "markdown",
      "metadata": {
        "id": "Vbz_ONCNcW_m"
      },
      "source": [
        "##리스트\n",
        "* 순서가 있고, 수정이 가능합니다."
      ]
    },
    {
      "cell_type": "code",
      "metadata": {
        "colab": {
          "base_uri": "https://localhost:8080/"
        },
        "id": "-tGt7mamcY5e",
        "outputId": "6a35bc8a-6612-407f-aa3f-74144006dbd9"
      },
      "source": [
        "a = [10, 20, 30, 40, 50, 60, 70, 15]\n",
        "\n",
        "a\n",
        "\n",
        "a[0] #0은 인덱스이고, a[0] 호출하는 것을 인덱싱(indexing)이라고 함\n",
        "\n",
        "a[0], a[1], a[2], a[3], a[4] #이렇게 나열하는 것은 번거롭다!\n",
        "a[0:5] #그래서 이렇게 표현할 수 있다. 슬라이싱이라고 함. 자료형[start:stop:step]\n",
        "a[::2] #2번째마다 출력해라\n",
        "a[::-1] #-1번째마다 출력해라. 현장에서 자주 사용함.\n",
        "a[0] = 1000\n",
        "\n",
        "a"
      ],
      "execution_count": null,
      "outputs": [
        {
          "output_type": "execute_result",
          "data": {
            "text/plain": [
              "[1000, 20, 30, 40, 50, 60, 70, 15]"
            ]
          },
          "metadata": {
            "tags": []
          },
          "execution_count": 5
        }
      ]
    },
    {
      "cell_type": "code",
      "metadata": {
        "colab": {
          "base_uri": "https://localhost:8080/"
        },
        "id": "1I2huv3rerCl",
        "outputId": "7d2b33fa-0aae-42c2-822a-caa39b5d9f29"
      },
      "source": [
        "dir(a)\n",
        "\n",
        "a.append(10)  # 값을 맨 뒤에 추가합니다. 현장에서 잘 씀. 맨 뒤에 10을 추가한다.\n",
        "a.clear()   # a에 모든 값을 비웁니다. 현장에서 잘 안 씀\n",
        "a.copy()    # a에 모든 값을 복사합니다.\n",
        "a.count()   # a에 특정한 값의 개수를 찾습니다. 현장에서 잘 씀\n",
        "a.extend([10, 20, 30])  # a에 맨 뒤에 여러개의 값을 추가합니다. 맨뒤에 10, 20, 30 값을 추가한다.\n",
        "a.index()   # a에서 특정한 값의 인덱스를 찾습니다.\n",
        "a.insert(2, 1000)  # a에 중간에 값을 삽입합니다. 2번째에 1000 값을 추가한다.\n",
        "a.pop()     # a에 맨 뒤에 값을 빼냅니다. 빼낸 값은 삭제됩니다. 현장에서 잘 씀\n",
        "a.remove()  # a에 특정한 값을 삭제합니다.\n",
        "a.reverse() # a에 값을 뒤집습니다. 현장에서 잘 씀\n",
        "a.sort()    # a의 값을 정렬합니다. 현장에서 잘 씀\n",
        "\n"
      ],
      "execution_count": null,
      "outputs": [
        {
          "output_type": "execute_result",
          "data": {
            "text/plain": [
              "['__add__',\n",
              " '__class__',\n",
              " '__contains__',\n",
              " '__delattr__',\n",
              " '__delitem__',\n",
              " '__dir__',\n",
              " '__doc__',\n",
              " '__eq__',\n",
              " '__format__',\n",
              " '__ge__',\n",
              " '__getattribute__',\n",
              " '__getitem__',\n",
              " '__gt__',\n",
              " '__hash__',\n",
              " '__iadd__',\n",
              " '__imul__',\n",
              " '__init__',\n",
              " '__init_subclass__',\n",
              " '__iter__',\n",
              " '__le__',\n",
              " '__len__',\n",
              " '__lt__',\n",
              " '__mul__',\n",
              " '__ne__',\n",
              " '__new__',\n",
              " '__reduce__',\n",
              " '__reduce_ex__',\n",
              " '__repr__',\n",
              " '__reversed__',\n",
              " '__rmul__',\n",
              " '__setattr__',\n",
              " '__setitem__',\n",
              " '__sizeof__',\n",
              " '__str__',\n",
              " '__subclasshook__',\n",
              " 'append',\n",
              " 'clear',\n",
              " 'copy',\n",
              " 'count',\n",
              " 'extend',\n",
              " 'index',\n",
              " 'insert',\n",
              " 'pop',\n",
              " 'remove',\n",
              " 'reverse',\n",
              " 'sort']"
            ]
          },
          "metadata": {
            "tags": []
          },
          "execution_count": 7
        }
      ]
    },
    {
      "cell_type": "code",
      "metadata": {
        "colab": {
          "base_uri": "https://localhost:8080/"
        },
        "id": "jI5suJp0gb94",
        "outputId": "205ca023-0f16-4f3e-aa45-f4610effd169"
      },
      "source": [
        "a.append(100)\n",
        "\n",
        "a"
      ],
      "execution_count": null,
      "outputs": [
        {
          "output_type": "execute_result",
          "data": {
            "text/plain": [
              "[1000, 20, 30, 40, 50, 60, 70, 15, 100, 100, 100, 100, 100]"
            ]
          },
          "metadata": {
            "tags": []
          },
          "execution_count": 10
        }
      ]
    },
    {
      "cell_type": "code",
      "metadata": {
        "colab": {
          "base_uri": "https://localhost:8080/"
        },
        "id": "hOxohUqUg2MJ",
        "outputId": "0e8743dc-5da5-426f-a7e6-5bf029140044"
      },
      "source": [
        "a.count(100)"
      ],
      "execution_count": null,
      "outputs": [
        {
          "output_type": "execute_result",
          "data": {
            "text/plain": [
              "5"
            ]
          },
          "metadata": {
            "tags": []
          },
          "execution_count": 13
        }
      ]
    },
    {
      "cell_type": "code",
      "metadata": {
        "colab": {
          "base_uri": "https://localhost:8080/"
        },
        "id": "xyIccBVRg6m1",
        "outputId": "639cbe56-2cf5-49fb-d73f-e445ca89919b"
      },
      "source": [
        "a.sort()\n",
        "\n",
        "a"
      ],
      "execution_count": null,
      "outputs": [
        {
          "output_type": "execute_result",
          "data": {
            "text/plain": [
              "[15, 20, 30, 40, 50, 60, 70, 100, 100, 100, 100, 100, 1000]"
            ]
          },
          "metadata": {
            "tags": []
          },
          "execution_count": 15
        }
      ]
    },
    {
      "cell_type": "code",
      "metadata": {
        "colab": {
          "base_uri": "https://localhost:8080/"
        },
        "id": "aDMPA5WFg9B-",
        "outputId": "5ced1a6a-c2b5-4749-c42e-c484b4e8523b"
      },
      "source": [
        "a.reverse()\n",
        "\n",
        "a\n"
      ],
      "execution_count": null,
      "outputs": [
        {
          "output_type": "execute_result",
          "data": {
            "text/plain": [
              "[15, 20, 30, 40, 50, 60, 70, 100, 100, 100, 100, 100, 1000]"
            ]
          },
          "metadata": {
            "tags": []
          },
          "execution_count": 19
        }
      ]
    },
    {
      "cell_type": "code",
      "metadata": {
        "colab": {
          "base_uri": "https://localhost:8080/"
        },
        "id": "WsZvpcOOiKPu",
        "outputId": "4d238456-7ebf-46f7-ad49-4fcc018c6b6e"
      },
      "source": [
        "a\n"
      ],
      "execution_count": null,
      "outputs": [
        {
          "output_type": "execute_result",
          "data": {
            "text/plain": [
              "[15, 20, 30, 40, 50, 60, 70, 100, 100, 100, 100, 100, 1000]"
            ]
          },
          "metadata": {
            "tags": []
          },
          "execution_count": 20
        }
      ]
    },
    {
      "cell_type": "markdown",
      "metadata": {
        "id": "9_VO7wMHivIP"
      },
      "source": [
        "##튜플, 딕셔너리, 셋\n"
      ]
    },
    {
      "cell_type": "code",
      "metadata": {
        "colab": {
          "base_uri": "https://localhost:8080/"
        },
        "id": "MQUnh1pJiynG",
        "outputId": "f5f3cb4c-ce55-4a70-b0d0-16059039e501"
      },
      "source": [
        "##튜플은 순서가 있고, 값을 변경할 수 없습니다.\n",
        "\n",
        "t = (10, 20, 30)\n",
        "t\n",
        "\n",
        "#수정할 수 없으므로, dir에서 인덱스와 카운터만 존재한다. 계좌번호와 같은 정보를 이런식으로 사용함"
      ],
      "execution_count": null,
      "outputs": [
        {
          "output_type": "execute_result",
          "data": {
            "text/plain": [
              "(10, 20, 30)"
            ]
          },
          "metadata": {
            "tags": []
          },
          "execution_count": 22
        }
      ]
    },
    {
      "cell_type": "code",
      "metadata": {
        "colab": {
          "base_uri": "https://localhost:8080/"
        },
        "id": "DdVM_M9Xi-FL",
        "outputId": "10b851de-3c0d-4c64-e944-a0df28cc2b23"
      },
      "source": [
        "dir(t)"
      ],
      "execution_count": null,
      "outputs": [
        {
          "output_type": "execute_result",
          "data": {
            "text/plain": [
              "['__add__',\n",
              " '__class__',\n",
              " '__contains__',\n",
              " '__delattr__',\n",
              " '__dir__',\n",
              " '__doc__',\n",
              " '__eq__',\n",
              " '__format__',\n",
              " '__ge__',\n",
              " '__getattribute__',\n",
              " '__getitem__',\n",
              " '__getnewargs__',\n",
              " '__gt__',\n",
              " '__hash__',\n",
              " '__init__',\n",
              " '__init_subclass__',\n",
              " '__iter__',\n",
              " '__le__',\n",
              " '__len__',\n",
              " '__lt__',\n",
              " '__mul__',\n",
              " '__ne__',\n",
              " '__new__',\n",
              " '__reduce__',\n",
              " '__reduce_ex__',\n",
              " '__repr__',\n",
              " '__rmul__',\n",
              " '__setattr__',\n",
              " '__sizeof__',\n",
              " '__str__',\n",
              " '__subclasshook__',\n",
              " 'count',\n",
              " 'index']"
            ]
          },
          "metadata": {
            "tags": []
          },
          "execution_count": 23
        }
      ]
    },
    {
      "cell_type": "code",
      "metadata": {
        "colab": {
          "base_uri": "https://localhost:8080/",
          "height": 35
        },
        "id": "YnpoqW2Gm3dP",
        "outputId": "483da12c-aca8-4b83-d870-7467747cd04d"
      },
      "source": [
        "# 딕셔너리\n",
        "\n",
        "영한번역 = {'one' : '하나', 'two' : '둘'}\n",
        "\n",
        "영한번역['one']\n",
        "\n",
        "#엑셀을 만들었을 때, 한 열에 기온데이터가 있다고 한다면 열별로 매칭이 가능하다. "
      ],
      "execution_count": null,
      "outputs": [
        {
          "output_type": "execute_result",
          "data": {
            "application/vnd.google.colaboratory.intrinsic+json": {
              "type": "string"
            },
            "text/plain": [
              "'하나'"
            ]
          },
          "metadata": {
            "tags": []
          },
          "execution_count": 27
        }
      ]
    },
    {
      "cell_type": "code",
      "metadata": {
        "colab": {
          "base_uri": "https://localhost:8080/"
        },
        "id": "_eySX2xVn6Ir",
        "outputId": "a239dd22-5b0b-4895-f464-0442c940df44"
      },
      "source": [
        "# 셋. 셋은 집합이다. (합집합, 차집합, 교집합). 많이 사용하지는 않음\n",
        "\n",
        "s = {10, 20, 30, 30, 30}\n",
        "\n",
        "s\n"
      ],
      "execution_count": null,
      "outputs": [
        {
          "output_type": "execute_result",
          "data": {
            "text/plain": [
              "{10, 20, 30}"
            ]
          },
          "metadata": {
            "tags": []
          },
          "execution_count": 29
        }
      ]
    },
    {
      "cell_type": "code",
      "metadata": {
        "colab": {
          "base_uri": "https://localhost:8080/"
        },
        "id": "9h0dutfCoKaA",
        "outputId": "da2d0cbd-5461-4dc0-962e-138774c5d61e"
      },
      "source": [
        "s = {10, 20, 30, 30, 30}\n",
        "ss = {10, 40, 50}\n",
        "\n",
        "s | ss #합집합\n",
        "s & ss #교집합\n",
        "s - ss #차집합\n"
      ],
      "execution_count": null,
      "outputs": [
        {
          "output_type": "execute_result",
          "data": {
            "text/plain": [
              "{20, 30}"
            ]
          },
          "metadata": {
            "tags": []
          },
          "execution_count": 33
        }
      ]
    },
    {
      "cell_type": "markdown",
      "metadata": {
        "id": "2bN0RSXsox1S"
      },
      "source": [
        "##f-string"
      ]
    },
    {
      "cell_type": "code",
      "metadata": {
        "colab": {
          "base_uri": "https://localhost:8080/"
        },
        "id": "aH_S5AHIownJ",
        "outputId": "b986a510-fdeb-4ea7-c15e-2cd04d6ce832"
      },
      "source": [
        "age =10\n",
        "name = 'ohchunghyeon'\n",
        "\n",
        "print('제 이름은 ohchunghyeon 입니다. 제 나이는 10 살입니다.')\n",
        "\n",
        "print('제 이름은',name,'입니다. 제 나이는',age,'살입니다.')\n",
        "\n",
        "print('제 이름은 {0} 입니다. 제 나이는 {1} 살입니다.' .format(name, age))\n",
        "\n",
        "print(f'제 이름은 {name} 입니다. 제 나이는 {age} 살입니다.') #이것만 쓰자!"
      ],
      "execution_count": null,
      "outputs": [
        {
          "output_type": "stream",
          "text": [
            "제 이름은 ohchunghyeon 입니다. 제 나이는 10 살입니다.\n",
            "제 이름은 ohchunghyeon 입니다. 제 나이는 10 살입니다.\n",
            "제 이름은 ohchunghyeon 입니다. 제 나이는 10 살입니다.\n",
            "제 이름은 ohchunghyeon 입니다. 제 나이는 10 살입니다.\n"
          ],
          "name": "stdout"
        }
      ]
    },
    {
      "cell_type": "markdown",
      "metadata": {
        "id": "dXxKIdvnsIP8"
      },
      "source": [
        "##Built in function\n",
        "\n",
        "* abs() : 절대값\n",
        "* min() : 최솟값\n",
        "* max() : 최댓값\n",
        "* dir() : 매서드 확인\n",
        "* id() : 메모리 주소 확인\n",
        "* sorted() : 정렬\n",
        "* reverse() : 역순 %역정렬이 아님\n",
        "* enumerate() : 순서를 매김 (for문 하면서 설명할 예정)\n",
        "\n",
        "* 형변환 : \n",
        "  * set() : 집합으로 형변환 \n",
        "  * dict() : 딕셔너리로 형변환\n",
        "  * int() : 불리언으로 형변환\n",
        "  * bool() ; 불리언으로 형변환\n",
        "  * int() : 정수형으로 형변환\n",
        "  * str() : 문자열으로 형변환\n",
        "  * list() : 리스트로 형변환\n",
        "\n",
        "* ord() : 문자를 숫자로 변환\n",
        "* chr() : 숫자를 문자로 변환\n",
        "* sum() : 전부 더함(더할수 없으면 에러)\n",
        "* filter() : 필터링(수학점수 90점 이상인 사람은? 이런식)\n",
        "* print() : 출력\n",
        "\n",
        "* format() : 콤마찍기\n",
        "* len() : 길이출력!! 중요!!!!!!!!\n",
        "* type() : 타입 알아보기 중요!!\n",
        "* range() : 연속된 값 생성(0~99 -> range(100)이라는 의미임. 100을 포함하지 않음)\n",
        "* zip('abc', 'def') \n",
        "* map(lambda x:x**2, [1,2,3])\n",
        "* round() : 소수점 반올림\n"
      ]
    },
    {
      "cell_type": "code",
      "metadata": {
        "colab": {
          "base_uri": "https://localhost:8080/"
        },
        "id": "FtGn-eIdwdvP",
        "outputId": "e71a3e0f-6340-432a-cf26-548cc7f0c039"
      },
      "source": [
        "list(zip('abc', 'def'))  #첫째자리끼리 묶고, 둘째자리끼리 묶고....\n"
      ],
      "execution_count": null,
      "outputs": [
        {
          "output_type": "execute_result",
          "data": {
            "text/plain": [
              "[('a', 'd'), ('b', 'e'), ('c', 'f')]"
            ]
          },
          "metadata": {
            "tags": []
          },
          "execution_count": 52
        }
      ]
    },
    {
      "cell_type": "code",
      "metadata": {
        "colab": {
          "base_uri": "https://localhost:8080/"
        },
        "id": "vbpF1IuuwmH2",
        "outputId": "5082b620-b804-4080-b2a0-c8291f73baba"
      },
      "source": [
        "list(map(lambda x:x**2, [1,2,3])) #제곱...."
      ],
      "execution_count": null,
      "outputs": [
        {
          "output_type": "execute_result",
          "data": {
            "text/plain": [
              "[1, 4, 9]"
            ]
          },
          "metadata": {
            "tags": []
          },
          "execution_count": 51
        }
      ]
    },
    {
      "cell_type": "markdown",
      "metadata": {
        "id": "bHLSaJ4Z0LgP"
      },
      "source": [
        "##조건문"
      ]
    },
    {
      "cell_type": "code",
      "metadata": {
        "colab": {
          "base_uri": "https://localhost:8080/"
        },
        "id": "XOEmFGqN1HDe",
        "outputId": "36f86706-d93e-494b-ff01-4873cf6bf3aa"
      },
      "source": [
        "if False:  #여기가 투르일 경우에만 아래를 실행함\n",
        "    print('hello')\n",
        "print('end')"
      ],
      "execution_count": null,
      "outputs": [
        {
          "output_type": "stream",
          "text": [
            "end\n"
          ],
          "name": "stdout"
        }
      ]
    },
    {
      "cell_type": "code",
      "metadata": {
        "colab": {
          "base_uri": "https://localhost:8080/"
        },
        "id": "QjEfYQZh0Ot-",
        "outputId": "ee054531-6164-4e66-cd5c-84b8128ee397"
      },
      "source": [
        "score = 89\n",
        "money = 0\n",
        "\n",
        "if score > 90:\n",
        "    print('mom : i\\'m so happy')\n",
        "    money += 1000000 # money = money + 1000000, 할당연산이라 부름\n",
        "elif score > 80:\n",
        "    print('mom : i\\'m happy')\n",
        "    money += 100000\n",
        "elif score > 70:\n",
        "    print('mom : happy?')\n",
        "    money += 10000    \n",
        "else:\n",
        "    print('mom : ...')\n",
        "    money += 1000\n",
        "\n",
        "print(money)"
      ],
      "execution_count": null,
      "outputs": [
        {
          "output_type": "stream",
          "text": [
            "mom : i'm happy\n",
            "100000\n"
          ],
          "name": "stdout"
        }
      ]
    },
    {
      "cell_type": "markdown",
      "metadata": {
        "id": "77-qVDJR2n_L"
      },
      "source": [
        "##문제풀이와 업다운 게임 제작\n",
        "\n",
        "1~10000까지 숫자 8의 개수를 구하시오."
      ]
    },
    {
      "cell_type": "code",
      "metadata": {
        "colab": {
          "base_uri": "https://localhost:8080/"
        },
        "id": "XMV_EKbP2snr",
        "outputId": "f6c051e8-3501-4dff-d98a-0019c7c8bcf6"
      },
      "source": [
        "str(list(range(100)))\n",
        "str(list(range(100))).count('8')\n",
        "str(list(range(10001))).count('8')\n",
        "\n"
      ],
      "execution_count": null,
      "outputs": [
        {
          "output_type": "execute_result",
          "data": {
            "text/plain": [
              "4000"
            ]
          },
          "metadata": {
            "tags": []
          },
          "execution_count": 64
        }
      ]
    },
    {
      "cell_type": "markdown",
      "metadata": {
        "id": "w4G1lYv-4tPT"
      },
      "source": [
        "거리가 가장 짧은 숫자 두개를 표시하시오."
      ]
    },
    {
      "cell_type": "code",
      "metadata": {
        "colab": {
          "base_uri": "https://localhost:8080/"
        },
        "id": "C7iWMOMW4uXD",
        "outputId": "6a2324da-56f0-4a2d-bd72-5407ce1ffae4"
      },
      "source": [
        "리스트 = [1, 3, 4, 8, 13, 17, 20]\n",
        "리스트둘 = 리스트[1:]\n",
        "\n",
        "리스트둘"
      ],
      "execution_count": null,
      "outputs": [
        {
          "output_type": "execute_result",
          "data": {
            "text/plain": [
              "[3, 4, 8, 13, 17, 20]"
            ]
          },
          "metadata": {
            "tags": []
          },
          "execution_count": 67
        }
      ]
    },
    {
      "cell_type": "code",
      "metadata": {
        "colab": {
          "base_uri": "https://localhost:8080/"
        },
        "id": "jP5frzv65MNq",
        "outputId": "8710a847-2c8a-4561-d085-6ecef9f9de99"
      },
      "source": [
        "list(zip(리스트, 리스트둘))"
      ],
      "execution_count": null,
      "outputs": [
        {
          "output_type": "execute_result",
          "data": {
            "text/plain": [
              "[(1, 3), (3, 4), (4, 8), (8, 13), (13, 17), (17, 20)]"
            ]
          },
          "metadata": {
            "tags": []
          },
          "execution_count": 69
        }
      ]
    },
    {
      "cell_type": "code",
      "metadata": {
        "colab": {
          "base_uri": "https://localhost:8080/"
        },
        "id": "jzeUEuoN5sjW",
        "outputId": "8a55042e-2fa3-49ce-fc9b-768d3824080d"
      },
      "source": [
        "묶어준리스트 = list(zip(리스트, 리스트둘))\n",
        "묶어준리스트.sort(key=lambda x:x[0]-x[1], reverse=True)\n",
        "묶어준리스트\n",
        "묶어준리스트[0]\n"
      ],
      "execution_count": null,
      "outputs": [
        {
          "output_type": "execute_result",
          "data": {
            "text/plain": [
              "(3, 4)"
            ]
          },
          "metadata": {
            "tags": []
          },
          "execution_count": 74
        }
      ]
    },
    {
      "cell_type": "code",
      "metadata": {
        "colab": {
          "base_uri": "https://localhost:8080/"
        },
        "id": "UcYZbnNH7EeQ",
        "outputId": "f303c201-d8c4-498d-b03b-79d3ab9d2af6"
      },
      "source": [
        "import random \n",
        "\n",
        "정답 = random.randint(1, 100)\n",
        "\n",
        "while True:\n",
        "    user = int(input('숫자를 입력하시오'))\n",
        "    if user < 정답 :\n",
        "        print('Up')\n",
        "    elif user > 정답 :\n",
        "        print('Down')\n",
        "    else:\n",
        "        print('정답!')\n",
        "        break\n",
        "    "
      ],
      "execution_count": null,
      "outputs": [
        {
          "output_type": "stream",
          "text": [
            "숫자를 입력하시오15\n",
            "Down\n",
            "숫자를 입력하시오7\n",
            "Up\n",
            "숫자를 입력하시오9\n",
            "Up\n",
            "숫자를 입력하시오10\n",
            "Up\n",
            "숫자를 입력하시오12\n",
            "정답!\n"
          ],
          "name": "stdout"
        }
      ]
    },
    {
      "cell_type": "markdown",
      "metadata": {
        "id": "DL65YScd-YnD"
      },
      "source": [
        "##반복문"
      ]
    },
    {
      "cell_type": "code",
      "metadata": {
        "colab": {
          "base_uri": "https://localhost:8080/"
        },
        "id": "nu_s-8DyBvu2",
        "outputId": "01bd08c1-d725-45c0-9d0b-07aacab93a57"
      },
      "source": [
        "list(range(10)) # stop만 있는 랭쥐\n",
        "list(range(0, 10, 2)) # start, stop, step이 있는 랭쥐\n",
        "list(range(5, 10))  # start, stop이 있는 랭쥐\n",
        "\n",
        "list(range(10, 5, -1)) # start, stop, step\n",
        "\n"
      ],
      "execution_count": null,
      "outputs": [
        {
          "output_type": "execute_result",
          "data": {
            "text/plain": [
              "[10, 9, 8, 7, 6]"
            ]
          },
          "metadata": {
            "tags": []
          },
          "execution_count": 82
        }
      ]
    },
    {
      "cell_type": "code",
      "metadata": {
        "colab": {
          "base_uri": "https://localhost:8080/"
        },
        "id": "OIlEfhiu7TLB",
        "outputId": "867619b9-de8e-4c74-eb51-828c043e4180"
      },
      "source": [
        "for i in range(10): #i가 마지막에 도달하는 동안 반복\n",
        "    print(i)\n"
      ],
      "execution_count": null,
      "outputs": [
        {
          "output_type": "stream",
          "text": [
            "0\n",
            "1\n",
            "2\n",
            "3\n",
            "4\n",
            "5\n",
            "6\n",
            "7\n",
            "8\n",
            "9\n"
          ],
          "name": "stdout"
        }
      ]
    },
    {
      "cell_type": "code",
      "metadata": {
        "colab": {
          "base_uri": "https://localhost:8080/"
        },
        "id": "PH4MfBHzCSgO",
        "outputId": "7c5ba89d-0b56-4a5f-c2d6-5df2ae6d939e"
      },
      "source": [
        "s = 0\n",
        "for i in range(101):\n",
        "    s = s + i\n",
        "\n",
        "print(s)\n"
      ],
      "execution_count": null,
      "outputs": [
        {
          "output_type": "stream",
          "text": [
            "5050\n"
          ],
          "name": "stdout"
        }
      ]
    },
    {
      "cell_type": "markdown",
      "metadata": {
        "id": "498KTPyRDj7x"
      },
      "source": [
        "0~100까지 2의 배수만 더하시오."
      ]
    },
    {
      "cell_type": "code",
      "metadata": {
        "colab": {
          "base_uri": "https://localhost:8080/"
        },
        "id": "MAWSUrzHChCW",
        "outputId": "495c58a3-6ad8-4cc2-8157-8fded289505c"
      },
      "source": [
        "s = 0\n",
        "\n",
        "for i in range(51):\n",
        "    s = s + (i*2)\n",
        "\n",
        "print(s)"
      ],
      "execution_count": null,
      "outputs": [
        {
          "output_type": "stream",
          "text": [
            "2550\n"
          ],
          "name": "stdout"
        }
      ]
    },
    {
      "cell_type": "code",
      "metadata": {
        "colab": {
          "base_uri": "https://localhost:8080/"
        },
        "id": "Eh_WnEXbDpxo",
        "outputId": "3a50161f-afca-4974-b0c7-32a79fb85a6b"
      },
      "source": [
        "sum(range(0, 101, 2))"
      ],
      "execution_count": null,
      "outputs": [
        {
          "output_type": "execute_result",
          "data": {
            "text/plain": [
              "2550"
            ]
          },
          "metadata": {
            "tags": []
          },
          "execution_count": 89
        }
      ]
    },
    {
      "cell_type": "code",
      "metadata": {
        "colab": {
          "base_uri": "https://localhost:8080/"
        },
        "id": "jgILWjPUDtjg",
        "outputId": "85c1d39a-8bad-4d48-fb2f-2e0f24e41501"
      },
      "source": [
        "s = 0\n",
        "\n",
        "for i in range(0, 101, 2):\n",
        "    s = s + i\n",
        "\n",
        "print(s)\n"
      ],
      "execution_count": null,
      "outputs": [
        {
          "output_type": "stream",
          "text": [
            "2550\n"
          ],
          "name": "stdout"
        }
      ]
    },
    {
      "cell_type": "code",
      "metadata": {
        "colab": {
          "base_uri": "https://localhost:8080/"
        },
        "id": "uXfO6IVrD_Gg",
        "outputId": "4bc917d8-35c3-456e-efe2-76be579ab7bb"
      },
      "source": [
        "s = 0\n",
        "\n",
        "for i in range(101):\n",
        "    if i % 2 == 0:\n",
        "        s = s + i\n",
        "\n",
        "print(s)"
      ],
      "execution_count": null,
      "outputs": [
        {
          "output_type": "stream",
          "text": [
            "2550\n"
          ],
          "name": "stdout"
        }
      ]
    },
    {
      "cell_type": "markdown",
      "metadata": {
        "id": "REGA7qFIEt7j"
      },
      "source": [
        "구구단을 출력해보자"
      ]
    },
    {
      "cell_type": "code",
      "metadata": {
        "colab": {
          "base_uri": "https://localhost:8080/"
        },
        "id": "xOw6ZfZ1EwnN",
        "outputId": "ec4bb7fe-c34b-4a94-b426-97253d6e613b"
      },
      "source": [
        "for n in range(2, 10):\n",
        "    for i in range(1,10):\n",
        "        print(f'{n}×{i} = {n*i}')\n"
      ],
      "execution_count": null,
      "outputs": [
        {
          "output_type": "stream",
          "text": [
            "2×1 = 2\n",
            "2×2 = 4\n",
            "2×3 = 6\n",
            "2×4 = 8\n",
            "2×5 = 10\n",
            "2×6 = 12\n",
            "2×7 = 14\n",
            "2×8 = 16\n",
            "2×9 = 18\n",
            "3×1 = 3\n",
            "3×2 = 6\n",
            "3×3 = 9\n",
            "3×4 = 12\n",
            "3×5 = 15\n",
            "3×6 = 18\n",
            "3×7 = 21\n",
            "3×8 = 24\n",
            "3×9 = 27\n",
            "4×1 = 4\n",
            "4×2 = 8\n",
            "4×3 = 12\n",
            "4×4 = 16\n",
            "4×5 = 20\n",
            "4×6 = 24\n",
            "4×7 = 28\n",
            "4×8 = 32\n",
            "4×9 = 36\n",
            "5×1 = 5\n",
            "5×2 = 10\n",
            "5×3 = 15\n",
            "5×4 = 20\n",
            "5×5 = 25\n",
            "5×6 = 30\n",
            "5×7 = 35\n",
            "5×8 = 40\n",
            "5×9 = 45\n",
            "6×1 = 6\n",
            "6×2 = 12\n",
            "6×3 = 18\n",
            "6×4 = 24\n",
            "6×5 = 30\n",
            "6×6 = 36\n",
            "6×7 = 42\n",
            "6×8 = 48\n",
            "6×9 = 54\n",
            "7×1 = 7\n",
            "7×2 = 14\n",
            "7×3 = 21\n",
            "7×4 = 28\n",
            "7×5 = 35\n",
            "7×6 = 42\n",
            "7×7 = 49\n",
            "7×8 = 56\n",
            "7×9 = 63\n",
            "8×1 = 8\n",
            "8×2 = 16\n",
            "8×3 = 24\n",
            "8×4 = 32\n",
            "8×5 = 40\n",
            "8×6 = 48\n",
            "8×7 = 56\n",
            "8×8 = 64\n",
            "8×9 = 72\n",
            "9×1 = 9\n",
            "9×2 = 18\n",
            "9×3 = 27\n",
            "9×4 = 36\n",
            "9×5 = 45\n",
            "9×6 = 54\n",
            "9×7 = 63\n",
            "9×8 = 72\n",
            "9×9 = 81\n"
          ],
          "name": "stdout"
        }
      ]
    },
    {
      "cell_type": "markdown",
      "metadata": {
        "id": "3EmRd-w9Gin1"
      },
      "source": [
        "2단만 while문으로 출력해보자"
      ]
    },
    {
      "cell_type": "code",
      "metadata": {
        "colab": {
          "base_uri": "https://localhost:8080/"
        },
        "id": "5C-OaxBkGIz0",
        "outputId": "64ee6b5d-18a3-4967-bcbe-ab09d30ae9ba"
      },
      "source": [
        "x = 1\n",
        "\n",
        "while x < 10: #x는 10보다 작나요? 그렇습니다. 그러면 실행합니다. 10보다 크다면 실행하지 않습니다.\n",
        "    print(f'{2}×{x} = {2*x}')\n",
        "    x +=1\n",
        "print( )\n",
        "print(x)"
      ],
      "execution_count": null,
      "outputs": [
        {
          "output_type": "stream",
          "text": [
            "2×1 = 2\n",
            "2×2 = 4\n",
            "2×3 = 6\n",
            "2×4 = 8\n",
            "2×5 = 10\n",
            "2×6 = 12\n",
            "2×7 = 14\n",
            "2×8 = 16\n",
            "2×9 = 18\n",
            "\n",
            "10\n"
          ],
          "name": "stdout"
        }
      ]
    },
    {
      "cell_type": "markdown",
      "metadata": {
        "id": "V68M2rvRH-V9"
      },
      "source": [
        "##모듈\n",
        "\n",
        "* filename = test.py % '.py'는 파이썬으로 쓸 수 있는 파일\n",
        "* name = 'ohchunghyeon'\n",
        "* age = 10\n"
      ]
    },
    {
      "cell_type": "code",
      "metadata": {
        "colab": {
          "base_uri": "https://localhost:8080/"
        },
        "id": "lwhwqRNuIAP9",
        "outputId": "44e68bbb-9df3-44c9-b6cf-e86fe8f17663"
      },
      "source": [
        "import test\n",
        "\n",
        "#import test as t #단어가 길때는 줄여서 사용가능\n",
        "\n",
        "#from test import name, age\n",
        "\n",
        "print(t.name)\n",
        "print(t.age)\n"
      ],
      "execution_count": null,
      "outputs": [
        {
          "output_type": "stream",
          "text": [
            "ohchunghyeon\n",
            "10\n"
          ],
          "name": "stdout"
        }
      ]
    },
    {
      "cell_type": "markdown",
      "metadata": {
        "id": "MMlpX_987pkL"
      },
      "source": [
        "##함수\n",
        "* 재사용성을 높일 수 있다.\n",
        "* 코드의 구조를 파악하기 쉽다.\n",
        "* 유지보수를 쉽게 할 수 있다."
      ]
    },
    {
      "cell_type": "code",
      "metadata": {
        "colab": {
          "base_uri": "https://localhost:8080/"
        },
        "id": "G6RxJaVX7rTC",
        "outputId": "00964b96-c50b-4eaa-a229-656ec4b3ad71"
      },
      "source": [
        "def 더하기(x, y):\n",
        "    return x+y\n",
        "\n",
        "더하기(10, 20)"
      ],
      "execution_count": 11,
      "outputs": [
        {
          "output_type": "execute_result",
          "data": {
            "text/plain": [
              "30"
            ]
          },
          "metadata": {
            "tags": []
          },
          "execution_count": 11
        }
      ]
    },
    {
      "cell_type": "code",
      "metadata": {
        "colab": {
          "base_uri": "https://localhost:8080/"
        },
        "id": "CiTYKqP98Ix5",
        "outputId": "f81baa0d-14cf-4a5d-c35a-e4ac1dd33e37"
      },
      "source": [
        "def 원의넓이(r):\n",
        "    return (r**2)*3.14\n",
        "\n",
        "print(원의넓이(10)+100)\n",
        "print(원의넓이(10)+50)"
      ],
      "execution_count": 14,
      "outputs": [
        {
          "output_type": "stream",
          "text": [
            "414.0\n",
            "364.0\n"
          ],
          "name": "stdout"
        }
      ]
    },
    {
      "cell_type": "code",
      "metadata": {
        "colab": {
          "base_uri": "https://localhost:8080/"
        },
        "id": "edIGDi9W8eNq",
        "outputId": "9c5dbaa8-6922-4017-ea24-52dcae7c39ad"
      },
      "source": [
        "점수 = [10, 20, 30, 40]\n",
        "\n",
        "def 평균(반점수):\n",
        "    s = 0\n",
        "    for i in 반점수:\n",
        "        s += i\n",
        "    return s / len(반점수)\n",
        "\n",
        "print(평균(점수))\n",
        "print(평균(점수) + 5)\n"
      ],
      "execution_count": 19,
      "outputs": [
        {
          "output_type": "stream",
          "text": [
            "25.0\n",
            "30.0\n"
          ],
          "name": "stdout"
        }
      ]
    },
    {
      "cell_type": "markdown",
      "metadata": {
        "id": "wJ3lRPI8LDop"
      },
      "source": [
        "##파일 입출력"
      ]
    },
    {
      "cell_type": "code",
      "metadata": {
        "id": "yCERBJa5LDA-"
      },
      "source": [
        "f = open(\"구구단.txt\", 'w')  # r(읽음), w(작성, 덮어씀), a(추가)\n",
        "data = ''\n",
        "for n in range(2, 10):\n",
        "    for i in range(1,10):\n",
        "        data += f'{n}×{i} = {n*i}\\n'\n",
        "f.write(data)\n",
        "f.close()\n"
      ],
      "execution_count": null,
      "outputs": []
    },
    {
      "cell_type": "markdown",
      "metadata": {
        "id": "0xrNeeqn32Ee"
      },
      "source": [
        "##클래스\n",
        "\n",
        "* 현실세계의 개념을 Code로 옮겨놓은 것\n",
        "* 클래스의 첫 문자열은 대문자로 쓴다! (강제사항은 아니지만, 관습이다)"
      ]
    },
    {
      "cell_type": "code",
      "metadata": {
        "id": "wzvh6LaH38fs"
      },
      "source": [
        "class Car:\n",
        "\n",
        "  # 클래스 변수 또는 맴버\n",
        "\n",
        "    maxspeed = 300\n",
        "    maxpeople = 5\n",
        "    \n",
        "    #매서드\n",
        "\n",
        "    def start(self):\n",
        "      print('출발하였습니다.')\n",
        "    \n",
        "    def stop(self):\n",
        "      print('멈췄습니다.')"
      ],
      "execution_count": 8,
      "outputs": []
    },
    {
      "cell_type": "code",
      "metadata": {
        "colab": {
          "base_uri": "https://localhost:8080/"
        },
        "id": "cZ_S4gAk5XBb",
        "outputId": "94f9c37f-a544-4244-f519-1db38d3ac45b"
      },
      "source": [
        "audi = Car()  # audi라는 인스턴스를 생성한다\n",
        "bmw = Car()   # bmw라는 인스턴스 생성한다\n",
        "\n",
        "audi.start()\n",
        "print(audi.maxpeople)\n",
        "print(audi.maxspeed)  # 예시이지, 현장에서는 이렇게 사용하지 않음\n"
      ],
      "execution_count": 6,
      "outputs": [
        {
          "output_type": "stream",
          "text": [
            "출발하였습니다.\n",
            "5\n",
            "300\n"
          ],
          "name": "stdout"
        }
      ]
    },
    {
      "cell_type": "code",
      "metadata": {
        "colab": {
          "base_uri": "https://localhost:8080/"
        },
        "id": "S7Y89fLs6hnL",
        "outputId": "509d35f8-438f-496e-df09-bc05171c710c"
      },
      "source": [
        "dir(audi)"
      ],
      "execution_count": 20,
      "outputs": [
        {
          "output_type": "execute_result",
          "data": {
            "text/plain": [
              "['__class__',\n",
              " '__delattr__',\n",
              " '__dict__',\n",
              " '__dir__',\n",
              " '__doc__',\n",
              " '__eq__',\n",
              " '__format__',\n",
              " '__ge__',\n",
              " '__getattribute__',\n",
              " '__gt__',\n",
              " '__hash__',\n",
              " '__init__',\n",
              " '__init_subclass__',\n",
              " '__le__',\n",
              " '__lt__',\n",
              " '__module__',\n",
              " '__ne__',\n",
              " '__new__',\n",
              " '__reduce__',\n",
              " '__reduce_ex__',\n",
              " '__repr__',\n",
              " '__setattr__',\n",
              " '__sizeof__',\n",
              " '__str__',\n",
              " '__subclasshook__',\n",
              " '__weakref__',\n",
              " 'maxpeople',\n",
              " 'maxspeed',\n",
              " 'start',\n",
              " 'stop']"
            ]
          },
          "metadata": {
            "tags": []
          },
          "execution_count": 20
        }
      ]
    },
    {
      "cell_type": "code",
      "metadata": {
        "colab": {
          "base_uri": "https://localhost:8080/"
        },
        "id": "NS-zSKGG_SXR",
        "outputId": "11285bd2-ad6e-4c61-bd10-4734e8d43898"
      },
      "source": [
        "class 전기차(Car):\n",
        "    배터리 = 100\n",
        "    배터리에_따라_갈_수_있는_거리 = 300\n",
        "\n",
        "전기차audi = 전기차()\n",
        "전기차audi.start()\n",
        "전기차audi.배터리"
      ],
      "execution_count": 25,
      "outputs": [
        {
          "output_type": "stream",
          "text": [
            "출발하였습니다.\n"
          ],
          "name": "stdout"
        },
        {
          "output_type": "execute_result",
          "data": {
            "text/plain": [
              "100"
            ]
          },
          "metadata": {
            "tags": []
          },
          "execution_count": 25
        }
      ]
    },
    {
      "cell_type": "markdown",
      "metadata": {
        "id": "gtMdnG2dnh-8"
      },
      "source": [
        "#책추천"
      ]
    },
    {
      "cell_type": "markdown",
      "metadata": {
        "id": "PILT6iNbnnUr"
      },
      "source": [
        "- 머신러닝 : 혼자 공부하는 머신러닝생활코딩(사이트)->데이터과학(강의)\n",
        "- 인프런 : 권철민-파이썬 머신러닝 완벽 가이드\n",
        "- 파이썬 : 러닝파이썬 상하, 전문가르 위한 파이썬\n",
        "- 데이터분석 : 판다스 쿡 북, 파이썬 머신러닝 판다스 데이터분석 \n",
        "- 모두의 빅러닝\n",
        "- github 사이트 - 코어개발자 찾기, 개발자의 강의 찾기\n",
        "- 코딩 기출 문제(기업문제 등) - 코딩도장, 백준(답을 못봄)\n",
        "- 정규표현식\n",
        "- paullab.co.kr (제주 코딩 베이스캠프)\n",
        "- 제주청년들을 위한 단톡방 존재. 대표님이 직접 공지글을 매주 올림. 대화없음.\n",
        "- 유투브 제주코딩베이스캠프 구독!\n"
      ]
    }
  ]
}